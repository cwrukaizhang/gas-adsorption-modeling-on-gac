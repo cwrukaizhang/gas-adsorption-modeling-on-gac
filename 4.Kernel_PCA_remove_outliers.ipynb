{
 "cells": [
  {
   "cell_type": "code",
   "execution_count": 1,
   "metadata": {},
   "outputs": [],
   "source": [
    "import pandas as pd\n",
    "import numpy as np\n",
    "import os\n",
    "\n",
    "def pred_dataset(file_names):\n",
    "    source_path = 'C:/Kai_Zhang/MachineLearning/Unified gas Adsorption/CO2_adsorption/new_data'\n",
    "    data_df = pd.DataFrame()\n",
    "    \n",
    "    for file_name in file_names:\n",
    "        temp_data = pd.read_excel(os.path.join(source_path,file_name+'-02-02-2022.xlsx'),skiprows= 1 )\n",
    "        \n",
    "        temp_data = temp_data.dropna(axis=0,how = 'any',subset = [\"BET\",'Vt'])\n",
    "        temp_data = temp_data[temp_data['Pressure']>0.01]\n",
    "        #temp_data = temp_data[temp_data['Vmic']<2]\n",
    "        index = list(set(temp_data['Index'].values))\n",
    "        #print(len(index))\n",
    "        #test_index= np.random.choice(index,int(0.2*len(index)),replace=False)\n",
    "        #train_x = temp_data.loc[~temp_data['Index'].isin( test_index)]\n",
    "        #test_x = temp_data.loc[temp_data['Index'].isin(test_index)]\n",
    "        \n",
    "        #train_df = pd.concat([train_df,train_x],axis=0)\n",
    "        data_df = pd.concat([data_df,temp_data],axis =0)\n",
    "    return data_df"
   ]
  },
  {
   "cell_type": "code",
   "execution_count": 253,
   "metadata": {},
   "outputs": [],
   "source": [
    "data = pred_dataset(['Methane']) #'Ethane&Ethylene'"
   ]
  },
  {
   "cell_type": "code",
   "execution_count": 310,
   "metadata": {},
   "outputs": [],
   "source": [
    "from sklearn.decomposition import KernelPCA,SparsePCA\n",
    "from sklearn.preprocessing import MinMaxScaler"
   ]
  },
  {
   "cell_type": "code",
   "execution_count": 287,
   "metadata": {},
   "outputs": [
    {
     "data": {
      "text/plain": [
       "KernelPCA(fit_inverse_transform=True, gamma=0.01, kernel='poly',\n",
       "          max_iter=1000000, n_jobs=-1)"
      ]
     },
     "execution_count": 287,
     "metadata": {},
     "output_type": "execute_result"
    }
   ],
   "source": [
    "total_feature = [\"Index\",'BET','Vt','Temp(K)']\n",
    "pca_feature =  ['BET','Vt','Temp(K)']\n",
    "sub_data = data[total_feature].drop_duplicates()\n",
    "sub_data_scalered = MinMaxScaler().fit_transform(sub_data[pca_feature].values)\n",
    "kernel_pca = KernelPCA(kernel='poly',max_iter =1000000,n_jobs =-1,gamma=1e-2,fit_inverse_transform=True)\n",
    "sparce_pca = SparsePCA(max_iter=1000000)\n",
    "kernel_pca.fit(sub_data_scalered,)"
   ]
  },
  {
   "cell_type": "code",
   "execution_count": null,
   "metadata": {},
   "outputs": [],
   "source": [
    "# saprce_pca\n",
    "total_feature = [\"Index\",'BET','Vt','Temp(K)']\n",
    "pca_feature =  ['BET','Vt','Temp(K)']\n",
    "sub_data = data[total_feature].drop_duplicates()\n",
    "sub_data_scalered = MinMaxScaler().fit_transform(sub_data[pca_feature].values)\n",
    "sparce_pca = SparsePCA(max_iter=1000000)\n",
    "sparce_pca.fit(sub_data_scalered,)\n",
    "num_feature = 3\n",
    "sub_data_transformed = sparce_pca.fit_transform(sub_data_scalered.reshape(num_feature,-1))\n",
    "reconstructed = sparce_pca.inverse_transform(sub_data_transformed.reshape(num_feature,-1))\n",
    "mean_squared_error(sub_data_scalered,reconstructed.reshape(-1,num_feature))"
   ]
  },
  {
   "cell_type": "code",
   "execution_count": 288,
   "metadata": {},
   "outputs": [],
   "source": [
    "# for cfcs only\n",
    "total_feature = [\"Index\",'BET','Vt','Temp(K)']\n",
    "pca_feature =  ['BET','Vt','Temp(K)']\n",
    "sub_data = data[total_feature].drop_duplicates()\n",
    "sub_data_scalered = MinMaxScaler().fit_transform(sub_data[pca_feature].values)\n",
    "kernel_pca = KernelPCA(kernel='poly',max_iter =1000000,n_jobs =-1,gamma=1e-3,fit_inverse_transform=True)\n",
    "kernel_pca.fit(sub_data_scalered,)\n",
    "num_feature = 3"
   ]
  },
  {
   "cell_type": "code",
   "execution_count": 289,
   "metadata": {},
   "outputs": [],
   "source": [
    "sub_data_transformed = kernel_pca.fit_transform(sub_data_scalered.reshape(num_feature,-1))\n",
    "reconstructed = kernel_pca.inverse_transform(sub_data_transformed.reshape(num_feature,-1))"
   ]
  },
  {
   "cell_type": "code",
   "execution_count": 290,
   "metadata": {},
   "outputs": [
    {
     "data": {
      "text/plain": [
       "0.03137681913977072"
      ]
     },
     "execution_count": 290,
     "metadata": {},
     "output_type": "execute_result"
    }
   ],
   "source": [
    "mean_squared_error(sub_data_scalered,reconstructed.reshape(-1,num_feature))"
   ]
  },
  {
   "cell_type": "code",
   "execution_count": 291,
   "metadata": {},
   "outputs": [],
   "source": [
    "from sklearn.metrics import mean_squared_error\n",
    "mses = []\n",
    "for i in range(len(sub_data_scalered)):\n",
    "    mses.append(mean_squared_error(sub_data_scalered[i],reconstructed.reshape(-1,num_feature)[i]))"
   ]
  },
  {
   "cell_type": "code",
   "execution_count": 292,
   "metadata": {},
   "outputs": [
    {
     "data": {
      "text/plain": [
       "(array([448., 152.,  62.,  62.,  26.,  33.,  18.,  10.,   4.,   5.]),\n",
       " array([0.00026518, 0.0189685 , 0.03767182, 0.05637514, 0.07507845,\n",
       "        0.09378177, 0.11248509, 0.13118841, 0.14989172, 0.16859504,\n",
       "        0.18729836]),\n",
       " <BarContainer object of 10 artists>)"
      ]
     },
     "execution_count": 292,
     "metadata": {},
     "output_type": "execute_result"
    },
    {
     "data": {
      "image/png": "[encoded data removed]",
      "text/plain": [
       "<Figure size 432x288 with 1 Axes>"
      ]
     },
     "metadata": {
      "needs_background": "light"
     },
     "output_type": "display_data"
    }
   ],
   "source": [
    "import matplotlib.pyplot as plt\n",
    "\n",
    "plt.hist(mses)"
   ]
  },
  {
   "cell_type": "code",
   "execution_count": 293,
   "metadata": {},
   "outputs": [],
   "source": [
    "df_mse = pd.DataFrame(mses,columns = ['MSE'])\n",
    "df_mse['Indexs'] = sub_data[\"Index\"].drop_duplicates().values\n",
    "df_mse.to_csv('./Methane_3_kernel_pca_re_mse.csv')"
   ]
  },
  {
   "cell_type": "code",
   "execution_count": 302,
   "metadata": {},
   "outputs": [
    {
     "data": {
      "text/plain": [
       "9"
      ]
     },
     "execution_count": 302,
     "metadata": {},
     "output_type": "execute_result"
    }
   ],
   "source": [
    "index_removed = df_mse[df_mse[\"MSE\"]>0.15][\"Indexs\"].values.tolist()  # for E&E >0.16,methane>0.125\n",
    "len(index_removed)"
   ]
  },
  {
   "cell_type": "code",
   "execution_count": 303,
   "metadata": {},
   "outputs": [
    {
     "data": {
      "text/plain": [
       "[2783, 2784, 2942, 2943, 3199, 3236, 3237, 3546, 3547]"
      ]
     },
     "execution_count": 303,
     "metadata": {},
     "output_type": "execute_result"
    }
   ],
   "source": [
    "index_removed"
   ]
  },
  {
   "cell_type": "markdown",
   "metadata": {},
   "source": [
    "# training models"
   ]
  },
  {
   "cell_type": "code",
   "execution_count": null,
   "metadata": {},
   "outputs": [],
   "source": []
  },
  {
   "cell_type": "code",
   "execution_count": 304,
   "metadata": {},
   "outputs": [],
   "source": [
    "from sklearn.tree import DecisionTreeRegressor\n",
    "from sklearn.ensemble import AdaBoostRegressor,GradientBoostingRegressor,\\\n",
    "    BaggingRegressor,ExtraTreesRegressor,RandomForestRegressor\n",
    "from lightgbm import LGBMRegressor  \n",
    "from sklearn.svm import SVR\n",
    "  \n",
    "n_estimators = [50,100,120,150,180,200]\n",
    "\n",
    "# define different models#,\n",
    "models = [\n",
    "    #('SVR',SVR(max_iter=100000)),\n",
    "    #('DT',DecisionTreeRegressor(random_state=42)),\\\n",
    "    # ('ADBR',AdaBoostRegressor(random_state=42)), \n",
    "    (\"GBR\",GradientBoostingRegressor(random_state=42)),\\\n",
    "    #('BG',BaggingRegressor(random_state=42,n_jobs=-1)),\n",
    "    ('ETR',ExtraTreesRegressor(random_state=42,n_jobs=-1)),\\\n",
    "    #('RF',RandomForestRegressor(n_jobs=-1,random_state=42)),\n",
    "    ('LGBM',LGBMRegressor(n_jobs = -1,random_state = 42)),\\\n",
    "    ('BGLGBM',BaggingRegressor(LGBMRegressor(n_estimators = 200, n_jobs = -1,random_state = 42), random_state=42,n_jobs=-1)),\\\n",
    "    #('BGETR',BaggingRegressor(ExtraTreesRegressor(n_estimators = 180,random_state=42,n_jobs=6),random_state=42,n_jobs=-1))\n",
    "    ]\n",
    "\n",
    "# set search parameters grid for different models\n",
    "para_grids = { \n",
    "    'SVR':{'kernel':['linear','poly','rbf','sigmoid','precomputed']},\\\n",
    "    'DT':{'criterion':['squared_error', 'friedman_mse', 'absolute_error', 'poisson']},\\\n",
    "    'ADBR':{'n_estimators':n_estimators,'learning_rate':[0.1,0.5,1,2],'loss':['linear','square','exponential']},\\\n",
    "    'GBR':{'n_estimators':n_estimators,'learning_rate':[0.1,0.5,1,2]},\\\n",
    "    'BG':{'n_estimators':[10,50,100]},\\\n",
    "    'ETR':{'n_estimators':n_estimators},\\\n",
    "    'RF':{'n_estimators':n_estimators},\\\n",
    "    'LGBM':{'num_leaves':[10,20,30,50],'learning_rate': [0.05,0.1,0.5,1],'n_estimators':n_estimators},\\\n",
    "    'BGLGBM':{'n_estimators':[10,30,50]},\\\n",
    "    'BGETR':{'n_estimators':[10]}\n",
    "    }"
   ]
  },
  {
   "cell_type": "code",
   "execution_count": 305,
   "metadata": {},
   "outputs": [],
   "source": [
    "from sklearn.model_selection import GridSearchCV,cross_validate,GroupKFold\n",
    "from sklearn.ensemble import ExtraTreesRegressor\n",
    "from  sklearn.metrics import mean_squared_error,r2_score\n",
    "from sklearn.utils import shuffle\n",
    "\n",
    "def model_CV(train_x,train_y,groups,model,para_grid):\n",
    "\n",
    "    out_cv = GroupKFold(n_splits = 5)\n",
    "    result = GridSearchCV(model,para_grid,cv= out_cv.get_n_splits(groups =groups),\n",
    "    scoring='neg_mean_squared_error', return_train_score=True,n_jobs=-1)\n",
    "    result.fit(train_x,train_y)\n",
    "    \n",
    "    model_refit =model.set_params(**result.best_params_)\n",
    "    train_cv = cross_validate(model_refit,train_x,train_y,groups = groups,cv =out_cv,scoring = ('r2', 'neg_mean_squared_error'))\n",
    "    train_mse_cv = -train_cv['test_neg_mean_squared_error'].mean()\n",
    "    train_r2_cv = train_cv['test_r2'].mean()\n",
    "    \n",
    "    return [train_r2_cv,train_mse_cv],result.best_params_\n",
    "\n",
    "# model evaluation\n",
    "def model_eval(model,test_x,test_y):\n",
    "      \n",
    "    test_pre = model.predict(test_x)\n",
    "    test_r2 = r2_score(test_pre,test_y)\n",
    "    test_mse = mean_squared_error(test_y,test_pre)\n",
    "    return test_r2,test_mse\n",
    "\n",
    "# comparing different models\n",
    "def model_comparison(model_list,para_grids,feature_list,gas_list):\n",
    "    gas_list = gas_list \n",
    "    input_feature = feature_list\n",
    "    output = ['Adsorp(mmol/g)']\n",
    "    result_total = []\n",
    "\n",
    "    for gas in gas_list:\n",
    "        \n",
    "        if gas =='total':\n",
    "\n",
    "            train_df_com = train_df\n",
    "            test_df_com = test_df\n",
    "            train_x = train_df_com[input_feature]\n",
    "            test_x = test_df_com[input_feature]\n",
    "            train_y = train_df_com[output].values\n",
    "            test_y = test_df_com[output].values\n",
    "            groups = train_df_com['Index'].values\n",
    "            train_x, train_y, groups = shuffle(train_x, train_y, groups, random_state=42)\n",
    "            \n",
    "            for model_name, model in model_list:\n",
    "\n",
    "                result, best_param = model_CV(train_x,train_y.squeeze(),groups,model,para_grids[model_name])\n",
    "                model_refit = model.set_params(**best_param)\n",
    "                model_refit.fit(train_x,train_y.squeeze())\n",
    "                test_r2_total,test_mse_total = model_eval(model_refit,test_x,test_y.squeeze()) \n",
    "                for gases in gas_list[1:]:\n",
    "                    test_df_com = test_df[test_df['Label']==gases]\n",
    "                    test_xs = test_df_com[input_feature]\n",
    "                    test_ys = test_df_com[output].values\n",
    "                    test_r2,test_mse = model_eval(model_refit,test_xs,test_ys.squeeze()) \n",
    "                    result_total.append([gases,model_name+'_total',result[0],result[1],test_r2_total,test_mse_total,test_r2,test_mse,best_param])\n",
    "\n",
    "                    print('Dataset {}, Algorithm {}, Test_r2 {}, Test_error {}'.format(gas,model_name+'_total',test_r2,test_mse))    \n",
    "        \n",
    "        else:\n",
    "            train_df_com = train_df[train_df['Label']==gas]\n",
    "            test_df_com = test_df[test_df['Label']==gas]\n",
    "            train_x = train_df_com[input_feature]\n",
    "            test_x = test_df_com[input_feature]\n",
    "            train_y = train_df_com[output].values\n",
    "            test_y = test_df_com[output].values\n",
    "            groups = train_df_com['Index']\n",
    "            train_x, train_y, groups = shuffle(train_x, train_y, groups, random_state=42)\n",
    "           \n",
    "            for model_name, model in model_list:\n",
    "\n",
    "                result, best_param = model_CV(train_x,train_y.squeeze(),groups,model,para_grids[model_name])\n",
    "                model_refit = model.set_params(**best_param)\n",
    "                model_refit.fit(train_x,train_y.squeeze())\n",
    "                test_r2,test_mse = model_eval(model_refit,test_x,test_y.squeeze()) \n",
    "                result_total.append([gas,model_name+'_separate',result[0],result[1],-1,-1, test_r2,test_mse,best_param])\n",
    "                \n",
    "                print('Dataset {}, Algorithm {}, Test_r2 {}, Test_error {}'.format(gas,model_name+'_total',test_r2,test_mse))\n",
    "\n",
    "                \n",
    "    return result_total"
   ]
  },
  {
   "cell_type": "code",
   "execution_count": 306,
   "metadata": {},
   "outputs": [],
   "source": [
    "def data_split(df,removed_index = None):\n",
    "    if removed_index!= None:\n",
    "        temp_data = df.loc[~df[\"Index\"].isin(removed_index)]\n",
    "    else: temp_data = df\n",
    "    index = list(set(temp_data['Index'].values))\n",
    "    print(len(index))\n",
    "    test_index= np.random.choice(index,int(0.2*len(index)),replace=False)\n",
    "    train_x = temp_data.loc[~temp_data['Index'].isin( test_index)]\n",
    "    test_x = temp_data.loc[temp_data['Index'].isin(test_index)]\n",
    "    return train_x,test_x"
   ]
  },
  {
   "cell_type": "code",
   "execution_count": 307,
   "metadata": {},
   "outputs": [
    {
     "name": "stdout",
     "output_type": "stream",
     "text": [
      "811\n",
      "Dataset Methane, Algorithm GBR_total, Test_r2 0.9142490075563979, Test_error 1.0116228644980803\n",
      "Dataset Methane, Algorithm ETR_total, Test_r2 0.9068250685501814, Test_error 1.1194044294063417\n",
      "Dataset Methane, Algorithm LGBM_total, Test_r2 0.8915231013472694, Test_error 1.3486760227196866\n",
      "Dataset Methane, Algorithm BGLGBM_total, Test_r2 0.9049775003183599, Test_error 1.1491813230705032\n",
      "Dataset Methane, Algorithm GBR_total, Test_r2 0.9180637042606855, Test_error 1.0206826475505226\n",
      "Dataset Methane, Algorithm ETR_total, Test_r2 0.9231789887448738, Test_error 0.9422731441548672\n",
      "Dataset Methane, Algorithm LGBM_total, Test_r2 0.913370236775298, Test_error 1.0715869860487786\n",
      "Dataset Methane, Algorithm BGLGBM_total, Test_r2 0.9264762502113203, Test_error 0.8854381901544065\n",
      "811\n",
      "Dataset Methane, Algorithm GBR_total, Test_r2 0.8801405357957912, Test_error 1.116227187515909\n",
      "Dataset Methane, Algorithm ETR_total, Test_r2 0.8386700890858959, Test_error 1.4041377909597574\n",
      "Dataset Methane, Algorithm LGBM_total, Test_r2 0.8611881098182983, Test_error 1.2362848034059912\n",
      "Dataset Methane, Algorithm BGLGBM_total, Test_r2 0.8712801847213714, Test_error 1.1333423484449567\n",
      "Dataset Methane, Algorithm GBR_total, Test_r2 0.8910436907859192, Test_error 1.0344112426342156\n",
      "Dataset Methane, Algorithm ETR_total, Test_r2 0.8747047246838523, Test_error 1.1026443454141717\n",
      "Dataset Methane, Algorithm LGBM_total, Test_r2 0.8829671189866237, Test_error 1.088589525212445\n",
      "Dataset Methane, Algorithm BGLGBM_total, Test_r2 0.8844839871431289, Test_error 1.0267903032021581\n",
      "811\n",
      "Dataset Methane, Algorithm GBR_total, Test_r2 0.911315780378692, Test_error 1.0145332138292034\n",
      "Dataset Methane, Algorithm ETR_total, Test_r2 0.8780688524994859, Test_error 1.3656107676237907\n",
      "Dataset Methane, Algorithm LGBM_total, Test_r2 0.8923415331368327, Test_error 1.2689062463535319\n",
      "Dataset Methane, Algorithm BGLGBM_total, Test_r2 0.8970991363633192, Test_error 1.1594118531436568\n",
      "Dataset Methane, Algorithm GBR_total, Test_r2 0.9062922667371673, Test_error 1.1134460478108648\n",
      "Dataset Methane, Algorithm ETR_total, Test_r2 0.8981767905186648, Test_error 1.1575511052347598\n",
      "Dataset Methane, Algorithm LGBM_total, Test_r2 0.9036328728680465, Test_error 1.165771304445927\n",
      "Dataset Methane, Algorithm BGLGBM_total, Test_r2 0.9065798564330916, Test_error 1.0870105989351064\n",
      "811\n",
      "Dataset Methane, Algorithm GBR_total, Test_r2 0.9093386279247301, Test_error 1.254268877677746\n",
      "Dataset Methane, Algorithm ETR_total, Test_r2 0.9058553444500892, Test_error 1.27267933842394\n",
      "Dataset Methane, Algorithm LGBM_total, Test_r2 0.8956304574959864, Test_error 1.4443197312977165\n",
      "Dataset Methane, Algorithm BGLGBM_total, Test_r2 0.9165241787333405, Test_error 1.135819205176089\n",
      "Dataset Methane, Algorithm GBR_total, Test_r2 0.9193171904277686, Test_error 1.141067802944297\n",
      "Dataset Methane, Algorithm ETR_total, Test_r2 0.9170373026085356, Test_error 1.116156846178345\n",
      "Dataset Methane, Algorithm LGBM_total, Test_r2 0.9076563241500111, Test_error 1.1993827999978885\n",
      "Dataset Methane, Algorithm BGLGBM_total, Test_r2 0.9215656329224607, Test_error 1.0387901321932145\n",
      "811\n",
      "Dataset Methane, Algorithm GBR_total, Test_r2 0.8977838776402414, Test_error 1.0499797756748175\n",
      "Dataset Methane, Algorithm ETR_total, Test_r2 0.8655106413407544, Test_error 1.3774826024053264\n",
      "Dataset Methane, Algorithm LGBM_total, Test_r2 0.8574328414290479, Test_error 1.534032182494516\n",
      "Dataset Methane, Algorithm BGLGBM_total, Test_r2 0.8798934192934434, Test_error 1.2253479357211348\n",
      "Dataset Methane, Algorithm GBR_total, Test_r2 0.9167320017171197, Test_error 0.8563139310673025\n",
      "Dataset Methane, Algorithm ETR_total, Test_r2 0.8954634549237194, Test_error 1.0458006791522385\n",
      "Dataset Methane, Algorithm LGBM_total, Test_r2 0.9020928369405263, Test_error 1.0379775361348929\n",
      "Dataset Methane, Algorithm BGLGBM_total, Test_r2 0.9145392985422045, Test_error 0.8714129584481368\n",
      "811\n",
      "Dataset Methane, Algorithm GBR_total, Test_r2 0.9214170744828878, Test_error 0.9133608073573264\n",
      "Dataset Methane, Algorithm ETR_total, Test_r2 0.9085947647511117, Test_error 1.0580293595813972\n",
      "Dataset Methane, Algorithm LGBM_total, Test_r2 0.9133593172889848, Test_error 1.0127434023962358\n",
      "Dataset Methane, Algorithm BGLGBM_total, Test_r2 0.924642242469967, Test_error 0.8619835209635698\n",
      "Dataset Methane, Algorithm GBR_total, Test_r2 0.9244334628825789, Test_error 0.9103314074094764\n",
      "Dataset Methane, Algorithm ETR_total, Test_r2 0.932394347448744, Test_error 0.8000216417130925\n",
      "Dataset Methane, Algorithm LGBM_total, Test_r2 0.9196988189258063, Test_error 0.9880654281583838\n",
      "Dataset Methane, Algorithm BGLGBM_total, Test_r2 0.9367739709062535, Test_error 0.7479514437397974\n",
      "811\n",
      "Dataset Methane, Algorithm GBR_total, Test_r2 0.8806923330402608, Test_error 1.1072416654147752\n",
      "Dataset Methane, Algorithm ETR_total, Test_r2 0.8776150015093163, Test_error 1.049930436925154\n",
      "Dataset Methane, Algorithm LGBM_total, Test_r2 0.908813153686541, Test_error 0.8485280233317268\n",
      "Dataset Methane, Algorithm BGLGBM_total, Test_r2 0.9161437599653885, Test_error 0.7396630734985628\n",
      "Dataset Methane, Algorithm GBR_total, Test_r2 0.8991780671730493, Test_error 0.8760989041502739\n",
      "Dataset Methane, Algorithm ETR_total, Test_r2 0.8990261214560026, Test_error 0.8373891854296708\n",
      "Dataset Methane, Algorithm LGBM_total, Test_r2 0.9018712638677665, Test_error 0.8688890019302865\n",
      "Dataset Methane, Algorithm BGLGBM_total, Test_r2 0.9148899453122402, Test_error 0.7209294407177763\n",
      "811\n",
      "Dataset Methane, Algorithm GBR_total, Test_r2 0.9285477564642781, Test_error 1.0458829503071327\n",
      "Dataset Methane, Algorithm ETR_total, Test_r2 0.9135507039895453, Test_error 1.1979264881833513\n",
      "Dataset Methane, Algorithm LGBM_total, Test_r2 0.9194203732296445, Test_error 1.1966674779322684\n",
      "Dataset Methane, Algorithm BGLGBM_total, Test_r2 0.930415418242009, Test_error 0.9744030864374025\n",
      "Dataset Methane, Algorithm GBR_total, Test_r2 0.9209149285420923, Test_error 1.165078022993908\n",
      "Dataset Methane, Algorithm ETR_total, Test_r2 0.9318770949842538, Test_error 0.968161277243668\n",
      "Dataset Methane, Algorithm LGBM_total, Test_r2 0.9285989704891824, Test_error 1.0376899053233894\n",
      "Dataset Methane, Algorithm BGLGBM_total, Test_r2 0.9382352339292901, Test_error 0.8600805766318649\n",
      "811\n",
      "Dataset Methane, Algorithm GBR_total, Test_r2 0.900113963437572, Test_error 1.1915581190458193\n",
      "Dataset Methane, Algorithm ETR_total, Test_r2 0.8904312924392972, Test_error 1.2276258580833477\n",
      "Dataset Methane, Algorithm LGBM_total, Test_r2 0.9039987209876742, Test_error 1.148846711461704\n",
      "Dataset Methane, Algorithm BGLGBM_total, Test_r2 0.9176007030281387, Test_error 0.9327261270576522\n",
      "Dataset Methane, Algorithm GBR_total, Test_r2 0.9111051922303058, Test_error 1.0552834199772212\n",
      "Dataset Methane, Algorithm ETR_total, Test_r2 0.9124164485189736, Test_error 0.9946195385657799\n",
      "Dataset Methane, Algorithm LGBM_total, Test_r2 0.9175624593499481, Test_error 0.9971054347206024\n",
      "Dataset Methane, Algorithm BGLGBM_total, Test_r2 0.9290049155811788, Test_error 0.8050763362620814\n",
      "811\n",
      "Dataset Methane, Algorithm GBR_total, Test_r2 0.9124661688225202, Test_error 0.8982222049832638\n",
      "Dataset Methane, Algorithm ETR_total, Test_r2 0.8900000452616469, Test_error 1.1360360907595854\n",
      "Dataset Methane, Algorithm LGBM_total, Test_r2 0.8823874557068043, Test_error 1.2962922588126473\n",
      "Dataset Methane, Algorithm BGLGBM_total, Test_r2 0.9016322125297296, Test_error 1.005423508558486\n",
      "Dataset Methane, Algorithm GBR_total, Test_r2 0.9216092336801838, Test_error 0.8415278318025222\n",
      "Dataset Methane, Algorithm ETR_total, Test_r2 0.9112998303719814, Test_error 0.9138655789927832\n",
      "Dataset Methane, Algorithm LGBM_total, Test_r2 0.9072574476769024, Test_error 1.0101354523201935\n",
      "Dataset Methane, Algorithm BGLGBM_total, Test_r2 0.9169136880272922, Test_error 0.8621725464868024\n",
      "811\n",
      "Dataset Methane, Algorithm GBR_total, Test_r2 0.9080636111988051, Test_error 1.1041638969660061\n",
      "Dataset Methane, Algorithm ETR_total, Test_r2 0.8882848426730388, Test_error 1.306365571133557\n",
      "Dataset Methane, Algorithm LGBM_total, Test_r2 0.8739111680007492, Test_error 1.5381701312816685\n",
      "Dataset Methane, Algorithm BGLGBM_total, Test_r2 0.8974670621137975, Test_error 1.2012686629809006\n",
      "Dataset Methane, Algorithm GBR_total, Test_r2 0.8931809970320178, Test_error 1.2781434677736927\n",
      "Dataset Methane, Algorithm ETR_total, Test_r2 0.9021565584323721, Test_error 1.1681936329014957\n",
      "Dataset Methane, Algorithm LGBM_total, Test_r2 0.8945053957055323, Test_error 1.3105636445507385\n",
      "Dataset Methane, Algorithm BGLGBM_total, Test_r2 0.9052624157503822, Test_error 1.114916893734541\n",
      "811\n",
      "Dataset Methane, Algorithm GBR_total, Test_r2 0.9241332063753359, Test_error 0.955855054397576\n",
      "Dataset Methane, Algorithm ETR_total, Test_r2 0.8980224499591403, Test_error 1.2588107580082957\n",
      "Dataset Methane, Algorithm LGBM_total, Test_r2 0.9083170346108659, Test_error 1.218900111965669\n",
      "Dataset Methane, Algorithm BGLGBM_total, Test_r2 0.9158271805359354, Test_error 1.0524140539907885\n",
      "Dataset Methane, Algorithm GBR_total, Test_r2 0.9280313920795473, Test_error 0.9221071009987513\n",
      "Dataset Methane, Algorithm ETR_total, Test_r2 0.9097235333893584, Test_error 1.1197651684281495\n",
      "Dataset Methane, Algorithm LGBM_total, Test_r2 0.907723497666046, Test_error 1.1840631722868502\n",
      "Dataset Methane, Algorithm BGLGBM_total, Test_r2 0.9218092869090679, Test_error 0.9700995951030529\n",
      "811\n",
      "Dataset Methane, Algorithm GBR_total, Test_r2 0.9104356278896983, Test_error 0.7965684251453178\n",
      "Dataset Methane, Algorithm ETR_total, Test_r2 0.8801643274248041, Test_error 1.042503160060732\n",
      "Dataset Methane, Algorithm LGBM_total, Test_r2 0.9046594494395213, Test_error 0.8972790916099902\n",
      "Dataset Methane, Algorithm BGLGBM_total, Test_r2 0.9105085426280193, Test_error 0.8077666861911141\n",
      "Dataset Methane, Algorithm GBR_total, Test_r2 0.9090940940906779, Test_error 0.8222619571419084\n",
      "Dataset Methane, Algorithm ETR_total, Test_r2 0.896626413525792, Test_error 0.9057796483717591\n",
      "Dataset Methane, Algorithm LGBM_total, Test_r2 0.9073611717061258, Test_error 0.8526117874266402\n",
      "Dataset Methane, Algorithm BGLGBM_total, Test_r2 0.9179465163988177, Test_error 0.7295259961534777\n",
      "811\n",
      "Dataset Methane, Algorithm GBR_total, Test_r2 0.8773031385050973, Test_error 1.2599934400981945\n",
      "Dataset Methane, Algorithm ETR_total, Test_r2 0.8683890657647811, Test_error 1.3258393856964568\n",
      "Dataset Methane, Algorithm LGBM_total, Test_r2 0.8693016400037956, Test_error 1.343352756352236\n",
      "Dataset Methane, Algorithm BGLGBM_total, Test_r2 0.8762361990158224, Test_error 1.2267381455547937\n",
      "Dataset Methane, Algorithm GBR_total, Test_r2 0.8830426278135769, Test_error 1.236822945051929\n",
      "Dataset Methane, Algorithm ETR_total, Test_r2 0.8827756542270169, Test_error 1.2061609798181552\n",
      "Dataset Methane, Algorithm LGBM_total, Test_r2 0.8775626964523215, Test_error 1.3058391804961216\n",
      "Dataset Methane, Algorithm BGLGBM_total, Test_r2 0.8908796030316827, Test_error 1.0846398349376785\n",
      "811\n",
      "Dataset Methane, Algorithm GBR_total, Test_r2 0.9347177533625313, Test_error 0.7400497379558464\n",
      "Dataset Methane, Algorithm ETR_total, Test_r2 0.9166692056998179, Test_error 0.930511753170632\n",
      "Dataset Methane, Algorithm LGBM_total, Test_r2 0.9246581063134153, Test_error 0.8952134559931777\n",
      "Dataset Methane, Algorithm BGLGBM_total, Test_r2 0.9379329580839024, Test_error 0.6801819348043845\n",
      "Dataset Methane, Algorithm GBR_total, Test_r2 0.9390855754983706, Test_error 0.7026850146719643\n",
      "Dataset Methane, Algorithm ETR_total, Test_r2 0.9344854172121613, Test_error 0.7279676239065255\n",
      "Dataset Methane, Algorithm LGBM_total, Test_r2 0.9428398341192351, Test_error 0.6179880632003961\n",
      "Dataset Methane, Algorithm BGLGBM_total, Test_r2 0.9474447164904846, Test_error 0.5648101461428183\n"
     ]
    }
   ],
   "source": [
    "import os\n",
    "base_feature = ['V','S','L','BET',]\n",
    "condition_feature = ['Temp(K)','Pressure']\n",
    "combin_1 = ['Vt']\n",
    "combin_2 = [\"Vmeso\"]\n",
    "combin_3 = ['Vmic']\n",
    "combin_4 = ['Vt',\"Vmeso\",]\n",
    "combin_3 = ['Vt',\"Vmic\",]\n",
    "combin_5 = ['Vt',\"Vmic\",'Vmeso',]\n",
    "combin_6 = [\"Vmic\",'Vmeso',]\n",
    "feature_list = [base_feature+condition_feature,base_feature+combin_1+condition_feature,]\n",
    "columns = ['Gas','Model_name','CV_r2','CV_mse','test_r2_total_model','test_mse_by_total_model','test_r2_separa_model','test_mse_separa_model','best_param']\n",
    "\n",
    "file_name = ['BET_only','BET_plut_Vt']\n",
    "feature_set = [\"BET\",\"Vt\",]\n",
    "gas_list = ['Methane']\n",
    "for i in range(15):\n",
    "    train_df,test_df = data_split(data,removed_index=index_removed)\n",
    "    \n",
    "    for j in range(len(feature_list)):\n",
    "        results = model_comparison(models,para_grids, feature_list[j],gas_list)\n",
    "        files_name = 'BG_ETR_Full_Four_gases_with_pred_Vmic_'+file_name[j]+'_result_'+str(i)+'.csv'\n",
    "        pd.DataFrame(results,columns = columns).to_csv(os.path.join('./5_kernel_pca',files_name))  "
   ]
  },
  {
   "cell_type": "code",
   "execution_count": 308,
   "metadata": {},
   "outputs": [],
   "source": [
    "import pandas as pd\n",
    "file_name = ['BET_only','BET_plut_Vt']\n",
    "df_list = []\n",
    "cal_columns= [\"CV_r2\",\"CV_mse\",\"test_r2_separa_model\",\"test_mse_separa_model\"] \n",
    "for j in range(len(file_name)):\n",
    "    for i in range(15):\n",
    "    \n",
    "        files_name = 'BG_ETR_Full_Four_gases_with_pred_Vmic_'+file_name[j]+'_result_'+str(i)+'.csv'\n",
    "        df_list.append(pd.read_csv(os.path.join('./5_kernel_pca',files_name))[cal_columns] )\n",
    "        pd.concat(df_list).groupby(level=0).mean().to_csv(os.path.join('./5_kernel_pca',file_name[j]+'_mean.csv'))\n",
    "        pd.concat(df_list).groupby(level=0).std().to_csv(os.path.join('./5_kernel_pca',file_name[j]+'_std.csv'))"
   ]
  }
 ],
 "metadata": {
  "interpreter": {
   "hash": "cded950f7e8b102373b7ffb2d1ae075c531242f5ad58e5bbcdb99f4873d2799c"
  },
  "kernelspec": {
   "display_name": "Python 3.9.7 64-bit ('pytorch_optuna': conda)",
   "language": "python",
   "name": "python3"
  },
  "language_info": {
   "codemirror_mode": {
    "name": "ipython",
    "version": 3
   },
   "file_extension": ".py",
   "mimetype": "text/x-python",
   "name": "python",
   "nbconvert_exporter": "python",
   "pygments_lexer": "ipython3",
   "version": "3.9.7"
  },
  "orig_nbformat": 4
 },
 "nbformat": 4,
 "nbformat_minor": 2
}
