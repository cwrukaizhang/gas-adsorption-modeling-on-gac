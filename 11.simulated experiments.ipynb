{
 "cells": [
  {
   "cell_type": "markdown",
   "metadata": {},
   "source": [
    "# 1. Build fitting function to the find the gac with different adsorption capacities."
   ]
  },
  {
   "cell_type": "code",
   "execution_count": 4,
   "metadata": {},
   "outputs": [],
   "source": [
    "import matplotlib.pyplot as plt\n",
    "from scipy.optimize import curve_fit\n",
    "import pandas as pd\n",
    "\n",
    "def freundlich(x,n,kf):\n",
    "    return kf*x**(1/n)\n",
    "\n",
    "def langmuir(x,Q,kl):\n",
    "    y = Q*(x*kl)/(1+x*kl)\n",
    "    return y"
   ]
  },
  {
   "cell_type": "code",
   "execution_count": 84,
   "metadata": {},
   "outputs": [],
   "source": [
    "from sklearn.metrics import r2_score\n",
    "\n",
    "def fitting(df:pd.DataFrame):\n",
    "    results = []\n",
    "    index = set(df['Index'].values.tolist())\n",
    "    for ind in index:\n",
    "        temp_result = []\n",
    "        temp_df = df[df['Index']==ind]\n",
    "        xdata = temp_df['Pressure']\n",
    "        ydata = temp_df['Adsorp(mmol/g)']\n",
    "        poptf, _ = curve_fit(freundlich, xdata, ydata,maxfev=1000)\n",
    "        Q1 = freundlich([10], *poptf)\n",
    "        y_pred = freundlich(xdata, *poptf)\n",
    "        R_f = r2_score(ydata, y_pred)\n",
    "        try:\n",
    "            poptl, _ = curve_fit(langmuir, xdata, ydata,maxfev=1000)\n",
    "            y_pred = langmuir(xdata, *poptl)\n",
    "            R_l = r2_score(ydata, y_pred)\n",
    "        except:\n",
    "            poptl = [-1,-1]\n",
    "            R_l = -1\n",
    "        temp_result.extend(list(poptf)+[R_f])\n",
    "        temp_result.extend(Q1)\n",
    "        temp_result.extend(list(poptl)+[R_l])\n",
    "        temp_result.append(ind)\n",
    "        results.append(temp_result)\n",
    "    return pd.DataFrame(results,columns = ['n','kf','R_f','Q10','Q','kl','R_l','Index'])    "
   ]
  },
  {
   "cell_type": "markdown",
   "metadata": {},
   "source": [
    "# 2. Data importing"
   ]
  },
  {
   "cell_type": "code",
   "execution_count": 85,
   "metadata": {},
   "outputs": [],
   "source": [
    "import os \n",
    "BET_path = 'C:/Kai_Zhang/MachineLearning/Unified gas Adsorption/Treated/Methane'\n",
    "\n",
    "def pred_dataset(file_names):\n",
    "    source_path = 'C:/Kai_Zhang/MachineLearning/Unified gas Adsorption/CO2_adsorption/new_data'\n",
    "    train_df = pd.DataFrame()\n",
    "    for file_name in file_names:\n",
    "        temp_data = pd.read_excel(os.path.join(source_path,file_name+'-02-02-2022.xlsx'),skiprows= 1 )\n",
    "        #temp_data = temp_data.dropna(axis=0,how = 'any',subset = feature_set)\n",
    "        train_df = pd.concat([train_df,temp_data],axis=0)\n",
    "    return train_df"
   ]
  },
  {
   "cell_type": "markdown",
   "metadata": {},
   "source": [
    "# 3. Generating fitted results"
   ]
  },
  {
   "cell_type": "code",
   "execution_count": 91,
   "metadata": {},
   "outputs": [],
   "source": [
    "data = pred_dataset(['CO2'])"
   ]
  },
  {
   "cell_type": "code",
   "execution_count": 92,
   "metadata": {},
   "outputs": [],
   "source": [
    "fitt_result = fitting(data)"
   ]
  },
  {
   "cell_type": "code",
   "execution_count": 93,
   "metadata": {},
   "outputs": [],
   "source": [
    "fitt_result.to_csv('./11_simulated_experiments/CO2_fitting_results_Q10.csv')"
   ]
  },
  {
   "cell_type": "code",
   "execution_count": 94,
   "metadata": {},
   "outputs": [
    {
     "data": {
      "text/plain": [
       "25.57424337438821"
      ]
     },
     "execution_count": 94,
     "metadata": {},
     "output_type": "execute_result"
    }
   ],
   "source": [
    "fitt_result['Q10'].quantile(0.9)"
   ]
  },
  {
   "cell_type": "markdown",
   "metadata": {},
   "source": [
    "# 4. Model training and make prediction for different selection from the datasets"
   ]
  },
  {
   "cell_type": "code",
   "execution_count": 3,
   "metadata": {},
   "outputs": [],
   "source": [
    "# data pretreatment by splitting the data into training and the external validation\n",
    "\n",
    "import os \n",
    "#BET_path = 'C:/Kai_Zhang/MachineLearning/Unified gas Adsorption/Treated/Methane'\n",
    "\n",
    "def pred_datasets(file_names,percentile=0.1):\n",
    "    #source_path = 'C:/Kai_Zhang/MachineLearning/Unified gas Adsorption/CO2_adsorption/new_data'\n",
    "    train_df = pd.DataFrame()\n",
    "    test_df = pd.DataFrame()\n",
    "    for file_name in file_names:\n",
    "        temp_data = pd.read_csv(file_name+'_Adding_bet_35.csv')\n",
    "        temp_data.dropna(axis=0,how=\"any\",subset = [\"BET\",\"Vt\",\"Vmic\",\"BET_34\"],inplace=True)\n",
    "        #temp_data = temp_data.dropna(axis=0,how = 'any',subset = feature_set)\n",
    "        fitted_results = pd.read_csv(os.path.join('./11_simulated_experiments/',file_name+'_fitting_results_Q10.csv'))\n",
    "        thresh_index = 'Q10'\n",
    "        threshold = fitted_results[thresh_index].quantile(percentile)\n",
    "        if percentile>0.5:  \n",
    "            test_index = fitted_results[fitted_results[thresh_index]>=threshold]['Index'].values.tolist()\n",
    "        else:\n",
    "            test_index = fitted_results[fitted_results[thresh_index]<=threshold]['Index'].values.tolist()\n",
    "        train_split = temp_data.loc[~temp_data['Index'].isin(test_index)]\n",
    "        test_split = temp_data.loc[temp_data['Index'].isin(test_index)]\n",
    "        train_df = pd.concat([train_df,train_split],axis=0)\n",
    "        test_df = pd.concat([test_df,test_split],axis=0)\n",
    "\n",
    "    return train_df,test_df"
   ]
  },
  {
   "cell_type": "code",
   "execution_count": 96,
   "metadata": {},
   "outputs": [],
   "source": [
    "train_df,test_df = pred_datasets(['CO2'])"
   ]
  },
  {
   "cell_type": "markdown",
   "metadata": {},
   "source": [
    "# 5. Model training and prediction"
   ]
  },
  {
   "cell_type": "code",
   "execution_count": 5,
   "metadata": {},
   "outputs": [],
   "source": [
    "from sklearn.tree import DecisionTreeRegressor\n",
    "from sklearn.ensemble import AdaBoostRegressor,GradientBoostingRegressor,\\\n",
    "    BaggingRegressor,ExtraTreesRegressor,RandomForestRegressor\n",
    "from lightgbm import LGBMRegressor  \n",
    "from sklearn.svm import SVR\n",
    "from sklearn.neural_network import MLPRegressor\n",
    "  \n",
    "n_estimators = [50,100,120,150,180,200,300]\n",
    "\n",
    "# define different models#,\n",
    "models = [\n",
    "    #('SVR',SVR(max_iter=100000)),\n",
    "    #('DT',DecisionTreeRegressor(random_state=42)),\\\n",
    "    # ('ADBR',AdaBoostRegressor(random_state=42)), \n",
    "   # (\"GBR\",GradientBoostingRegressor(random_state=42)),\\\n",
    "    #('BG',BaggingRegressor(random_state=42,n_jobs=-1)),\n",
    "   # ('ETR',ExtraTreesRegressor(random_state=42,n_jobs=-1)),\\\n",
    "    #('RF',RandomForestRegressor(n_jobs=-1,random_state=42)),\n",
    "    ('LGBM',LGBMRegressor(n_jobs = -1,random_state = 42)),\\\n",
    "    #('MLPR',MLPRegressor(random_state=42))\n",
    "    #('BGLGBM',BaggingRegressor(LGBMRegressor(n_estimators = 200, n_jobs = -1,random_state = 42), random_state=42,n_jobs=-1)),\\\n",
    "    #('BGETR',BaggingRegressor(ExtraTreesRegressor(n_estimators = 180,random_state=42,n_jobs=6),random_state=42,n_jobs=-1))\n",
    "    ]\n",
    "\n",
    "# set search parameters grid for different models\n",
    "para_grids = { \n",
    "    'SVR':{'kernel':['linear','poly','rbf','sigmoid','precomputed']},\\\n",
    "    'DT':{'criterion':['squared_error', 'friedman_mse', 'absolute_error', 'poisson']},\\\n",
    "    'ADBR':{'n_estimators':n_estimators,'learning_rate':[0.1,0.5,1,2],'loss':['linear','square','exponential']},\\\n",
    "    'GBR':{'n_estimators':n_estimators,'learning_rate':[0.1,0.5,1,2]},\\\n",
    "    'BG':{'n_estimators':[10,50,100]},\\\n",
    "    'ETR':{'n_estimators':n_estimators},\\\n",
    "    'RF':{'n_estimators':n_estimators},\\\n",
    "    'LGBM':{'num_leaves':[10,20,30,50,],'learning_rate': [0.05,0.1,0.5,1],'n_estimators':n_estimators},\\\n",
    "    'BGLGBM':{'n_estimators':[10,30,50]},\\\n",
    "    'BGETR':{'n_estimators':[10]},\\\n",
    "    'MLPR':{'hidden_layer_sizes':[(4,100),(5,100),(6,100)],\n",
    "            \"activation\":[\"logistic\",\"relu\"],\\\n",
    "            \"solver\":['sgd', 'adam']}\n",
    "    }"
   ]
  },
  {
   "cell_type": "code",
   "execution_count": 58,
   "metadata": {},
   "outputs": [],
   "source": [
    "import numpy.random as nrd\n",
    "from sklearn.decomposition import KernelPCA,SparsePCA\n",
    "from sklearn.preprocessing import MinMaxScaler\n",
    "from sklearn.metrics import mean_squared_error\n",
    "from  collections import Counter\n",
    "\n",
    "def bgk_pca(train_df,test_df): \n",
    "    #np.random.RandomState(42)# using major voting approach to find the outliers in the test dataset\n",
    "    test_index = list(set(test_df[\"Index\"].values))\n",
    "    len_test = len(test_index)\n",
    "    train_index = list(set(train_df[\"Index\"].values))\n",
    "    #total_feature = [\"Index\",'V','L','BET','Vt','Temp(K)']\n",
    "    total_feature = [\"Index\",'BET','Vt','Temp(K)']+[\"BET_\"+str(i) for i in range(35)]\n",
    "    #pca_feature =  ['V','L','BET','Vt','Temp(K)']\n",
    "    pca_feature =  ['BET','Vt','Temp(K)']+[\"BET_\"+str(i) for i in range(35)]\n",
    "    num_feature = len(pca_feature)\n",
    "    removed_index = []\n",
    "    res = []\n",
    "    iters = 10\n",
    "    multi_mse = []\n",
    "    for i in range(iters):\n",
    "        mses = []\n",
    "        train_selected = train_df[train_df[\"Index\"].isin(nrd.choice(train_index,int(len(train_index)*0.75),replace=False))] # modified here change fixed len to a the fraction of the len of the training dataset.\n",
    "        data = pd.concat([test_df,train_selected])\n",
    "        sub_data = data[total_feature].drop_duplicates()\n",
    "        sub_data_scalered = MinMaxScaler().fit_transform(sub_data[pca_feature].values)\n",
    "        \n",
    "        \"\"\"adding lines to determine the number of components to achieve 0.99 threshold\"\"\"\n",
    "        kernel_pca = KernelPCA(kernel='poly',max_iter =100000,n_jobs =-1,gamma=1e-2,fit_inverse_transform=True,random_state=42)\n",
    "        kpca_transform = kernel_pca.fit_transform(sub_data_scalered.reshape(num_feature,-1))\n",
    "        explained_variance = np.var(kpca_transform, axis=0)\n",
    "        explained_variance_ratio = explained_variance / np.sum(explained_variance)\n",
    "        cumu_variance = np.cumsum(explained_variance_ratio)\n",
    "        n_components = np.where(cumu_variance>0.99)[0][0]+1\n",
    "        kernel_pca = KernelPCA(n_components=n_components,kernel='poly',max_iter =100000,n_jobs =-1,gamma=1e-2,fit_inverse_transform=True,random_state=42)\n",
    "        \"\"\" The end of adding new lines\"\"\"\n",
    "\n",
    "        sub_data_transformed = kernel_pca.fit_transform(sub_data_scalered.reshape(num_feature,-1))\n",
    "        reconstructed = kernel_pca.inverse_transform(sub_data_transformed.reshape(num_feature,-1))\n",
    "        for i in range(len(sub_data_scalered)):\n",
    "            mses.append(mean_squared_error(sub_data_scalered[i],reconstructed.reshape(-1,num_feature)[i]))\n",
    "            df_mse = pd.DataFrame(mses,columns = ['MSE'])\n",
    "        df_mse['Indexs'] = sub_data[\"Index\"].drop_duplicates().values\n",
    "        mean_mse = df_mse[\"MSE\"].mean()\n",
    "        test_mse_df = df_mse[df_mse[\"Indexs\"].isin(test_index)]\n",
    "        outlier_index = test_mse_df[test_mse_df[\"MSE\"]>3*mean_mse][\"Indexs\"].values.tolist()\n",
    "        removed_index.extend(outlier_index)\n",
    "        multi_mse.append(mean_mse)\n",
    "\n",
    "    counter = Counter(removed_index)\n",
    "    thresh = int(0.7*iters)\n",
    "    for key,values in counter.most_common():\n",
    "        if values>=thresh:\n",
    "            res.append(key)\n",
    "            \n",
    "        if values<thresh: break\n",
    "\n",
    "    return np.mean(multi_mse)#res"
   ]
  },
  {
   "cell_type": "code",
   "execution_count": 6,
   "metadata": {},
   "outputs": [],
   "source": [
    "from sklearn.model_selection import GridSearchCV,cross_validate,GroupKFold\n",
    "from sklearn.ensemble import ExtraTreesRegressor\n",
    "from  sklearn.metrics import mean_squared_error,r2_score\n",
    "from sklearn.utils import shuffle\n",
    "\n",
    "def model_CV(train_x,train_y,groups,model,para_grid):\n",
    "\n",
    "    out_cv = GroupKFold(n_splits = 5)\n",
    "    result = GridSearchCV(model,para_grid,cv= out_cv.get_n_splits(groups =groups),\n",
    "    scoring='neg_mean_squared_error', return_train_score=True,n_jobs=-1)\n",
    "    result.fit(train_x,train_y)\n",
    "    model_refit =model.set_params(**result.best_params_)\n",
    "    train_cv = cross_validate(model_refit,train_x,train_y,groups = groups,cv =out_cv,scoring = ('r2', 'neg_mean_squared_error'))\n",
    "    train_mse_cv = -train_cv['test_neg_mean_squared_error'].mean()\n",
    "    train_r2_cv = train_cv['test_r2'].mean()\n",
    "    return [train_r2_cv,train_mse_cv],result.best_params_\n",
    "\n",
    "# model evaluation\n",
    "def model_eval(model,test_x,test_y):\n",
    "      \n",
    "    test_pre = model.predict(test_x)\n",
    "    test_r2 = r2_score(test_pre,test_y)\n",
    "    test_mse = mean_squared_error(test_y,test_pre)\n",
    "    return test_r2,test_mse\n",
    "\n",
    "# comparing different models\n",
    "def model_comparison(model_list,para_grids,feature_list,gas_list):\n",
    "    gas_list = gas_list \n",
    "    input_feature = feature_list\n",
    "    output = ['Adsorp(mmol/g)']\n",
    "    result_total = []\n",
    "    for gas in gas_list:\n",
    "        if gas =='total':\n",
    "            train_df_com = train_df\n",
    "            test_df_com = test_df\n",
    "            train_x = train_df_com[input_feature]\n",
    "            test_x = test_df_com[input_feature]\n",
    "            train_y = train_df_com[output].values\n",
    "            test_y = test_df_com[output].values\n",
    "            groups = train_df_com['Index'].values\n",
    "            train_x, train_y, groups = shuffle(train_x, train_y, groups, random_state=42)\n",
    "            \n",
    "            for model_name, model in model_list:\n",
    "                result, best_param = model_CV(train_x,train_y.squeeze(),groups,model,para_grids[model_name])\n",
    "                model_refit = model.set_params(**best_param)\n",
    "                model_refit.fit(train_x,train_y.squeeze())\n",
    "                test_r2_total,test_mse_total = model_eval(model_refit,test_x,test_y.squeeze()) \n",
    "                for gases in gas_list[1:]:\n",
    "                    test_df_com = test_df[test_df['Label']==gases]\n",
    "                    test_xs = test_df_com[input_feature]\n",
    "                    test_ys = test_df_com[output].values\n",
    "                    test_r2,test_mse = model_eval(model_refit,test_xs,test_ys.squeeze()) \n",
    "                    result_total.append([gases,model_name+'_total',result[0],result[1],test_r2_total,test_mse_total,test_r2,test_mse,best_param])\n",
    "                    print('Dataset {}, Algorithm {}, Test_r2 {}, Test_error {}'.format(gas,model_name+'_total',test_r2,test_mse))    \n",
    "        else:\n",
    "            train_df_com = train_df[train_df['Label']==gas]\n",
    "            test_df_com = test_df[test_df['Label']==gas]\n",
    "            train_x = train_df_com[input_feature]\n",
    "            test_x = test_df_com[input_feature]\n",
    "            train_y = train_df_com[output].values\n",
    "            test_y = test_df_com[output].values\n",
    "            groups = train_df_com['Index']\n",
    "            train_x, train_y, groups = shuffle(train_x, train_y, groups, random_state=42)\n",
    "            for model_name, model in model_list:\n",
    "                result, best_param = model_CV(train_x,train_y.squeeze(),groups,model,para_grids[model_name])\n",
    "                model_refit = model.set_params(**best_param)\n",
    "                model_refit.fit(train_x,train_y.squeeze())\n",
    "                test_r2,test_mse = model_eval(model_refit,test_x,test_y.squeeze()) \n",
    "                result_total.append([gas,model_name+'_separate',result[0],result[1],-1,-1, test_r2,test_mse,best_param])\n",
    "                print('Dataset {}, Algorithm {}, Test_r2 {}, Test_error {}'.format(gas,model_name+'_total',test_r2,test_mse))  \n",
    "\n",
    "    return result_total,model_refit.predict(test_x),test_y"
   ]
  },
  {
   "cell_type": "code",
   "execution_count": 62,
   "metadata": {},
   "outputs": [
    {
     "name": "stdout",
     "output_type": "stream",
     "text": [
      "0.00931358641656691\n",
      "1346 107\n",
      "Dataset CO2, Algorithm LGBM_total, Test_r2 0.4657248128004129, Test_error 4.1308864690772875\n",
      "The finish of 0 th trial\n"
     ]
    }
   ],
   "source": [
    "import os\n",
    "conditions = ['S','V','Temp(K)','Pressure']\n",
    "base_feature = [\"BET_\"+str(i) for i in range(35)]+conditions\n",
    "feature_list = [base_feature+[\"BET\",\"Vt\",\"Vmic\",\"Vmeso\"]]\n",
    "columns = ['Gas','Model_name','CV_r2','CV_mse','test_r2_total_model','test_mse_by_total_model','test_r2_separa_model','test_mse_separa_model','best_param']\n",
    "file_name = [\"BET_Curve_BET_Vt_Vmic_Vmeso\"]\n",
    "gas_list = ['CO2']#,'CFCs','Methane','E&E'\n",
    "\n",
    "for i in range(1):\n",
    "    train_df,test_df = pred_datasets(gas_list,.1)\n",
    "    print(bgk_pca(train_df,test_df))\n",
    "    #test_df = test_df[test_df['Adsorp(mmol/g)']<=4.5]\n",
    "    print(len(set(train_df['Index'].values)),len(set(test_df['Index'].values)))\n",
    "    for j in range(len(feature_list)):\n",
    "        results,y_pred,y_real = model_comparison(models,para_grids, feature_list[j],gas_list)\n",
    "        files_name = '35_point_curve_feature_'+file_name[j]+'_result_'+str(i)+'.csv'\n",
    "        pd.DataFrame(results,columns = columns).to_csv(os.path.join('./11_simulated_experiments',files_name)) \n",
    "    print(\"The finish of {} th trial\".format(i)) "
   ]
  },
  {
   "cell_type": "code",
   "execution_count": 36,
   "metadata": {},
   "outputs": [],
   "source": [
    "result = pd.DataFrame()\n",
    "result['pred'] = y_pred\n",
    "result['real'] = y_real\n",
    "result.to_csv(\"results.csv\")"
   ]
  },
  {
   "cell_type": "code",
   "execution_count": 48,
   "metadata": {},
   "outputs": [
    {
     "data": {
      "image/png": "[encoded data removed]",
      "text/plain": [
       "<Figure size 432x288 with 1 Axes>"
      ]
     },
     "metadata": {
      "needs_background": "light"
     },
     "output_type": "display_data"
    }
   ],
   "source": [
    "import matplotlib.pyplot as plt\n",
    "plt.scatter(y_pred[y_real<6],y_real[y_real<6])\n",
    "plt.show() "
   ]
  },
  {
   "cell_type": "code",
   "execution_count": 46,
   "metadata": {},
   "outputs": [],
   "source": [
    "y_real = y_real.reshape(1,-1)[0]"
   ]
  },
  {
   "cell_type": "code",
   "execution_count": 50,
   "metadata": {},
   "outputs": [
    {
     "data": {
      "text/plain": [
       "0.24442417828867904"
      ]
     },
     "execution_count": 50,
     "metadata": {},
     "output_type": "execute_result"
    }
   ],
   "source": [
    "mean_squared_error(y_pred[y_real<6],y_real[y_real<6])"
   ]
  }
 ],
 "metadata": {
  "interpreter": {
   "hash": "6f1917140ac2d93647a2dc61a6627c5a251f814fa7aca9b6ea6c55e442c95a55"
  },
  "kernelspec": {
   "display_name": "Python 3.9.7 64-bit ('pytorch_optuna': conda)",
   "language": "python",
   "name": "python3"
  },
  "language_info": {
   "codemirror_mode": {
    "name": "ipython",
    "version": 3
   },
   "file_extension": ".py",
   "mimetype": "text/x-python",
   "name": "python",
   "nbconvert_exporter": "python",
   "pygments_lexer": "ipython3",
   "version": "3.9.7"
  },
  "orig_nbformat": 4
 },
 "nbformat": 4,
 "nbformat_minor": 2
}
