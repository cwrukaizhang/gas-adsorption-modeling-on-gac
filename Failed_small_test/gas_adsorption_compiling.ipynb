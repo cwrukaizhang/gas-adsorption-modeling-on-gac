{
 "cells": [
  {
   "cell_type": "code",
   "execution_count": 1,
   "metadata": {},
   "outputs": [],
   "source": [
    "import pandas as pd\n",
    "import numpy as np\n",
    "import os"
   ]
  },
  {
   "cell_type": "code",
   "execution_count": 2,
   "metadata": {},
   "outputs": [],
   "source": [
    "paths = \"/Users/kai/Documents/Desktop/CO2_adsorption/Extracted_data files/Methane_done\"\n"
   ]
  },
  {
   "cell_type": "code",
   "execution_count": 36,
   "metadata": {},
   "outputs": [],
   "source": [
    "data_base = pd.read_excel(os.path.join(paths,\"1.xlsx\"),skiprows=1)\n",
    "for i in range(2,108):\n",
    "    data_temp= pd.read_excel(os.path.join(paths,str(i)+\".xlsx\"),skiprows=1)\n",
    "    data_base = pd.concat([data_base,data_temp],axis=0)"
   ]
  },
  {
   "cell_type": "markdown",
   "metadata": {},
   "source": []
  },
  {
   "cell_type": "code",
   "execution_count": 37,
   "metadata": {},
   "outputs": [],
   "source": [
    "data_base.to_excel(os.path.join(paths,\"Methane.xlsx\"))"
   ]
  },
  {
   "cell_type": "markdown",
   "metadata": {},
   "source": [
    "# Assign group numbers for adsorption data"
   ]
  },
  {
   "cell_type": "code",
   "execution_count": 1,
   "metadata": {},
   "outputs": [],
   "source": [
    "import pandas as pd\n",
    "import numpy as np\n",
    "import os\n",
    "\n",
    "paths = \"/Users/kai/Documents/Desktop/CO2_adsorption/new_data\""
   ]
  },
  {
   "cell_type": "code",
   "execution_count": 21,
   "metadata": {},
   "outputs": [],
   "source": [
    "data_base = pd.read_excel(os.path.join(paths,\"Ethane&Ethylene-01-01-2022.xlsx\"),skiprows=1)"
   ]
  },
  {
   "cell_type": "code",
   "execution_count": 23,
   "metadata": {},
   "outputs": [],
   "source": [
    "def assign_group(df):\n",
    "    \n",
    "    cols = [8,9,10,11,17]\n",
    "    group =[]\n",
    "    rows = len(df)\n",
    "    i = df.iloc[0,cols]\n",
    "    idx =0\n",
    "    for j in range(rows):\n",
    "        if i.compare(df.iloc[j,cols],align_axis=0).size<=0:\n",
    "            group.append(idx)\n",
    "        else:\n",
    "            i = df.iloc[j,cols]\n",
    "            idx+=1\n",
    "            group.append(idx)\n",
    "    return pd.DataFrame({'index':group})\n",
    "            \n"
   ]
  },
  {
   "cell_type": "code",
   "execution_count": 24,
   "metadata": {},
   "outputs": [],
   "source": [
    "index = assign_group(data_base)\n",
    "index.to_csv(os.path.join(paths,'Ethane&Ethylene-01-10-2022.csv'))"
   ]
  },
  {
   "cell_type": "code",
   "execution_count": 168,
   "metadata": {},
   "outputs": [],
   "source": [
    "# group_index checking\n",
    "for i in range(index['index'].max()+1):\n",
    "    counts = list(index['index']).count(i)\n",
    "    #print(counts)\n",
    "    if counts<=2:\n",
    "        print(i)"
   ]
  },
  {
   "cell_type": "markdown",
   "metadata": {},
   "source": [
    "# Curve Fitting Test"
   ]
  },
  {
   "cell_type": "code",
   "execution_count": 4,
   "metadata": {},
   "outputs": [],
   "source": [
    "from scipy.optimize import curve_fit\n",
    "\n",
    "def fit_fun_F(x,K,n):\n",
    "    return K*np.power(x,n)\n",
    "def fit_fun_L(x,K,Qm):\n",
    "    return Qm*K*x/(1+K*x)"
   ]
  },
  {
   "cell_type": "code",
   "execution_count": 45,
   "metadata": {},
   "outputs": [],
   "source": [
    "import pandas as pd\n",
    "import numpy as np\n",
    "import os\n",
    "\n",
    "paths = \"C:/Kai_Zhang/MachineLearning/Unified gas Adsorption/CO2_adsorption/new_data\"\n",
    "data_base = pd.read_excel(os.path.join(paths,\"Methane-02-01-2022.xlsx\"),skiprows=1)"
   ]
  },
  {
   "cell_type": "code",
   "execution_count": 46,
   "metadata": {},
   "outputs": [],
   "source": [
    "from sklearn.metrics import r2_score\n",
    "group_num = list(set(data_base['Index'].values))\n",
    "params = []\n",
    "df_feature = data_base.iloc[0:1,:] # extracting only the first line of each isotherm\n",
    "for i in group_num:\n",
    "    temp_group = data_base[data_base['Index']==i]\n",
    "    x = temp_group['Pressure'].values\n",
    "    y = temp_group['Adsorp(mmol/g)'].values\n",
    "    popt,correl = curve_fit(fit_fun_F,x,y)\n",
    "    r2 = r2_score(fit_fun_F(x,*list(popt)),y)\n",
    "    params.append(list(np.append(popt,r2)))\n",
    "    df_feature = pd.concat([df_feature,temp_group.iloc[0:1,:]],axis=0)\n",
    "    "
   ]
  },
  {
   "cell_type": "code",
   "execution_count": 47,
   "metadata": {},
   "outputs": [],
   "source": [
    "df_feature =df_feature.iloc[1:,:]\n",
    "df_feature[\"K\"] = np.array(params)[:,0] \n",
    "df_feature[\"n\"] = np.array(params)[:,1]\n",
    "df_feature[\"R2\"] = np.array(params)[:,2]"
   ]
  },
  {
   "cell_type": "code",
   "execution_count": 44,
   "metadata": {},
   "outputs": [],
   "source": [
    "df_feature.to_csv(os.path.join(paths,'Methane-fitting-02-01-2022.csv'))"
   ]
  },
  {
   "cell_type": "code",
   "execution_count": 48,
   "metadata": {},
   "outputs": [
    {
     "data": {
      "text/plain": [
       "<matplotlib.collections.PathCollection at 0x299eb8fd820>"
      ]
     },
     "execution_count": 48,
     "metadata": {},
     "output_type": "execute_result"
    },
    {
     "data": {
      "image/png": "[encoded data removed]",
      "text/plain": [
       "<Figure size 432x288 with 1 Axes>"
      ]
     },
     "metadata": {
      "needs_background": "light"
     },
     "output_type": "display_data"
    }
   ],
   "source": [
    "import matplotlib.pyplot as plt\n",
    "y = df_feature[\"R2\"]\n",
    "x = range(len(y))\n",
    "plt.scatter(x,y)"
   ]
  },
  {
   "cell_type": "code",
   "execution_count": 200,
   "metadata": {},
   "outputs": [],
   "source": [
    "fit_res = pd.concat([df_feature,df],axis =0)"
   ]
  },
  {
   "cell_type": "code",
   "execution_count": 204,
   "metadata": {},
   "outputs": [
    {
     "data": {
      "text/plain": [
       "(2, 4)"
      ]
     },
     "execution_count": 204,
     "metadata": {},
     "output_type": "execute_result"
    }
   ],
   "source": []
  }
 ],
 "metadata": {
  "interpreter": {
   "hash": "7d821a8c28090d86cb959d7118e0657be232947989368ad1ff415cdf8c2de463"
  },
  "kernelspec": {
   "display_name": "Python 3.9.7 64-bit ('tensorflow-env': conda)",
   "language": "python",
   "name": "python3"
  },
  "language_info": {
   "codemirror_mode": {
    "name": "ipython",
    "version": 3
   },
   "file_extension": ".py",
   "mimetype": "text/x-python",
   "name": "python",
   "nbconvert_exporter": "python",
   "pygments_lexer": "ipython3",
   "version": "3.8.8"
  },
  "orig_nbformat": 4
 },
 "nbformat": 4,
 "nbformat_minor": 2
}
