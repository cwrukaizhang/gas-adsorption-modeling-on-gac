{
 "cells": [
  {
   "cell_type": "code",
   "execution_count": 1,
   "metadata": {},
   "outputs": [],
   "source": [
    "import numpy as np\n",
    "import pandas as pd\n",
    "import optuna\n",
    "import tensorflow as tf \n",
    "import keras\n",
    "import os"
   ]
  },
  {
   "cell_type": "code",
   "execution_count": 2,
   "metadata": {},
   "outputs": [],
   "source": [
    "import tensorflow.keras as keras\n",
    "from tensorflow.keras import backend\n",
    "from tensorflow.keras.layers import Dense\n",
    "from tensorflow.keras.layers import Flatten\n",
    "from tensorflow.keras.layers import Dropout\n",
    "from tensorflow.keras.optimizers import Adam\n",
    "from tensorflow.keras.models import Sequential\n",
    "from tensorflow.python.framework import ops\n",
    "from sklearn.metrics import mean_squared_error\n",
    "\n",
    "\n",
    "\n",
    "def r2(y_true, y_pred):\n",
    "    SSE = backend.sum(backend.square(y_pred - y_true))\n",
    "    SST = backend.sum(backend.square(y_true-backend.mean(y_true)))\n",
    "    r2 = 1-SSE/SST\n",
    "    return r2\n",
    "\n",
    "def create_model(input_length, num_dense_layers, num_dense_nodes, learning_rate, drop_out,nonlinearity):\n",
    "\n",
    "    model = Sequential()\n",
    "    model.add(Flatten(input_shape=[input_length, 1]))\n",
    "\n",
    "    for i in range(int(num_dense_layers)):\n",
    "        name = 'layer_dense_{0}'.format(i + 1)\n",
    "        model.add(Dense(num_dense_nodes, activation=nonlinearity, name=name ))\n",
    "        model.add(Dropout(drop_out)),\n",
    "\n",
    "    opt = Adam(learning_rate=learning_rate)\n",
    "    model.add(Dense(1, activation='linear'))\n",
    "    model.compile(loss=\"mse\",optimizer=opt, metrics=['mse',r2])\n",
    "    return model"
   ]
  },
  {
   "cell_type": "code",
   "execution_count": 11,
   "metadata": {},
   "outputs": [],
   "source": [
    "def fitness(params):   \n",
    "    learning_rate= params.suggest_loguniform('learning_rate', 1e-6, 0.1)\n",
    "    num_dense_layers= params.suggest_int('num_dense_layers', 1, 6, 1)\n",
    "    num_dense_nodes= params.suggest_int('num_dense_nodes', 10, 200,2)\n",
    "    drop_out= params.suggest_uniform('drop_out', 0, 0.5)\n",
    "    nonlinearity = params.suggest_categorical(\"AC\", ['relu', 'tanh', 'sigmoid', 'linear'])\n",
    "    input_length = len(train_x[0])\n",
    "    model = create_model(input_length, num_dense_layers, num_dense_nodes, learning_rate, drop_out,nonlinearity)\n",
    "    \n",
    "    history = model.fit(train_x, train_y, batch_size=1000, epochs=100, verbose=0)\n",
    "    print('train_loss {:.4f}'.format(history.history['loss'][-1]))\n",
    "    test_pred = model.predict(test_x)\n",
    "    RMSE = mean_squared_error(test_y,test_pred,squared=False)\n",
    "    del model  \n",
    "    keras.backend.clear_session()\n",
    "    ops.reset_default_graph()\n",
    "\n",
    "    \n",
    "    return RMSE"
   ]
  },
  {
   "cell_type": "code",
   "execution_count": 13,
   "metadata": {},
   "outputs": [],
   "source": [
    "\n",
    "\n",
    "def pred_dataset(file_names):\n",
    "    source_path = 'C:/Kai_Zhang/MachineLearning/Unified gas Adsorption/CO2_adsorption/new_data'\n",
    "    train_df = pd.DataFrame()\n",
    "    test_df = pd.DataFrame()\n",
    "    for file_name in file_names:\n",
    "        temp_data = pd.read_excel(os.path.join(source_path,file_name+'-01-10-2022.xlsx'),skiprows= 1 )\n",
    "        \n",
    "        temp_data = temp_data.dropna(axis=0,how = 'any',subset = [\"BET\",\"Vt\"])#,'Vmic','Vmeso'\n",
    "        temp_data = temp_data[temp_data['Pressure']>0.1]\n",
    "        #temp_data = temp_data[temp_data['Vmic']<2]\n",
    "        index = temp_data['Index'].max()\n",
    "        test_index= np.random.choice(list(range(index+1)),int(0.2*index),replace=False)\n",
    "        train_x = temp_data.loc[~temp_data['Index'].isin( test_index)]\n",
    "        test_x = temp_data.loc[temp_data['Index'].isin(test_index)]\n",
    "        \n",
    "        train_df = pd.concat([train_df,train_x],axis=0)\n",
    "        test_df = pd.concat([test_df,test_x],axis =0)\n",
    "    return train_df,test_df"
   ]
  },
  {
   "cell_type": "code",
   "execution_count": 14,
   "metadata": {},
   "outputs": [],
   "source": [
    "train_df,test_df = pred_dataset(['CO2','Methane','Ethane&Ethylene','CFCs',])"
   ]
  },
  {
   "cell_type": "code",
   "execution_count": 15,
   "metadata": {},
   "outputs": [],
   "source": [
    "#input_feature = ['E','V','L','BET',\"Vmeso\",'Vt','Vmic','Temp(K)','Pressure']\n",
    "input_feature = ['E','V','L','BET','Vt','Temp(K)','Pressure']  # break Vt\n",
    "output = ['Adsorp(mmol/g)']\n",
    "train_x= train_df[input_feature].values\n",
    "test_x = test_df[input_feature].values\n",
    "train_y = train_df[output].values\n",
    "test_y = test_df[output].values"
   ]
  },
  {
   "cell_type": "code",
   "execution_count": 16,
   "metadata": {},
   "outputs": [],
   "source": [
    "from sklearn.preprocessing import StandardScaler\n",
    "x_scaler = StandardScaler()\n",
    "y_scaler = StandardScaler()\n",
    "\n",
    "train_x = x_scaler.fit_transform(train_df[input_feature])\n",
    "test_x = x_scaler.transform(test_df[input_feature])"
   ]
  },
  {
   "cell_type": "code",
   "execution_count": 17,
   "metadata": {},
   "outputs": [
    {
     "name": "stderr",
     "output_type": "stream",
     "text": [
      "\u001b[32m[I 2022-01-31 15:54:37,647]\u001b[0m A new study created in memory with name: no-name-faf620f4-fa2c-4f16-8e9f-77588143526e\u001b[0m\n",
      "\u001b[32m[I 2022-01-31 15:54:44,352]\u001b[0m Trial 0 finished with value: 2.729353218643009 and parameters: {'learning_rate': 0.0003205630041624426, 'num_dense_layers': 2, 'num_dense_nodes': 32, 'drop_out': 0.49582632900342605, 'AC': 'linear'}. Best is trial 0 with value: 2.729353218643009.\u001b[0m\n"
     ]
    },
    {
     "name": "stdout",
     "output_type": "stream",
     "text": [
      "train_loss 9.5547\n"
     ]
    },
    {
     "name": "stderr",
     "output_type": "stream",
     "text": [
      "\u001b[32m[I 2022-01-31 15:54:49,964]\u001b[0m Trial 1 finished with value: 4.967617257509871 and parameters: {'learning_rate': 2.4682523074401476e-06, 'num_dense_layers': 1, 'num_dense_nodes': 126, 'drop_out': 0.31750424478445405, 'AC': 'tanh'}. Best is trial 0 with value: 2.729353218643009.\u001b[0m\n"
     ]
    },
    {
     "name": "stdout",
     "output_type": "stream",
     "text": [
      "train_loss 29.0515\n"
     ]
    },
    {
     "name": "stderr",
     "output_type": "stream",
     "text": [
      "\u001b[32m[I 2022-01-31 15:54:55,554]\u001b[0m Trial 2 finished with value: 1.2733649665022817 and parameters: {'learning_rate': 0.004626539993165899, 'num_dense_layers': 1, 'num_dense_nodes': 106, 'drop_out': 0.18483893550572356, 'AC': 'tanh'}. Best is trial 2 with value: 1.2733649665022817.\u001b[0m\n"
     ]
    },
    {
     "name": "stdout",
     "output_type": "stream",
     "text": [
      "train_loss 2.4262\n"
     ]
    },
    {
     "name": "stderr",
     "output_type": "stream",
     "text": [
      "\u001b[32m[I 2022-01-31 15:55:04,317]\u001b[0m Trial 3 finished with value: 4.5710769813887016 and parameters: {'learning_rate': 1.5064059772523708e-06, 'num_dense_layers': 3, 'num_dense_nodes': 126, 'drop_out': 0.28024310024869864, 'AC': 'relu'}. Best is trial 2 with value: 1.2733649665022817.\u001b[0m\n"
     ]
    },
    {
     "name": "stdout",
     "output_type": "stream",
     "text": [
      "train_loss 24.8387\n"
     ]
    },
    {
     "name": "stderr",
     "output_type": "stream",
     "text": [
      "\u001b[32m[I 2022-01-31 15:55:12,996]\u001b[0m Trial 4 finished with value: 4.070337486087954 and parameters: {'learning_rate': 7.284377087549692e-06, 'num_dense_layers': 3, 'num_dense_nodes': 50, 'drop_out': 0.11504190461659364, 'AC': 'tanh'}. Best is trial 2 with value: 1.2733649665022817.\u001b[0m\n"
     ]
    },
    {
     "name": "stdout",
     "output_type": "stream",
     "text": [
      "train_loss 19.8750\n"
     ]
    },
    {
     "name": "stderr",
     "output_type": "stream",
     "text": [
      "\u001b[32m[I 2022-01-31 15:55:23,185]\u001b[0m Trial 5 finished with value: 4.207539118942361 and parameters: {'learning_rate': 6.812638722198691e-06, 'num_dense_layers': 4, 'num_dense_nodes': 26, 'drop_out': 0.14326088525215674, 'AC': 'sigmoid'}. Best is trial 2 with value: 1.2733649665022817.\u001b[0m\n"
     ]
    },
    {
     "name": "stdout",
     "output_type": "stream",
     "text": [
      "train_loss 21.5320\n"
     ]
    },
    {
     "name": "stderr",
     "output_type": "stream",
     "text": [
      "\u001b[32m[I 2022-01-31 15:55:32,985]\u001b[0m Trial 6 finished with value: 2.8034817820772546 and parameters: {'learning_rate': 0.08656175335284454, 'num_dense_layers': 4, 'num_dense_nodes': 174, 'drop_out': 0.02998480785981672, 'AC': 'linear'}. Best is trial 2 with value: 1.2733649665022817.\u001b[0m\n"
     ]
    },
    {
     "name": "stdout",
     "output_type": "stream",
     "text": [
      "train_loss 184.7866\n"
     ]
    },
    {
     "name": "stderr",
     "output_type": "stream",
     "text": [
      "\u001b[32m[I 2022-01-31 15:55:43,349]\u001b[0m Trial 7 finished with value: 3.3699535303403576 and parameters: {'learning_rate': 1.0037937945847552e-05, 'num_dense_layers': 4, 'num_dense_nodes': 54, 'drop_out': 0.30747801845135014, 'AC': 'relu'}. Best is trial 2 with value: 1.2733649665022817.\u001b[0m\n"
     ]
    },
    {
     "name": "stdout",
     "output_type": "stream",
     "text": [
      "train_loss 14.7516\n"
     ]
    },
    {
     "name": "stderr",
     "output_type": "stream",
     "text": [
      "\u001b[32m[I 2022-01-31 15:55:54,002]\u001b[0m Trial 8 finished with value: 1.1782101284661823 and parameters: {'learning_rate': 0.009509465451708131, 'num_dense_layers': 4, 'num_dense_nodes': 142, 'drop_out': 0.34861100519096816, 'AC': 'relu'}. Best is trial 8 with value: 1.1782101284661823.\u001b[0m\n"
     ]
    },
    {
     "name": "stdout",
     "output_type": "stream",
     "text": [
      "train_loss 1.6811\n"
     ]
    },
    {
     "name": "stderr",
     "output_type": "stream",
     "text": [
      "\u001b[32m[I 2022-01-31 15:56:01,152]\u001b[0m Trial 9 finished with value: 1.0160541736908548 and parameters: {'learning_rate': 0.025273032719732535, 'num_dense_layers': 2, 'num_dense_nodes': 118, 'drop_out': 0.15211636776642767, 'AC': 'sigmoid'}. Best is trial 9 with value: 1.0160541736908548.\u001b[0m\n"
     ]
    },
    {
     "name": "stdout",
     "output_type": "stream",
     "text": [
      "train_loss 1.4166\n",
      "train_loss 2.7540\n"
     ]
    },
    {
     "name": "stderr",
     "output_type": "stream",
     "text": [
      "\u001b[32m[I 2022-01-31 15:56:15,595]\u001b[0m Trial 10 finished with value: 1.4468260890671136 and parameters: {'learning_rate': 0.0002831578371455783, 'num_dense_layers': 6, 'num_dense_nodes': 198, 'drop_out': 0.007940311266460498, 'AC': 'sigmoid'}. Best is trial 9 with value: 1.0160541736908548.\u001b[0m\n"
     ]
    },
    {
     "name": "stdout",
     "output_type": "stream",
     "text": [
      "train_loss 28.5426\n"
     ]
    },
    {
     "name": "stderr",
     "output_type": "stream",
     "text": [
      "\u001b[32m[I 2022-01-31 15:56:28,625]\u001b[0m Trial 11 finished with value: 4.931505576890901 and parameters: {'learning_rate': 0.0969555538534739, 'num_dense_layers': 6, 'num_dense_nodes': 152, 'drop_out': 0.4234314978678496, 'AC': 'relu'}. Best is trial 9 with value: 1.0160541736908548.\u001b[0m\n"
     ]
    },
    {
     "name": "stdout",
     "output_type": "stream",
     "text": [
      "train_loss 2.5158\n"
     ]
    },
    {
     "name": "stderr",
     "output_type": "stream",
     "text": [
      "\u001b[32m[I 2022-01-31 15:56:39,675]\u001b[0m Trial 12 finished with value: 1.1720382014442405 and parameters: {'learning_rate': 0.006697637124349323, 'num_dense_layers': 5, 'num_dense_nodes': 78, 'drop_out': 0.38839888785107024, 'AC': 'sigmoid'}. Best is trial 9 with value: 1.0160541736908548.\u001b[0m\n",
      "\u001b[32m[I 2022-01-31 15:56:50,751]\u001b[0m Trial 13 finished with value: 1.0715931199633433 and parameters: {'learning_rate': 0.006866750134197306, 'num_dense_layers': 5, 'num_dense_nodes': 78, 'drop_out': 0.22606885249881625, 'AC': 'sigmoid'}. Best is trial 9 with value: 1.0160541736908548.\u001b[0m\n"
     ]
    },
    {
     "name": "stdout",
     "output_type": "stream",
     "text": [
      "train_loss 1.9387\n"
     ]
    },
    {
     "name": "stderr",
     "output_type": "stream",
     "text": [
      "\u001b[32m[I 2022-01-31 15:56:57,489]\u001b[0m Trial 14 finished with value: 1.9500759660197007 and parameters: {'learning_rate': 0.00046191459478070544, 'num_dense_layers': 2, 'num_dense_nodes': 94, 'drop_out': 0.20163860128811517, 'AC': 'sigmoid'}. Best is trial 9 with value: 1.0160541736908548.\u001b[0m\n"
     ]
    },
    {
     "name": "stdout",
     "output_type": "stream",
     "text": [
      "train_loss 5.3043\n"
     ]
    },
    {
     "name": "stderr",
     "output_type": "stream",
     "text": [
      "\u001b[32m[I 2022-01-31 15:57:08,509]\u001b[0m Trial 15 finished with value: 1.0489436812225776 and parameters: {'learning_rate': 0.020372169426884502, 'num_dense_layers': 5, 'num_dense_nodes': 76, 'drop_out': 0.0919640178910944, 'AC': 'sigmoid'}. Best is trial 9 with value: 1.0160541736908548.\u001b[0m\n"
     ]
    },
    {
     "name": "stdout",
     "output_type": "stream",
     "text": [
      "train_loss 1.4015\n"
     ]
    },
    {
     "name": "stderr",
     "output_type": "stream",
     "text": [
      "\u001b[32m[I 2022-01-31 15:57:15,126]\u001b[0m Trial 16 finished with value: 1.0064477847404965 and parameters: {'learning_rate': 0.025913727156478224, 'num_dense_layers': 2, 'num_dense_nodes': 106, 'drop_out': 0.08350782040915228, 'AC': 'sigmoid'}. Best is trial 16 with value: 1.0064477847404965.\u001b[0m\n"
     ]
    },
    {
     "name": "stdout",
     "output_type": "stream",
     "text": [
      "train_loss 1.2547\n"
     ]
    },
    {
     "name": "stderr",
     "output_type": "stream",
     "text": [
      "\u001b[32m[I 2022-01-31 15:57:21,756]\u001b[0m Trial 17 finished with value: 1.2786717391162616 and parameters: {'learning_rate': 0.001461835917890034, 'num_dense_layers': 2, 'num_dense_nodes': 112, 'drop_out': 0.06571034640339056, 'AC': 'sigmoid'}. Best is trial 16 with value: 1.0064477847404965.\u001b[0m\n"
     ]
    },
    {
     "name": "stdout",
     "output_type": "stream",
     "text": [
      "train_loss 2.1658\n"
     ]
    },
    {
     "name": "stderr",
     "output_type": "stream",
     "text": [
      "\u001b[32m[I 2022-01-31 15:57:26,960]\u001b[0m Trial 18 finished with value: 2.803058228021006 and parameters: {'learning_rate': 8.649475381406265e-05, 'num_dense_layers': 1, 'num_dense_nodes': 162, 'drop_out': 0.15780002385982844, 'AC': 'sigmoid'}. Best is trial 16 with value: 1.0064477847404965.\u001b[0m\n"
     ]
    },
    {
     "name": "stdout",
     "output_type": "stream",
     "text": [
      "train_loss 9.4595\n"
     ]
    },
    {
     "name": "stderr",
     "output_type": "stream",
     "text": [
      "\u001b[32m[I 2022-01-31 15:57:33,312]\u001b[0m Trial 19 finished with value: 2.8240188713627146 and parameters: {'learning_rate': 0.02707117679835886, 'num_dense_layers': 2, 'num_dense_nodes': 136, 'drop_out': 0.047935596606764753, 'AC': 'linear'}. Best is trial 16 with value: 1.0064477847404965.\u001b[0m\n"
     ]
    },
    {
     "name": "stdout",
     "output_type": "stream",
     "text": [
      "train_loss 9.1417\n"
     ]
    },
    {
     "name": "stderr",
     "output_type": "stream",
     "text": [
      "\u001b[32m[I 2022-01-31 15:57:41,688]\u001b[0m Trial 20 finished with value: 1.175469842754892 and parameters: {'learning_rate': 0.0023030528582093125, 'num_dense_layers': 3, 'num_dense_nodes': 192, 'drop_out': 0.11276912249117044, 'AC': 'sigmoid'}. Best is trial 16 with value: 1.0064477847404965.\u001b[0m\n"
     ]
    },
    {
     "name": "stdout",
     "output_type": "stream",
     "text": [
      "train_loss 1.8334\n"
     ]
    },
    {
     "name": "stderr",
     "output_type": "stream",
     "text": [
      "\u001b[32m[I 2022-01-31 15:57:52,758]\u001b[0m Trial 21 finished with value: 1.0208570062210958 and parameters: {'learning_rate': 0.026573433883415203, 'num_dense_layers': 5, 'num_dense_nodes': 86, 'drop_out': 0.0881582091507114, 'AC': 'sigmoid'}. Best is trial 16 with value: 1.0064477847404965.\u001b[0m\n"
     ]
    },
    {
     "name": "stdout",
     "output_type": "stream",
     "text": [
      "train_loss 1.3170\n"
     ]
    },
    {
     "name": "stderr",
     "output_type": "stream",
     "text": [
      "\u001b[32m[I 2022-01-31 15:58:00,793]\u001b[0m Trial 22 finished with value: 1.0017843939233646 and parameters: {'learning_rate': 0.03705464081111722, 'num_dense_layers': 3, 'num_dense_nodes': 94, 'drop_out': 0.07624296441071776, 'AC': 'sigmoid'}. Best is trial 22 with value: 1.0017843939233646.\u001b[0m\n"
     ]
    },
    {
     "name": "stdout",
     "output_type": "stream",
     "text": [
      "train_loss 1.2448\n"
     ]
    },
    {
     "name": "stderr",
     "output_type": "stream",
     "text": [
      "\u001b[32m[I 2022-01-31 15:58:07,581]\u001b[0m Trial 23 finished with value: 1.018988473420396 and parameters: {'learning_rate': 0.04600174773394661, 'num_dense_layers': 2, 'num_dense_nodes': 110, 'drop_out': 0.15150335502066956, 'AC': 'sigmoid'}. Best is trial 22 with value: 1.0017843939233646.\u001b[0m\n"
     ]
    },
    {
     "name": "stdout",
     "output_type": "stream",
     "text": [
      "train_loss 1.3020\n"
     ]
    },
    {
     "name": "stderr",
     "output_type": "stream",
     "text": [
      "\u001b[32m[I 2022-01-31 15:58:15,635]\u001b[0m Trial 24 finished with value: 1.1977201563035493 and parameters: {'learning_rate': 0.001458184593491635, 'num_dense_layers': 3, 'num_dense_nodes': 60, 'drop_out': 0.008529703231460031, 'AC': 'sigmoid'}. Best is trial 22 with value: 1.0017843939233646.\u001b[0m\n"
     ]
    },
    {
     "name": "stdout",
     "output_type": "stream",
     "text": [
      "train_loss 1.8654\n"
     ]
    },
    {
     "name": "stderr",
     "output_type": "stream",
     "text": [
      "\u001b[32m[I 2022-01-31 15:58:22,241]\u001b[0m Trial 25 finished with value: 1.1146012142405366 and parameters: {'learning_rate': 0.01132109548062625, 'num_dense_layers': 2, 'num_dense_nodes': 94, 'drop_out': 0.22904830658516662, 'AC': 'sigmoid'}. Best is trial 22 with value: 1.0017843939233646.\u001b[0m\n"
     ]
    },
    {
     "name": "stdout",
     "output_type": "stream",
     "text": [
      "train_loss 1.8828\n"
     ]
    },
    {
     "name": "stderr",
     "output_type": "stream",
     "text": [
      "\u001b[32m[I 2022-01-31 15:58:30,381]\u001b[0m Trial 26 finished with value: 1.0112436573152137 and parameters: {'learning_rate': 0.04576893714236357, 'num_dense_layers': 3, 'num_dense_nodes': 120, 'drop_out': 0.06516813599498039, 'AC': 'sigmoid'}. Best is trial 22 with value: 1.0017843939233646.\u001b[0m\n"
     ]
    },
    {
     "name": "stdout",
     "output_type": "stream",
     "text": [
      "train_loss 1.2251\n"
     ]
    },
    {
     "name": "stderr",
     "output_type": "stream",
     "text": [
      "\u001b[32m[I 2022-01-31 15:58:37,877]\u001b[0m Trial 27 finished with value: 2.7390020115501748 and parameters: {'learning_rate': 0.05254247134492562, 'num_dense_layers': 3, 'num_dense_nodes': 98, 'drop_out': 0.05717216628813493, 'AC': 'linear'}. Best is trial 22 with value: 1.0017843939233646.\u001b[0m\n"
     ]
    },
    {
     "name": "stdout",
     "output_type": "stream",
     "text": [
      "train_loss 8.9468\n"
     ]
    },
    {
     "name": "stderr",
     "output_type": "stream",
     "text": [
      "\u001b[32m[I 2022-01-31 15:58:46,142]\u001b[0m Trial 28 finished with value: 1.0026612932282022 and parameters: {'learning_rate': 0.0032864095756643674, 'num_dense_layers': 3, 'num_dense_nodes': 134, 'drop_out': 0.08655469233442573, 'AC': 'tanh'}. Best is trial 22 with value: 1.0017843939233646.\u001b[0m\n"
     ]
    },
    {
     "name": "stdout",
     "output_type": "stream",
     "text": [
      "train_loss 1.4696\n"
     ]
    },
    {
     "name": "stderr",
     "output_type": "stream",
     "text": [
      "\u001b[32m[I 2022-01-31 15:58:51,349]\u001b[0m Trial 29 finished with value: 1.3047481316510847 and parameters: {'learning_rate': 0.0033744087475911636, 'num_dense_layers': 1, 'num_dense_nodes': 40, 'drop_out': 0.1114587168225674, 'AC': 'tanh'}. Best is trial 22 with value: 1.0017843939233646.\u001b[0m\n"
     ]
    },
    {
     "name": "stdout",
     "output_type": "stream",
     "text": [
      "train_loss 2.5633\n"
     ]
    },
    {
     "name": "stderr",
     "output_type": "stream",
     "text": [
      "\u001b[32m[I 2022-01-31 15:58:59,544]\u001b[0m Trial 30 finished with value: 1.1081845503410799 and parameters: {'learning_rate': 0.0006996451935749891, 'num_dense_layers': 3, 'num_dense_nodes': 142, 'drop_out': 0.1943998030622553, 'AC': 'tanh'}. Best is trial 22 with value: 1.0017843939233646.\u001b[0m\n"
     ]
    },
    {
     "name": "stdout",
     "output_type": "stream",
     "text": [
      "train_loss 2.0749\n"
     ]
    },
    {
     "name": "stderr",
     "output_type": "stream",
     "text": [
      "\u001b[32m[I 2022-01-31 15:59:07,610]\u001b[0m Trial 31 finished with value: 1.2084253551226214 and parameters: {'learning_rate': 0.01359665856951482, 'num_dense_layers': 3, 'num_dense_nodes': 128, 'drop_out': 0.49408774136773936, 'AC': 'tanh'}. Best is trial 22 with value: 1.0017843939233646.\u001b[0m\n"
     ]
    },
    {
     "name": "stdout",
     "output_type": "stream",
     "text": [
      "train_loss 3.1231\n"
     ]
    },
    {
     "name": "stderr",
     "output_type": "stream",
     "text": [
      "\u001b[32m[I 2022-01-31 15:59:15,963]\u001b[0m Trial 32 finished with value: 1.1060835544676006 and parameters: {'learning_rate': 0.048936588845822956, 'num_dense_layers': 3, 'num_dense_nodes': 120, 'drop_out': 0.0818469977109725, 'AC': 'tanh'}. Best is trial 22 with value: 1.0017843939233646.\u001b[0m\n"
     ]
    },
    {
     "name": "stdout",
     "output_type": "stream",
     "text": [
      "train_loss 1.6158\n"
     ]
    },
    {
     "name": "stderr",
     "output_type": "stream",
     "text": [
      "\u001b[32m[I 2022-01-31 15:59:25,874]\u001b[0m Trial 33 finished with value: 1.2784368875269554 and parameters: {'learning_rate': 7.296940140833397e-05, 'num_dense_layers': 4, 'num_dense_nodes': 156, 'drop_out': 0.03965121454845014, 'AC': 'tanh'}. Best is trial 22 with value: 1.0017843939233646.\u001b[0m\n"
     ]
    },
    {
     "name": "stdout",
     "output_type": "stream",
     "text": [
      "train_loss 2.2110\n"
     ]
    },
    {
     "name": "stderr",
     "output_type": "stream",
     "text": [
      "\u001b[32m[I 2022-01-31 15:59:30,927]\u001b[0m Trial 34 finished with value: 2.7299784467743566 and parameters: {'learning_rate': 0.013026350421735416, 'num_dense_layers': 1, 'num_dense_nodes': 104, 'drop_out': 0.12444594260982905, 'AC': 'linear'}. Best is trial 22 with value: 1.0017843939233646.\u001b[0m\n"
     ]
    },
    {
     "name": "stdout",
     "output_type": "stream",
     "text": [
      "train_loss 8.6052\n"
     ]
    },
    {
     "name": "stderr",
     "output_type": "stream",
     "text": [
      "\u001b[32m[I 2022-01-31 15:59:39,326]\u001b[0m Trial 35 finished with value: 1.0250177776515939 and parameters: {'learning_rate': 0.004881266198549991, 'num_dense_layers': 3, 'num_dense_nodes': 130, 'drop_out': 0.027282670164668232, 'AC': 'tanh'}. Best is trial 22 with value: 1.0017843939233646.\u001b[0m\n"
     ]
    },
    {
     "name": "stdout",
     "output_type": "stream",
     "text": [
      "train_loss 1.0280\n"
     ]
    },
    {
     "name": "stderr",
     "output_type": "stream",
     "text": [
      "\u001b[32m[I 2022-01-31 15:59:46,127]\u001b[0m Trial 36 finished with value: 1.0096397009950608 and parameters: {'learning_rate': 0.04596268417057047, 'num_dense_layers': 2, 'num_dense_nodes': 170, 'drop_out': 0.07300245915104994, 'AC': 'sigmoid'}. Best is trial 22 with value: 1.0017843939233646.\u001b[0m\n"
     ]
    },
    {
     "name": "stdout",
     "output_type": "stream",
     "text": [
      "train_loss 1.2361\n"
     ]
    },
    {
     "name": "stderr",
     "output_type": "stream",
     "text": [
      "\u001b[32m[I 2022-01-31 15:59:53,009]\u001b[0m Trial 37 finished with value: 0.991801065420415 and parameters: {'learning_rate': 0.002237383950692866, 'num_dense_layers': 2, 'num_dense_nodes': 188, 'drop_out': 0.0010592426744946148, 'AC': 'tanh'}. Best is trial 37 with value: 0.991801065420415.\u001b[0m\n"
     ]
    },
    {
     "name": "stdout",
     "output_type": "stream",
     "text": [
      "train_loss 0.9762\n"
     ]
    },
    {
     "name": "stderr",
     "output_type": "stream",
     "text": [
      "\u001b[32m[I 2022-01-31 15:59:59,674]\u001b[0m Trial 38 finished with value: 1.2547093861996181 and parameters: {'learning_rate': 0.0009715209000519184, 'num_dense_layers': 2, 'num_dense_nodes': 14, 'drop_out': 0.006570352216522146, 'AC': 'tanh'}. Best is trial 37 with value: 0.991801065420415.\u001b[0m\n"
     ]
    },
    {
     "name": "stdout",
     "output_type": "stream",
     "text": [
      "train_loss 2.0600\n"
     ]
    },
    {
     "name": "stderr",
     "output_type": "stream",
     "text": [
      "\u001b[32m[I 2022-01-31 16:00:05,007]\u001b[0m Trial 39 finished with value: 1.3369235320769068 and parameters: {'learning_rate': 0.002869428280647621, 'num_dense_layers': 1, 'num_dense_nodes': 184, 'drop_out': 0.2665911697039716, 'AC': 'tanh'}. Best is trial 37 with value: 0.991801065420415.\u001b[0m\n"
     ]
    },
    {
     "name": "stdout",
     "output_type": "stream",
     "text": [
      "train_loss 2.6044\n"
     ]
    },
    {
     "name": "stderr",
     "output_type": "stream",
     "text": [
      "\u001b[32m[I 2022-01-31 16:00:10,211]\u001b[0m Trial 40 finished with value: 1.8790619178376424 and parameters: {'learning_rate': 0.00027412203794763556, 'num_dense_layers': 1, 'num_dense_nodes': 60, 'drop_out': 0.17570408248821118, 'AC': 'tanh'}. Best is trial 37 with value: 0.991801065420415.\u001b[0m\n"
     ]
    },
    {
     "name": "stdout",
     "output_type": "stream",
     "text": [
      "train_loss 4.5133\n"
     ]
    },
    {
     "name": "stderr",
     "output_type": "stream",
     "text": [
      "\u001b[32m[I 2022-01-31 16:00:16,974]\u001b[0m Trial 41 finished with value: 1.0502123275605526 and parameters: {'learning_rate': 0.019703906620198663, 'num_dense_layers': 2, 'num_dense_nodes': 178, 'drop_out': 0.08841875639980899, 'AC': 'relu'}. Best is trial 37 with value: 0.991801065420415.\u001b[0m\n"
     ]
    },
    {
     "name": "stdout",
     "output_type": "stream",
     "text": [
      "train_loss 0.9524\n"
     ]
    },
    {
     "name": "stderr",
     "output_type": "stream",
     "text": [
      "\u001b[32m[I 2022-01-31 16:00:23,901]\u001b[0m Trial 42 finished with value: 1.1344563272313108 and parameters: {'learning_rate': 0.09369514911623046, 'num_dense_layers': 2, 'num_dense_nodes': 170, 'drop_out': 0.029369237494627668, 'AC': 'tanh'}. Best is trial 37 with value: 0.991801065420415.\u001b[0m\n"
     ]
    },
    {
     "name": "stdout",
     "output_type": "stream",
     "text": [
      "train_loss 1.3597\n"
     ]
    },
    {
     "name": "stderr",
     "output_type": "stream",
     "text": [
      "\u001b[32m[I 2022-01-31 16:00:30,703]\u001b[0m Trial 43 finished with value: 2.3140017350623943 and parameters: {'learning_rate': 0.00016030353351264843, 'num_dense_layers': 2, 'num_dense_nodes': 186, 'drop_out': 0.13109465070802195, 'AC': 'sigmoid'}. Best is trial 37 with value: 0.991801065420415.\u001b[0m\n"
     ]
    },
    {
     "name": "stdout",
     "output_type": "stream",
     "text": [
      "train_loss 6.8707\n"
     ]
    },
    {
     "name": "stderr",
     "output_type": "stream",
     "text": [
      "\u001b[32m[I 2022-01-31 16:00:40,727]\u001b[0m Trial 44 finished with value: 1.0161550556184396 and parameters: {'learning_rate': 0.005909572159250075, 'num_dense_layers': 4, 'num_dense_nodes': 200, 'drop_out': 0.06994698983758385, 'AC': 'relu'}. Best is trial 37 with value: 0.991801065420415.\u001b[0m\n"
     ]
    },
    {
     "name": "stdout",
     "output_type": "stream",
     "text": [
      "train_loss 0.8944\n"
     ]
    },
    {
     "name": "stderr",
     "output_type": "stream",
     "text": [
      "\u001b[32m[I 2022-01-31 16:00:47,490]\u001b[0m Trial 45 finished with value: 1.0554370767913794 and parameters: {'learning_rate': 0.03571096853656366, 'num_dense_layers': 2, 'num_dense_nodes': 168, 'drop_out': 0.10356507837630513, 'AC': 'tanh'}. Best is trial 37 with value: 0.991801065420415.\u001b[0m\n"
     ]
    },
    {
     "name": "stdout",
     "output_type": "stream",
     "text": [
      "train_loss 1.4423\n"
     ]
    },
    {
     "name": "stderr",
     "output_type": "stream",
     "text": [
      "\u001b[32m[I 2022-01-31 16:00:55,793]\u001b[0m Trial 46 finished with value: 1.0348704165809903 and parameters: {'learning_rate': 0.009291004280410003, 'num_dense_layers': 3, 'num_dense_nodes': 146, 'drop_out': 0.0027036592098830872, 'AC': 'sigmoid'}. Best is trial 37 with value: 0.991801065420415.\u001b[0m\n"
     ]
    },
    {
     "name": "stdout",
     "output_type": "stream",
     "text": [
      "train_loss 1.1215\n"
     ]
    },
    {
     "name": "stderr",
     "output_type": "stream",
     "text": [
      "\u001b[32m[I 2022-01-31 16:01:04,867]\u001b[0m Trial 47 finished with value: 2.780366452484034 and parameters: {'learning_rate': 0.06513363697760115, 'num_dense_layers': 4, 'num_dense_nodes': 152, 'drop_out': 0.03282662441204902, 'AC': 'linear'}. Best is trial 37 with value: 0.991801065420415.\u001b[0m\n"
     ]
    },
    {
     "name": "stdout",
     "output_type": "stream",
     "text": [
      "train_loss 9.1351\n"
     ]
    },
    {
     "name": "stderr",
     "output_type": "stream",
     "text": [
      "\u001b[32m[I 2022-01-31 16:01:10,107]\u001b[0m Trial 48 finished with value: 3.1648841079986396 and parameters: {'learning_rate': 2.3534180897187372e-05, 'num_dense_layers': 1, 'num_dense_nodes': 176, 'drop_out': 0.13243134807153178, 'AC': 'sigmoid'}. Best is trial 37 with value: 0.991801065420415.\u001b[0m\n"
     ]
    },
    {
     "name": "stdout",
     "output_type": "stream",
     "text": [
      "train_loss 12.6093\n"
     ]
    },
    {
     "name": "stderr",
     "output_type": "stream",
     "text": [
      "\u001b[32m[I 2022-01-31 16:01:16,741]\u001b[0m Trial 49 finished with value: 1.012550712086023 and parameters: {'learning_rate': 0.01602272408102573, 'num_dense_layers': 2, 'num_dense_nodes': 72, 'drop_out': 0.04484371390173661, 'AC': 'relu'}. Best is trial 37 with value: 0.991801065420415.\u001b[0m\n"
     ]
    },
    {
     "name": "stdout",
     "output_type": "stream",
     "text": [
      "train_loss 1.0774\n"
     ]
    },
    {
     "name": "stderr",
     "output_type": "stream",
     "text": [
      "\u001b[32m[I 2022-01-31 16:01:24,998]\u001b[0m Trial 50 finished with value: 3.676161350797612 and parameters: {'learning_rate': 1.1988914740861221e-06, 'num_dense_layers': 3, 'num_dense_nodes': 160, 'drop_out': 0.17325770490873, 'AC': 'sigmoid'}. Best is trial 37 with value: 0.991801065420415.\u001b[0m\n"
     ]
    },
    {
     "name": "stdout",
     "output_type": "stream",
     "text": [
      "train_loss 16.8236\n"
     ]
    },
    {
     "name": "stderr",
     "output_type": "stream",
     "text": [
      "\u001b[32m[I 2022-01-31 16:01:33,243]\u001b[0m Trial 51 finished with value: 0.9818978238491753 and parameters: {'learning_rate': 0.03775976500436919, 'num_dense_layers': 3, 'num_dense_nodes': 118, 'drop_out': 0.06901215282081904, 'AC': 'sigmoid'}. Best is trial 51 with value: 0.9818978238491753.\u001b[0m\n"
     ]
    },
    {
     "name": "stdout",
     "output_type": "stream",
     "text": [
      "train_loss 1.2008\n"
     ]
    },
    {
     "name": "stderr",
     "output_type": "stream",
     "text": [
      "\u001b[32m[I 2022-01-31 16:01:41,340]\u001b[0m Trial 52 finished with value: 0.9795724828458073 and parameters: {'learning_rate': 0.029535431381089838, 'num_dense_layers': 3, 'num_dense_nodes': 88, 'drop_out': 0.07559882421579268, 'AC': 'sigmoid'}. Best is trial 52 with value: 0.9795724828458073.\u001b[0m\n"
     ]
    },
    {
     "name": "stdout",
     "output_type": "stream",
     "text": [
      "train_loss 1.2009\n"
     ]
    },
    {
     "name": "stderr",
     "output_type": "stream",
     "text": [
      "\u001b[32m[I 2022-01-31 16:01:50,927]\u001b[0m Trial 53 finished with value: 1.0203247995196139 and parameters: {'learning_rate': 0.007121577403890851, 'num_dense_layers': 4, 'num_dense_nodes': 88, 'drop_out': 0.09751124743081188, 'AC': 'sigmoid'}. Best is trial 52 with value: 0.9795724828458073.\u001b[0m\n"
     ]
    },
    {
     "name": "stdout",
     "output_type": "stream",
     "text": [
      "train_loss 1.5267\n"
     ]
    },
    {
     "name": "stderr",
     "output_type": "stream",
     "text": [
      "\u001b[32m[I 2022-01-31 16:01:59,061]\u001b[0m Trial 54 finished with value: 1.0258337099164838 and parameters: {'learning_rate': 0.0242359841728833, 'num_dense_layers': 3, 'num_dense_nodes': 102, 'drop_out': 0.3105468191807719, 'AC': 'sigmoid'}. Best is trial 52 with value: 0.9795724828458073.\u001b[0m\n"
     ]
    },
    {
     "name": "stdout",
     "output_type": "stream",
     "text": [
      "train_loss 1.7360\n"
     ]
    },
    {
     "name": "stderr",
     "output_type": "stream",
     "text": [
      "\u001b[32m[I 2022-01-31 16:02:07,169]\u001b[0m Trial 55 finished with value: 1.1285479561006875 and parameters: {'learning_rate': 0.0020292558093124554, 'num_dense_layers': 3, 'num_dense_nodes': 110, 'drop_out': 0.017079263871611614, 'AC': 'sigmoid'}. Best is trial 52 with value: 0.9795724828458073.\u001b[0m\n"
     ]
    },
    {
     "name": "stdout",
     "output_type": "stream",
     "text": [
      "train_loss 1.6613\n"
     ]
    },
    {
     "name": "stderr",
     "output_type": "stream",
     "text": [
      "\u001b[32m[I 2022-01-31 16:02:16,739]\u001b[0m Trial 56 finished with value: 1.0506598948950572 and parameters: {'learning_rate': 0.0041026063209912995, 'num_dense_layers': 4, 'num_dense_nodes': 86, 'drop_out': 0.0511669248099287, 'AC': 'sigmoid'}. Best is trial 52 with value: 0.9795724828458073.\u001b[0m\n"
     ]
    },
    {
     "name": "stdout",
     "output_type": "stream",
     "text": [
      "train_loss 1.5476\n"
     ]
    },
    {
     "name": "stderr",
     "output_type": "stream",
     "text": [
      "\u001b[32m[I 2022-01-31 16:02:24,835]\u001b[0m Trial 57 finished with value: 1.0874555452651922 and parameters: {'learning_rate': 0.07227013112646412, 'num_dense_layers': 3, 'num_dense_nodes': 70, 'drop_out': 0.3612585097197918, 'AC': 'sigmoid'}. Best is trial 52 with value: 0.9795724828458073.\u001b[0m\n"
     ]
    },
    {
     "name": "stdout",
     "output_type": "stream",
     "text": [
      "train_loss 1.9052\n"
     ]
    },
    {
     "name": "stderr",
     "output_type": "stream",
     "text": [
      "\u001b[32m[I 2022-01-31 16:02:32,927]\u001b[0m Trial 58 finished with value: 1.052110673971652 and parameters: {'learning_rate': 0.029374829800979125, 'num_dense_layers': 3, 'num_dense_nodes': 116, 'drop_out': 0.13760404962335462, 'AC': 'tanh'}. Best is trial 52 with value: 0.9795724828458073.\u001b[0m\n"
     ]
    },
    {
     "name": "stdout",
     "output_type": "stream",
     "text": [
      "train_loss 1.7073\n"
     ]
    },
    {
     "name": "stderr",
     "output_type": "stream",
     "text": [
      "\u001b[32m[I 2022-01-31 16:02:41,199]\u001b[0m Trial 59 finished with value: 1.021300448661114 and parameters: {'learning_rate': 0.009183666531605801, 'num_dense_layers': 3, 'num_dense_nodes': 96, 'drop_out': 0.11577462829194599, 'AC': 'sigmoid'}. Best is trial 52 with value: 0.9795724828458073.\u001b[0m\n"
     ]
    },
    {
     "name": "stdout",
     "output_type": "stream",
     "text": [
      "train_loss 1.4814\n"
     ]
    },
    {
     "name": "stderr",
     "output_type": "stream",
     "text": [
      "\u001b[32m[I 2022-01-31 16:02:47,574]\u001b[0m Trial 60 finished with value: 2.755817868919326 and parameters: {'learning_rate': 0.001195499693117963, 'num_dense_layers': 2, 'num_dense_nodes': 134, 'drop_out': 0.07684994148428521, 'AC': 'linear'}. Best is trial 52 with value: 0.9795724828458073.\u001b[0m\n"
     ]
    },
    {
     "name": "stdout",
     "output_type": "stream",
     "text": [
      "train_loss 8.5283\n"
     ]
    },
    {
     "name": "stderr",
     "output_type": "stream",
     "text": [
      "\u001b[32m[I 2022-01-31 16:02:54,200]\u001b[0m Trial 61 finished with value: 1.0135509007889287 and parameters: {'learning_rate': 0.03353388875621011, 'num_dense_layers': 2, 'num_dense_nodes': 124, 'drop_out': 0.06030258886474564, 'AC': 'sigmoid'}. Best is trial 52 with value: 0.9795724828458073.\u001b[0m\n"
     ]
    },
    {
     "name": "stdout",
     "output_type": "stream",
     "text": [
      "train_loss 1.1069\n"
     ]
    },
    {
     "name": "stderr",
     "output_type": "stream",
     "text": [
      "\u001b[32m[I 2022-01-31 16:03:00,855]\u001b[0m Trial 62 finished with value: 1.0442922503813628 and parameters: {'learning_rate': 0.017977800216481356, 'num_dense_layers': 2, 'num_dense_nodes': 86, 'drop_out': 0.09136933717740385, 'AC': 'sigmoid'}. Best is trial 52 with value: 0.9795724828458073.\u001b[0m\n"
     ]
    },
    {
     "name": "stdout",
     "output_type": "stream",
     "text": [
      "train_loss 1.4256\n"
     ]
    },
    {
     "name": "stderr",
     "output_type": "stream",
     "text": [
      "\u001b[32m[I 2022-01-31 16:03:07,525]\u001b[0m Trial 63 finished with value: 1.11782663305909 and parameters: {'learning_rate': 0.09737748972945724, 'num_dense_layers': 2, 'num_dense_nodes': 112, 'drop_out': 0.07640537436937768, 'AC': 'sigmoid'}. Best is trial 52 with value: 0.9795724828458073.\u001b[0m\n"
     ]
    },
    {
     "name": "stdout",
     "output_type": "stream",
     "text": [
      "train_loss 1.6400\n"
     ]
    },
    {
     "name": "stderr",
     "output_type": "stream",
     "text": [
      "\u001b[32m[I 2022-01-31 16:03:15,922]\u001b[0m Trial 64 finished with value: 3.427459220416755 and parameters: {'learning_rate': 2.571961867052407e-06, 'num_dense_layers': 3, 'num_dense_nodes': 194, 'drop_out': 0.020567112874244536, 'AC': 'sigmoid'}. Best is trial 52 with value: 0.9795724828458073.\u001b[0m\n"
     ]
    },
    {
     "name": "stdout",
     "output_type": "stream",
     "text": [
      "train_loss 14.5126\n"
     ]
    },
    {
     "name": "stderr",
     "output_type": "stream",
     "text": [
      "\u001b[32m[I 2022-01-31 16:03:22,693]\u001b[0m Trial 65 finished with value: 1.0446455090546132 and parameters: {'learning_rate': 0.03854580890453804, 'num_dense_layers': 2, 'num_dense_nodes': 184, 'drop_out': 0.04897469260659588, 'AC': 'sigmoid'}. Best is trial 52 with value: 0.9795724828458073.\u001b[0m\n"
     ]
    },
    {
     "name": "stdout",
     "output_type": "stream",
     "text": [
      "train_loss 1.2276\n"
     ]
    },
    {
     "name": "stderr",
     "output_type": "stream",
     "text": [
      "\u001b[32m[I 2022-01-31 16:03:30,828]\u001b[0m Trial 66 finished with value: 1.012525783518129 and parameters: {'learning_rate': 0.021555383225398874, 'num_dense_layers': 3, 'num_dense_nodes': 104, 'drop_out': 0.2103979853569095, 'AC': 'sigmoid'}. Best is trial 52 with value: 0.9795724828458073.\u001b[0m\n"
     ]
    },
    {
     "name": "stdout",
     "output_type": "stream",
     "text": [
      "train_loss 1.4928\n"
     ]
    },
    {
     "name": "stderr",
     "output_type": "stream",
     "text": [
      "\u001b[32m[I 2022-01-31 16:03:40,644]\u001b[0m Trial 67 finished with value: 1.3206021777299917 and parameters: {'learning_rate': 0.062274871143976666, 'num_dense_layers': 4, 'num_dense_nodes': 144, 'drop_out': 0.1584814188641307, 'AC': 'tanh'}. Best is trial 52 with value: 0.9795724828458073.\u001b[0m\n"
     ]
    },
    {
     "name": "stdout",
     "output_type": "stream",
     "text": [
      "train_loss 2.5921\n"
     ]
    },
    {
     "name": "stderr",
     "output_type": "stream",
     "text": [
      "\u001b[32m[I 2022-01-31 16:03:49,078]\u001b[0m Trial 68 finished with value: 0.986668310602414 and parameters: {'learning_rate': 0.011308634012591459, 'num_dense_layers': 3, 'num_dense_nodes': 134, 'drop_out': 0.11627788364238528, 'AC': 'sigmoid'}. Best is trial 52 with value: 0.9795724828458073.\u001b[0m\n"
     ]
    },
    {
     "name": "stdout",
     "output_type": "stream",
     "text": [
      "train_loss 1.3636\n"
     ]
    },
    {
     "name": "stderr",
     "output_type": "stream",
     "text": [
      "\u001b[32m[I 2022-01-31 16:03:57,357]\u001b[0m Trial 69 finished with value: 0.9933933498332457 and parameters: {'learning_rate': 0.011588324248144677, 'num_dense_layers': 3, 'num_dense_nodes': 134, 'drop_out': 0.10648884308782954, 'AC': 'sigmoid'}. Best is trial 52 with value: 0.9795724828458073.\u001b[0m\n"
     ]
    },
    {
     "name": "stdout",
     "output_type": "stream",
     "text": [
      "train_loss 1.3454\n"
     ]
    },
    {
     "name": "stderr",
     "output_type": "stream",
     "text": [
      "\u001b[32m[I 2022-01-31 16:04:07,223]\u001b[0m Trial 70 finished with value: 1.0691586318206616 and parameters: {'learning_rate': 0.00824702733569226, 'num_dense_layers': 4, 'num_dense_nodes': 138, 'drop_out': 0.10511470864350483, 'AC': 'relu'}. Best is trial 52 with value: 0.9795724828458073.\u001b[0m\n"
     ]
    },
    {
     "name": "stdout",
     "output_type": "stream",
     "text": [
      "train_loss 1.1592\n"
     ]
    },
    {
     "name": "stderr",
     "output_type": "stream",
     "text": [
      "\u001b[32m[I 2022-01-31 16:04:15,445]\u001b[0m Trial 71 finished with value: 1.01719838347841 and parameters: {'learning_rate': 0.01234152694600809, 'num_dense_layers': 3, 'num_dense_nodes': 132, 'drop_out': 0.11270958401873736, 'AC': 'sigmoid'}. Best is trial 52 with value: 0.9795724828458073.\u001b[0m\n"
     ]
    },
    {
     "name": "stdout",
     "output_type": "stream",
     "text": [
      "train_loss 1.3546\n"
     ]
    },
    {
     "name": "stderr",
     "output_type": "stream",
     "text": [
      "\u001b[32m[I 2022-01-31 16:04:23,538]\u001b[0m Trial 72 finished with value: 1.0244438487618377 and parameters: {'learning_rate': 0.004988726422008, 'num_dense_layers': 3, 'num_dense_nodes': 116, 'drop_out': 0.060752575252831016, 'AC': 'sigmoid'}. Best is trial 52 with value: 0.9795724828458073.\u001b[0m\n"
     ]
    },
    {
     "name": "stdout",
     "output_type": "stream",
     "text": [
      "train_loss 1.4231\n"
     ]
    },
    {
     "name": "stderr",
     "output_type": "stream",
     "text": [
      "\u001b[32m[I 2022-01-31 16:04:31,643]\u001b[0m Trial 73 finished with value: 1.2087682599941552 and parameters: {'learning_rate': 0.002000720033323006, 'num_dense_layers': 3, 'num_dense_nodes': 124, 'drop_out': 0.12083921778780111, 'AC': 'sigmoid'}. Best is trial 52 with value: 0.9795724828458073.\u001b[0m\n"
     ]
    },
    {
     "name": "stdout",
     "output_type": "stream",
     "text": [
      "train_loss 2.0253\n"
     ]
    },
    {
     "name": "stderr",
     "output_type": "stream",
     "text": [
      "\u001b[32m[I 2022-01-31 16:04:39,708]\u001b[0m Trial 74 finished with value: 1.1529150566469222 and parameters: {'learning_rate': 0.003209261358042775, 'num_dense_layers': 3, 'num_dense_nodes': 90, 'drop_out': 0.15217902846483075, 'AC': 'sigmoid'}. Best is trial 52 with value: 0.9795724828458073.\u001b[0m\n"
     ]
    },
    {
     "name": "stdout",
     "output_type": "stream",
     "text": [
      "train_loss 1.9387\n"
     ]
    },
    {
     "name": "stderr",
     "output_type": "stream",
     "text": [
      "\u001b[32m[I 2022-01-31 16:04:47,838]\u001b[0m Trial 75 finished with value: 1.0521640114408481 and parameters: {'learning_rate': 0.016762264241410585, 'num_dense_layers': 3, 'num_dense_nodes': 100, 'drop_out': 0.03624890231049267, 'AC': 'tanh'}. Best is trial 52 with value: 0.9795724828458073.\u001b[0m\n"
     ]
    },
    {
     "name": "stdout",
     "output_type": "stream",
     "text": [
      "train_loss 1.1280\n"
     ]
    },
    {
     "name": "stderr",
     "output_type": "stream",
     "text": [
      "\u001b[32m[I 2022-01-31 16:04:56,126]\u001b[0m Trial 76 finished with value: 1.371446808744966 and parameters: {'learning_rate': 0.0006369461940496718, 'num_dense_layers': 3, 'num_dense_nodes': 150, 'drop_out': 0.08881667253875841, 'AC': 'sigmoid'}. Best is trial 52 with value: 0.9795724828458073.\u001b[0m\n"
     ]
    },
    {
     "name": "stdout",
     "output_type": "stream",
     "text": [
      "train_loss 2.6701\n",
      "train_loss 1.9609\n"
     ]
    },
    {
     "name": "stderr",
     "output_type": "stream",
     "text": [
      "\u001b[32m[I 2022-01-31 16:05:08,907]\u001b[0m Trial 77 finished with value: 1.1607468143305868 and parameters: {'learning_rate': 0.01243127914819792, 'num_dense_layers': 6, 'num_dense_nodes': 82, 'drop_out': 0.09613138265058944, 'AC': 'tanh'}. Best is trial 52 with value: 0.9795724828458073.\u001b[0m\n",
      "\u001b[32m[I 2022-01-31 16:05:17,694]\u001b[0m Trial 78 finished with value: 2.7770139114538948 and parameters: {'learning_rate': 0.0283978362865449, 'num_dense_layers': 4, 'num_dense_nodes': 108, 'drop_out': 0.2880356571845261, 'AC': 'linear'}. Best is trial 52 with value: 0.9795724828458073.\u001b[0m\n"
     ]
    },
    {
     "name": "stdout",
     "output_type": "stream",
     "text": [
      "train_loss 9.2369\n"
     ]
    },
    {
     "name": "stderr",
     "output_type": "stream",
     "text": [
      "\u001b[32m[I 2022-01-31 16:05:25,925]\u001b[0m Trial 79 finished with value: 1.008599290367428 and parameters: {'learning_rate': 0.006122796336018354, 'num_dense_layers': 3, 'num_dense_nodes': 140, 'drop_out': 0.07792937790950885, 'AC': 'sigmoid'}. Best is trial 52 with value: 0.9795724828458073.\u001b[0m\n"
     ]
    },
    {
     "name": "stdout",
     "output_type": "stream",
     "text": [
      "train_loss 1.3996\n"
     ]
    },
    {
     "name": "stderr",
     "output_type": "stream",
     "text": [
      "\u001b[32m[I 2022-01-31 16:05:34,025]\u001b[0m Trial 80 finished with value: 1.0170310352656513 and parameters: {'learning_rate': 0.010194588020729475, 'num_dense_layers': 3, 'num_dense_nodes': 92, 'drop_out': 0.13895578707675865, 'AC': 'sigmoid'}. Best is trial 52 with value: 0.9795724828458073.\u001b[0m\n"
     ]
    },
    {
     "name": "stdout",
     "output_type": "stream",
     "text": [
      "train_loss 1.4626\n"
     ]
    },
    {
     "name": "stderr",
     "output_type": "stream",
     "text": [
      "\u001b[32m[I 2022-01-31 16:05:42,293]\u001b[0m Trial 81 finished with value: 0.9987915323274065 and parameters: {'learning_rate': 0.006068497314157717, 'num_dense_layers': 3, 'num_dense_nodes': 140, 'drop_out': 0.07050333172507581, 'AC': 'sigmoid'}. Best is trial 52 with value: 0.9795724828458073.\u001b[0m\n"
     ]
    },
    {
     "name": "stdout",
     "output_type": "stream",
     "text": [
      "train_loss 1.3520\n"
     ]
    },
    {
     "name": "stderr",
     "output_type": "stream",
     "text": [
      "\u001b[32m[I 2022-01-31 16:05:50,394]\u001b[0m Trial 82 finished with value: 0.9934767193998586 and parameters: {'learning_rate': 0.01599957820212126, 'num_dense_layers': 3, 'num_dense_nodes': 124, 'drop_out': 0.062434789675884075, 'AC': 'sigmoid'}. Best is trial 52 with value: 0.9795724828458073.\u001b[0m\n"
     ]
    },
    {
     "name": "stdout",
     "output_type": "stream",
     "text": [
      "train_loss 1.2494\n"
     ]
    },
    {
     "name": "stderr",
     "output_type": "stream",
     "text": [
      "\u001b[32m[I 2022-01-31 16:05:58,553]\u001b[0m Trial 83 finished with value: 1.0564772894267929 and parameters: {'learning_rate': 0.004136113458705458, 'num_dense_layers': 3, 'num_dense_nodes': 128, 'drop_out': 0.06411067677181773, 'AC': 'sigmoid'}. Best is trial 52 with value: 0.9795724828458073.\u001b[0m\n"
     ]
    },
    {
     "name": "stdout",
     "output_type": "stream",
     "text": [
      "train_loss 1.5211\n"
     ]
    },
    {
     "name": "stderr",
     "output_type": "stream",
     "text": [
      "\u001b[32m[I 2022-01-31 16:06:06,675]\u001b[0m Trial 84 finished with value: 0.9561311410594248 and parameters: {'learning_rate': 0.016972496809960123, 'num_dense_layers': 3, 'num_dense_nodes': 120, 'drop_out': 0.018154178211724742, 'AC': 'sigmoid'}. Best is trial 84 with value: 0.9561311410594248.\u001b[0m\n"
     ]
    },
    {
     "name": "stdout",
     "output_type": "stream",
     "text": [
      "train_loss 1.0887\n"
     ]
    },
    {
     "name": "stderr",
     "output_type": "stream",
     "text": [
      "\u001b[32m[I 2022-01-31 16:06:14,962]\u001b[0m Trial 85 finished with value: 0.984163536060502 and parameters: {'learning_rate': 0.016935670817162733, 'num_dense_layers': 3, 'num_dense_nodes': 122, 'drop_out': 0.015896461466910795, 'AC': 'sigmoid'}. Best is trial 84 with value: 0.9561311410594248.\u001b[0m\n"
     ]
    },
    {
     "name": "stdout",
     "output_type": "stream",
     "text": [
      "train_loss 1.0520\n"
     ]
    },
    {
     "name": "stderr",
     "output_type": "stream",
     "text": [
      "\u001b[32m[I 2022-01-31 16:06:23,067]\u001b[0m Trial 86 finished with value: 0.9718232880204388 and parameters: {'learning_rate': 0.016217185702309202, 'num_dense_layers': 3, 'num_dense_nodes': 124, 'drop_out': 0.016337360669794337, 'AC': 'sigmoid'}. Best is trial 84 with value: 0.9561311410594248.\u001b[0m\n"
     ]
    },
    {
     "name": "stdout",
     "output_type": "stream",
     "text": [
      "train_loss 1.0461\n"
     ]
    },
    {
     "name": "stderr",
     "output_type": "stream",
     "text": [
      "\u001b[32m[I 2022-01-31 16:06:31,190]\u001b[0m Trial 87 finished with value: 1.0071189952500343 and parameters: {'learning_rate': 0.014319491823342396, 'num_dense_layers': 3, 'num_dense_nodes': 122, 'drop_out': 0.013655239176144177, 'AC': 'sigmoid'}. Best is trial 84 with value: 0.9561311410594248.\u001b[0m\n"
     ]
    },
    {
     "name": "stdout",
     "output_type": "stream",
     "text": [
      "train_loss 1.0632\n"
     ]
    },
    {
     "name": "stderr",
     "output_type": "stream",
     "text": [
      "\u001b[32m[I 2022-01-31 16:06:40,822]\u001b[0m Trial 88 finished with value: 0.9605007288740732 and parameters: {'learning_rate': 0.020102995441564086, 'num_dense_layers': 4, 'num_dense_nodes': 116, 'drop_out': 0.0033136331247284093, 'AC': 'sigmoid'}. Best is trial 84 with value: 0.9561311410594248.\u001b[0m\n"
     ]
    },
    {
     "name": "stdout",
     "output_type": "stream",
     "text": [
      "train_loss 0.9429\n",
      "train_loss 0.8836\n"
     ]
    },
    {
     "name": "stderr",
     "output_type": "stream",
     "text": [
      "\u001b[32m[I 2022-01-31 16:06:51,977]\u001b[0m Trial 89 finished with value: 1.0032217682679256 and parameters: {'learning_rate': 0.022327310325122425, 'num_dense_layers': 5, 'num_dense_nodes': 116, 'drop_out': 0.00041382451202771247, 'AC': 'sigmoid'}. Best is trial 84 with value: 0.9561311410594248.\u001b[0m\n",
      "\u001b[32m[I 2022-01-31 16:07:01,637]\u001b[0m Trial 90 finished with value: 1.043845233021345 and parameters: {'learning_rate': 0.039497836426205454, 'num_dense_layers': 4, 'num_dense_nodes': 118, 'drop_out': 0.02533388645385751, 'AC': 'sigmoid'}. Best is trial 84 with value: 0.9561311410594248.\u001b[0m\n"
     ]
    },
    {
     "name": "stdout",
     "output_type": "stream",
     "text": [
      "train_loss 1.1827\n"
     ]
    },
    {
     "name": "stderr",
     "output_type": "stream",
     "text": [
      "\u001b[32m[I 2022-01-31 16:07:11,495]\u001b[0m Trial 91 finished with value: 0.9737459820112221 and parameters: {'learning_rate': 0.01907642798340042, 'num_dense_layers': 4, 'num_dense_nodes': 132, 'drop_out': 0.03518991630238503, 'AC': 'sigmoid'}. Best is trial 84 with value: 0.9561311410594248.\u001b[0m\n"
     ]
    },
    {
     "name": "stdout",
     "output_type": "stream",
     "text": [
      "train_loss 1.0675\n"
     ]
    },
    {
     "name": "stderr",
     "output_type": "stream",
     "text": [
      "\u001b[32m[I 2022-01-31 16:07:21,145]\u001b[0m Trial 92 finished with value: 1.0988381751032061 and parameters: {'learning_rate': 0.052661768692224276, 'num_dense_layers': 4, 'num_dense_nodes': 112, 'drop_out': 0.03487418251526634, 'AC': 'sigmoid'}. Best is trial 84 with value: 0.9561311410594248.\u001b[0m\n"
     ]
    },
    {
     "name": "stdout",
     "output_type": "stream",
     "text": [
      "train_loss 1.4796\n"
     ]
    },
    {
     "name": "stderr",
     "output_type": "stream",
     "text": [
      "\u001b[32m[I 2022-01-31 16:07:30,957]\u001b[0m Trial 93 finished with value: 1.0170384440538869 and parameters: {'learning_rate': 0.022412947301326907, 'num_dense_layers': 4, 'num_dense_nodes': 128, 'drop_out': 0.01584705117512608, 'AC': 'sigmoid'}. Best is trial 84 with value: 0.9561311410594248.\u001b[0m\n"
     ]
    },
    {
     "name": "stdout",
     "output_type": "stream",
     "text": [
      "train_loss 1.0209\n"
     ]
    },
    {
     "name": "stderr",
     "output_type": "stream",
     "text": [
      "\u001b[32m[I 2022-01-31 16:07:40,765]\u001b[0m Trial 94 finished with value: 0.9759909831904535 and parameters: {'learning_rate': 0.010183108649201099, 'num_dense_layers': 4, 'num_dense_nodes': 132, 'drop_out': 0.040522116654728275, 'AC': 'sigmoid'}. Best is trial 84 with value: 0.9561311410594248.\u001b[0m\n"
     ]
    },
    {
     "name": "stdout",
     "output_type": "stream",
     "text": [
      "train_loss 1.2328\n"
     ]
    },
    {
     "name": "stderr",
     "output_type": "stream",
     "text": [
      "\u001b[32m[I 2022-01-31 16:07:50,606]\u001b[0m Trial 95 finished with value: 0.980966837919024 and parameters: {'learning_rate': 0.007971398530508473, 'num_dense_layers': 4, 'num_dense_nodes': 146, 'drop_out': 0.045011052764179715, 'AC': 'sigmoid'}. Best is trial 84 with value: 0.9561311410594248.\u001b[0m\n"
     ]
    },
    {
     "name": "stdout",
     "output_type": "stream",
     "text": [
      "train_loss 1.2302\n"
     ]
    },
    {
     "name": "stderr",
     "output_type": "stream",
     "text": [
      "\u001b[32m[I 2022-01-31 16:08:00,560]\u001b[0m Trial 96 finished with value: 1.0083913559588757 and parameters: {'learning_rate': 0.027575442417245077, 'num_dense_layers': 4, 'num_dense_nodes': 148, 'drop_out': 0.04407571996712391, 'AC': 'sigmoid'}. Best is trial 84 with value: 0.9561311410594248.\u001b[0m\n"
     ]
    },
    {
     "name": "stdout",
     "output_type": "stream",
     "text": [
      "train_loss 1.1211\n"
     ]
    },
    {
     "name": "stderr",
     "output_type": "stream",
     "text": [
      "\u001b[32m[I 2022-01-31 16:08:11,926]\u001b[0m Trial 97 finished with value: 0.9939959446865869 and parameters: {'learning_rate': 0.008768133110857204, 'num_dense_layers': 5, 'num_dense_nodes': 154, 'drop_out': 0.0263561835223111, 'AC': 'sigmoid'}. Best is trial 84 with value: 0.9561311410594248.\u001b[0m\n"
     ]
    },
    {
     "name": "stdout",
     "output_type": "stream",
     "text": [
      "train_loss 1.1629\n"
     ]
    },
    {
     "name": "stderr",
     "output_type": "stream",
     "text": [
      "\u001b[32m[I 2022-01-31 16:08:21,808]\u001b[0m Trial 98 finished with value: 0.9839368555601241 and parameters: {'learning_rate': 0.018720460032615623, 'num_dense_layers': 4, 'num_dense_nodes': 130, 'drop_out': 0.0503723428960597, 'AC': 'sigmoid'}. Best is trial 84 with value: 0.9561311410594248.\u001b[0m\n"
     ]
    },
    {
     "name": "stdout",
     "output_type": "stream",
     "text": [
      "train_loss 1.1409\n"
     ]
    },
    {
     "name": "stderr",
     "output_type": "stream",
     "text": [
      "\u001b[32m[I 2022-01-31 16:08:31,726]\u001b[0m Trial 99 finished with value: 0.9841436150938696 and parameters: {'learning_rate': 0.03301462729463568, 'num_dense_layers': 4, 'num_dense_nodes': 130, 'drop_out': 0.050229124294004134, 'AC': 'sigmoid'}. Best is trial 84 with value: 0.9561311410594248.\u001b[0m\n"
     ]
    },
    {
     "name": "stdout",
     "output_type": "stream",
     "text": [
      "train_loss 1.2052\n"
     ]
    },
    {
     "data": {
      "text/plain": [
       "{'learning_rate': 0.016972496809960123,\n",
       " 'num_dense_layers': 3,\n",
       " 'num_dense_nodes': 120,\n",
       " 'drop_out': 0.018154178211724742,\n",
       " 'AC': 'sigmoid'}"
      ]
     },
     "execution_count": 17,
     "metadata": {},
     "output_type": "execute_result"
    }
   ],
   "source": [
    "import optuna\n",
    "study = optuna.create_study(sampler = optuna.samplers.TPESampler(),direction = 'minimize') #NSGAIISampler\n",
    "study.optimize(fitness, n_trials = 100)\n",
    "study.best_params"
   ]
  },
  {
   "cell_type": "markdown",
   "metadata": {},
   "source": [
    "# Validating the best parameters"
   ]
  },
  {
   "cell_type": "code",
   "execution_count": null,
   "metadata": {},
   "outputs": [],
   "source": []
  },
  {
   "cell_type": "code",
   "execution_count": 55,
   "metadata": {},
   "outputs": [],
   "source": [
    "from sklearn.preprocessing import StandardScaler\n",
    "x_scaler = StandardScaler()\n",
    "y_scaler = StandardScaler()\n",
    "\n",
    "train_x = x_scaler.fit_transform(train_df[input_feature])\n",
    "test_x = x_scaler.transform(test_df[input_feature])\n",
    "train_y = y_scaler.fit_transform(train_df[output])\n",
    "test_y = y_scaler.fit_transform(test_df[output])"
   ]
  },
  {
   "cell_type": "code",
   "execution_count": 59,
   "metadata": {},
   "outputs": [
    {
     "name": "stderr",
     "output_type": "stream",
     "text": [
      "2022-01-13 15:58:27.675964: I tensorflow/core/grappler/optimizers/custom_graph_optimizer_registry.cc:112] Plugin optimizer for device_type GPU is enabled.\n",
      "2022-01-13 15:58:28.253652: I tensorflow/core/grappler/optimizers/custom_graph_optimizer_registry.cc:112] Plugin optimizer for device_type GPU is enabled.\n",
      "2022-01-13 15:58:42.318079: I tensorflow/core/grappler/optimizers/custom_graph_optimizer_registry.cc:112] Plugin optimizer for device_type GPU is enabled.\n"
     ]
    },
    {
     "name": "stdout",
     "output_type": "stream",
     "text": [
      "1.0705926831440253\n"
     ]
    }
   ],
   "source": [
    "input_length = len(train_x[0])\n",
    "#create_model(input_length, num_dense_layers, num_dense_nodes, learning_rate, drop_out,nonlinearit\n",
    "best_model = create_model(input_length,2,158,0.024158339300392132,0.014244542201812094,'relu')\n",
    "best_model.fit(train_x, train_y, validation_data= [test_x,test_y], batch_size=1000, epochs=100, verbose=0)\n",
    "print(mean_squared_error(test_df[output].values,y_scaler.inverse_transform(best_model.predict(test_x))))\n"
   ]
  },
  {
   "cell_type": "code",
   "execution_count": 60,
   "metadata": {},
   "outputs": [
    {
     "name": "stdout",
     "output_type": "stream",
     "text": [
      "Algorithm RF, Train_error 0.004373345100766727, Test_error 0.059385398268699596\n",
      "Algorithm ADB, Train_error 0.3243090585762014, Test_error 0.36334462856269095\n",
      "Algorithm GBR, Train_error 0.10758119925708831, Test_error 0.1279966950860796\n",
      "Algorithm ETR, Train_error 1.1292922030014196e-05, Test_error 0.05311842296101357\n",
      "Algorithm BGR, Train_error 0.004224617945685642, Test_error 0.05291741162874857\n"
     ]
    }
   ],
   "source": [
    "from sklearn.metrics import mean_squared_error,r2_score\n",
    "\n",
    "\n",
    "from sklearn.svm import SVR\n",
    "from sklearn.ensemble import RandomForestRegressor,AdaBoostRegressor,\\\n",
    "    GradientBoostingRegressor,ExtraTreesRegressor, BaggingRegressor\n",
    "\n",
    "    \n",
    "model_list = [('RF',RandomForestRegressor(n_estimators=50)),('ADB',AdaBoostRegressor(n_estimators=50)),\n",
    "('GBR',GradientBoostingRegressor(n_estimators=50)),('ETR',ExtraTreesRegressor(n_estimators=50)),\n",
    "('BGR',BaggingRegressor(ExtraTreesRegressor(n_estimators=50)))]\n",
    "\n",
    "\n",
    "\n",
    "for model_name, model in model_list:\n",
    "\n",
    "    model.fit(train_x,train_y)\n",
    "    test_pre = model.predict(test_x)\n",
    "    train_error = mean_squared_error(train_y,model.predict(train_x))\n",
    "    test_error = mean_squared_error(test_y,test_pre)\n",
    "    print('Algorithm {}, Train_error {}, Test_error {}'.format(model_name,train_error,test_error))\n",
    "    #plt.scatter(test_y,test_pre)"
   ]
  },
  {
   "cell_type": "code",
   "execution_count": null,
   "metadata": {},
   "outputs": [],
   "source": []
  },
  {
   "cell_type": "code",
   "execution_count": null,
   "metadata": {},
   "outputs": [],
   "source": []
  },
  {
   "cell_type": "code",
   "execution_count": null,
   "metadata": {},
   "outputs": [],
   "source": []
  }
 ],
 "metadata": {
  "interpreter": {
   "hash": "7d821a8c28090d86cb959d7118e0657be232947989368ad1ff415cdf8c2de463"
  },
  "kernelspec": {
   "display_name": "Python 3.9.7 64-bit ('tensorflow-env': conda)",
   "language": "python",
   "name": "python3"
  },
  "language_info": {
   "codemirror_mode": {
    "name": "ipython",
    "version": 3
   },
   "file_extension": ".py",
   "mimetype": "text/x-python",
   "name": "python",
   "nbconvert_exporter": "python",
   "pygments_lexer": "ipython3",
   "version": "3.9.7"
  },
  "orig_nbformat": 4
 },
 "nbformat": 4,
 "nbformat_minor": 2
}
