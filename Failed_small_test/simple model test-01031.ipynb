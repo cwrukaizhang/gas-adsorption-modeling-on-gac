{
 "cells": [
  {
   "cell_type": "code",
   "execution_count": 5,
   "metadata": {},
   "outputs": [],
   "source": [
    "import torch\n",
    "import optuna\n",
    "import pandas as pd \n",
    "import numpy as np\n"
   ]
  },
  {
   "cell_type": "code",
   "execution_count": 40,
   "metadata": {},
   "outputs": [],
   "source": [
    "import torch.nn as nn\n",
    "class Net(nn.Module):\n",
    "    def __init__(self,input_length):\n",
    "        super().__init__()\n",
    "        self.input_length = input_length\n",
    "        self.fc1 = torch.nn.Linear(self.input_length,30)\n",
    "        self.ac1 = torch.nn.ReLU()\n",
    "        self.fc2 = torch.nn.Linear(30,30)\n",
    "        self.ac2 = torch.nn.ReLU()\n",
    "        self.fc3 = torch.nn.Linear(30,20)\n",
    "        self.ac3 = torch.nn.ReLU()\n",
    "        self.out = torch.nn.Linear(20,1)\n",
    "    def forward(self,x):\n",
    "        out = self.ac1(self.fc1(x))\n",
    "        out = self.ac2(self.fc2(out))\n",
    "        out = self.ac3(self.fc3(out))\n",
    "        return self.out(out)"
   ]
  },
  {
   "cell_type": "markdown",
   "metadata": {},
   "source": [
    "# Pick five pressure from each "
   ]
  },
  {
   "cell_type": "code",
   "execution_count": 6,
   "metadata": {},
   "outputs": [],
   "source": [
    "from sklearn.preprocessing import MinMaxScaler\n",
    "from sklearn.model_selection import train_test_split\n",
    "\n",
    "\n",
    "def pred_dataset(file_names):\n",
    "    source_path = 'C:/Kai_Zhang/MachineLearning/Unified gas Adsorption/CO2_adsorption/new_data'\n",
    "    pressure = []\n",
    "    for file_name in file_names:\n",
    "        temp_data = pd.read_excel(os.path.join(source_path,file_name+'-01-10-2022.xlsx'),skiprows=1)\n",
    "        #print(temp_data.head())\n",
    "        indexes = sorted(list(set(temp_data['Index'].values)))\n",
    "        #print(indexes)\n",
    "        for index in indexes:\n",
    "            temp_iso = temp_data[temp_data['Index']==index]\n",
    "            temp_pres = []\n",
    "            if len(temp_iso)>=5:\n",
    "                pressures = list(temp_iso['Pressure'].values)\n",
    "                temp_pres.append(pressures[0])\n",
    "                temp_pres.append(pressures[-1])\n",
    "                temp_pres.extend(np.random.choice(pressures[1:-1],3,replace=False))\n",
    "                pressure.append(sorted(temp_pres)) \n",
    "    return pressure\n"
   ]
  },
  {
   "cell_type": "code",
   "execution_count": 8,
   "metadata": {},
   "outputs": [],
   "source": [
    "from sklearn.utils import shuffle\n",
    "pressure = pred_dataset(['CO2','Methane',\"Ethane&Ethylene\",'CFCs','Hydrogen'])\n",
    "pd.DataFrame(pressure).to_csv('./Pressure.csv')"
   ]
  },
  {
   "cell_type": "markdown",
   "metadata": {},
   "source": [
    "# Test simple method"
   ]
  },
  {
   "cell_type": "code",
   "execution_count": 46,
   "metadata": {},
   "outputs": [],
   "source": [
    "from sklearn.model_selection import train_test_split\n",
    "import pandas as pd\n",
    "import numpy as np\n",
    "\n",
    "#index_total = [\"S\",'V','L',\"BET\",'Vt','Temp(K)','P1','P2','P3','P4','P5',\"K\",\"n\",'Vmic']\n",
    "index_total = [\"S\",'V','L',\"BET\",'Vt','Temp(K)',\"K\",\"n\",'Vmic',]\n",
    "def pred_dataset(file_names):\n",
    "    source_path = 'C:/Kai_Zhang/MachineLearning/Unified gas Adsorption/CO2_adsorption/new_data'\n",
    "    train_df = pd.DataFrame()\n",
    "    test_df = pd.DataFrame()\n",
    "    for file_name in file_names:\n",
    "        temp_data = pd.read_csv(os.path.join(source_path,file_name+'-fitting-02-01-2022.csv'))\n",
    "        \n",
    "        temp_data = temp_data.dropna(axis=0,how = 'any',subset = [\"BET\",\"Vt\"])\n",
    "        #temp_data = temp_data[temp_data['R2']>0.95]\n",
    "        #temp_data = temp_data[temp_data['Vmic']<2]\n",
    "        temp_data = temp_data[index_total]\n",
    "        train_x,test_x = train_test_split(temp_data,test_size = 0.1)\n",
    "        \n",
    "        train_df = pd.concat([train_df,train_x],axis=0)\n",
    "        test_df = pd.concat([test_df,test_x],axis =0)\n",
    "    return train_df,test_df"
   ]
  },
  {
   "cell_type": "code",
   "execution_count": 72,
   "metadata": {},
   "outputs": [],
   "source": [
    "from sklearn.model_selection import train_test_split\n",
    "import pandas as pd\n",
    "import numpy as np\n",
    "\n",
    "#index_total = [\"S\",'V','L',\"BET\",'Vt','Temp(K)','P1','P2','P3','P4','P5',\"K\",\"n\",'Vmic']\n",
    "index_total = [\"S\",'V','L',\"BET\",'Index','Vt','Temp(K)',\"K\",\"n\",'Vmic',]\n",
    "def pred_dataset(file_names):\n",
    "    source_path = 'C:/Kai_Zhang/MachineLearning/Unified gas Adsorption/CO2_adsorption/new_data'\n",
    "    data_df = pd.DataFrame()\n",
    "    \n",
    "    for file_name in file_names:\n",
    "        temp_data = pd.read_csv(os.path.join(source_path,file_name+'-fitting-02-01-2022.csv'))\n",
    "        \n",
    "        temp_data = temp_data.dropna(axis=0,how = 'any',subset = [\"BET\",\"Vt\",'Vmic'])\n",
    "        #temp_data = temp_data[temp_data['R2']>0.95]\n",
    "        #temp_data = temp_data[temp_data['Vmic']<2]\n",
    "        temp_data = temp_data[index_total]\n",
    "        data_df = pd.concat([data_df,temp_data],axis=0)   \n",
    "    return data_df"
   ]
  },
  {
   "cell_type": "code",
   "execution_count": 73,
   "metadata": {},
   "outputs": [
    {
     "data": {
      "text/html": [
       "<div>\n",
       "<style scoped>\n",
       "    .dataframe tbody tr th:only-of-type {\n",
       "        vertical-align: middle;\n",
       "    }\n",
       "\n",
       "    .dataframe tbody tr th {\n",
       "        vertical-align: top;\n",
       "    }\n",
       "\n",
       "    .dataframe thead th {\n",
       "        text-align: right;\n",
       "    }\n",
       "</style>\n",
       "<table border=\"1\" class=\"dataframe\">\n",
       "  <thead>\n",
       "    <tr style=\"text-align: right;\">\n",
       "      <th></th>\n",
       "      <th>S</th>\n",
       "      <th>V</th>\n",
       "      <th>L</th>\n",
       "      <th>BET</th>\n",
       "      <th>Index</th>\n",
       "      <th>Vt</th>\n",
       "      <th>Temp(K)</th>\n",
       "      <th>K</th>\n",
       "      <th>n</th>\n",
       "      <th>Vmic</th>\n",
       "    </tr>\n",
       "  </thead>\n",
       "  <tbody>\n",
       "    <tr>\n",
       "      <th>0</th>\n",
       "      <td>0.28</td>\n",
       "      <td>0.2809</td>\n",
       "      <td>0.058</td>\n",
       "      <td>1239.0</td>\n",
       "      <td>0</td>\n",
       "      <td>0.43</td>\n",
       "      <td>298.0</td>\n",
       "      <td>3.718193</td>\n",
       "      <td>0.580048</td>\n",
       "      <td>NaN</td>\n",
       "    </tr>\n",
       "    <tr>\n",
       "      <th>1</th>\n",
       "      <td>0.28</td>\n",
       "      <td>0.2809</td>\n",
       "      <td>0.058</td>\n",
       "      <td>1500.0</td>\n",
       "      <td>1</td>\n",
       "      <td>0.52</td>\n",
       "      <td>298.0</td>\n",
       "      <td>4.239549</td>\n",
       "      <td>0.645567</td>\n",
       "      <td>NaN</td>\n",
       "    </tr>\n",
       "    <tr>\n",
       "      <th>2</th>\n",
       "      <td>0.28</td>\n",
       "      <td>0.2809</td>\n",
       "      <td>0.058</td>\n",
       "      <td>1636.0</td>\n",
       "      <td>2</td>\n",
       "      <td>0.54</td>\n",
       "      <td>298.0</td>\n",
       "      <td>3.923048</td>\n",
       "      <td>0.686518</td>\n",
       "      <td>NaN</td>\n",
       "    </tr>\n",
       "    <tr>\n",
       "      <th>3</th>\n",
       "      <td>0.28</td>\n",
       "      <td>0.2809</td>\n",
       "      <td>0.058</td>\n",
       "      <td>1239.0</td>\n",
       "      <td>3</td>\n",
       "      <td>0.43</td>\n",
       "      <td>273.0</td>\n",
       "      <td>5.778978</td>\n",
       "      <td>0.483666</td>\n",
       "      <td>NaN</td>\n",
       "    </tr>\n",
       "    <tr>\n",
       "      <th>4</th>\n",
       "      <td>0.28</td>\n",
       "      <td>0.2809</td>\n",
       "      <td>0.058</td>\n",
       "      <td>1500.0</td>\n",
       "      <td>4</td>\n",
       "      <td>0.52</td>\n",
       "      <td>273.0</td>\n",
       "      <td>6.330842</td>\n",
       "      <td>0.575817</td>\n",
       "      <td>NaN</td>\n",
       "    </tr>\n",
       "    <tr>\n",
       "      <th>...</th>\n",
       "      <td>...</td>\n",
       "      <td>...</td>\n",
       "      <td>...</td>\n",
       "      <td>...</td>\n",
       "      <td>...</td>\n",
       "      <td>...</td>\n",
       "      <td>...</td>\n",
       "      <td>...</td>\n",
       "      <td>...</td>\n",
       "      <td>...</td>\n",
       "    </tr>\n",
       "    <tr>\n",
       "      <th>122</th>\n",
       "      <td>0.49</td>\n",
       "      <td>0.2849</td>\n",
       "      <td>0.040</td>\n",
       "      <td>2200.0</td>\n",
       "      <td>2318</td>\n",
       "      <td>1.00</td>\n",
       "      <td>347.3</td>\n",
       "      <td>8.385590</td>\n",
       "      <td>0.704511</td>\n",
       "      <td>NaN</td>\n",
       "    </tr>\n",
       "    <tr>\n",
       "      <th>123</th>\n",
       "      <td>0.49</td>\n",
       "      <td>0.2849</td>\n",
       "      <td>0.040</td>\n",
       "      <td>3200.0</td>\n",
       "      <td>2319</td>\n",
       "      <td>1.70</td>\n",
       "      <td>317.7</td>\n",
       "      <td>17.408341</td>\n",
       "      <td>0.724386</td>\n",
       "      <td>NaN</td>\n",
       "    </tr>\n",
       "    <tr>\n",
       "      <th>124</th>\n",
       "      <td>0.49</td>\n",
       "      <td>0.2849</td>\n",
       "      <td>0.040</td>\n",
       "      <td>3200.0</td>\n",
       "      <td>2320</td>\n",
       "      <td>1.70</td>\n",
       "      <td>327.3</td>\n",
       "      <td>15.579179</td>\n",
       "      <td>0.755499</td>\n",
       "      <td>NaN</td>\n",
       "    </tr>\n",
       "    <tr>\n",
       "      <th>125</th>\n",
       "      <td>0.49</td>\n",
       "      <td>0.2849</td>\n",
       "      <td>0.040</td>\n",
       "      <td>3200.0</td>\n",
       "      <td>2321</td>\n",
       "      <td>1.70</td>\n",
       "      <td>337.4</td>\n",
       "      <td>12.746224</td>\n",
       "      <td>0.788900</td>\n",
       "      <td>NaN</td>\n",
       "    </tr>\n",
       "    <tr>\n",
       "      <th>126</th>\n",
       "      <td>0.49</td>\n",
       "      <td>0.2849</td>\n",
       "      <td>0.040</td>\n",
       "      <td>3200.0</td>\n",
       "      <td>2322</td>\n",
       "      <td>1.70</td>\n",
       "      <td>347.3</td>\n",
       "      <td>10.876703</td>\n",
       "      <td>0.805170</td>\n",
       "      <td>NaN</td>\n",
       "    </tr>\n",
       "  </tbody>\n",
       "</table>\n",
       "<p>3468 rows × 10 columns</p>\n",
       "</div>"
      ],
      "text/plain": [
       "        S       V      L     BET  Index    Vt  Temp(K)          K         n  \\\n",
       "0    0.28  0.2809  0.058  1239.0      0  0.43    298.0   3.718193  0.580048   \n",
       "1    0.28  0.2809  0.058  1500.0      1  0.52    298.0   4.239549  0.645567   \n",
       "2    0.28  0.2809  0.058  1636.0      2  0.54    298.0   3.923048  0.686518   \n",
       "3    0.28  0.2809  0.058  1239.0      3  0.43    273.0   5.778978  0.483666   \n",
       "4    0.28  0.2809  0.058  1500.0      4  0.52    273.0   6.330842  0.575817   \n",
       "..    ...     ...    ...     ...    ...   ...      ...        ...       ...   \n",
       "122  0.49  0.2849  0.040  2200.0   2318  1.00    347.3   8.385590  0.704511   \n",
       "123  0.49  0.2849  0.040  3200.0   2319  1.70    317.7  17.408341  0.724386   \n",
       "124  0.49  0.2849  0.040  3200.0   2320  1.70    327.3  15.579179  0.755499   \n",
       "125  0.49  0.2849  0.040  3200.0   2321  1.70    337.4  12.746224  0.788900   \n",
       "126  0.49  0.2849  0.040  3200.0   2322  1.70    347.3  10.876703  0.805170   \n",
       "\n",
       "     Vmic  \n",
       "0     NaN  \n",
       "1     NaN  \n",
       "2     NaN  \n",
       "3     NaN  \n",
       "4     NaN  \n",
       "..    ...  \n",
       "122   NaN  \n",
       "123   NaN  \n",
       "124   NaN  \n",
       "125   NaN  \n",
       "126   NaN  \n",
       "\n",
       "[3468 rows x 10 columns]"
      ]
     },
     "execution_count": 73,
     "metadata": {},
     "output_type": "execute_result"
    }
   ],
   "source": [
    "data_set = pred_dataset(['CO2','Methane','Ethane&Ethylene','CFCs'])\n",
    "data_set"
   ]
  },
  {
   "cell_type": "code",
   "execution_count": 81,
   "metadata": {},
   "outputs": [
    {
     "data": {
      "text/html": [
       "<div>\n",
       "<style scoped>\n",
       "    .dataframe tbody tr th:only-of-type {\n",
       "        vertical-align: middle;\n",
       "    }\n",
       "\n",
       "    .dataframe tbody tr th {\n",
       "        vertical-align: top;\n",
       "    }\n",
       "\n",
       "    .dataframe thead th {\n",
       "        text-align: right;\n",
       "    }\n",
       "</style>\n",
       "<table border=\"1\" class=\"dataframe\">\n",
       "  <thead>\n",
       "    <tr style=\"text-align: right;\">\n",
       "      <th></th>\n",
       "      <th>S</th>\n",
       "      <th>V</th>\n",
       "      <th>L</th>\n",
       "      <th>BET</th>\n",
       "      <th>Index</th>\n",
       "      <th>Vt</th>\n",
       "      <th>Temp(K)</th>\n",
       "      <th>K</th>\n",
       "      <th>n</th>\n",
       "      <th>Vmic</th>\n",
       "    </tr>\n",
       "  </thead>\n",
       "  <tbody>\n",
       "    <tr>\n",
       "      <th>31</th>\n",
       "      <td>0.28</td>\n",
       "      <td>0.2809</td>\n",
       "      <td>0.058</td>\n",
       "      <td>1479.0</td>\n",
       "      <td>31</td>\n",
       "      <td>0.7100</td>\n",
       "      <td>298.0</td>\n",
       "      <td>3.474703</td>\n",
       "      <td>0.687310</td>\n",
       "      <td>0.6300</td>\n",
       "    </tr>\n",
       "    <tr>\n",
       "      <th>32</th>\n",
       "      <td>0.28</td>\n",
       "      <td>0.2809</td>\n",
       "      <td>0.058</td>\n",
       "      <td>2264.0</td>\n",
       "      <td>32</td>\n",
       "      <td>1.0200</td>\n",
       "      <td>298.0</td>\n",
       "      <td>3.179363</td>\n",
       "      <td>0.763878</td>\n",
       "      <td>0.9200</td>\n",
       "    </tr>\n",
       "    <tr>\n",
       "      <th>33</th>\n",
       "      <td>0.28</td>\n",
       "      <td>0.2809</td>\n",
       "      <td>0.058</td>\n",
       "      <td>1778.0</td>\n",
       "      <td>33</td>\n",
       "      <td>1.0200</td>\n",
       "      <td>298.0</td>\n",
       "      <td>1.959096</td>\n",
       "      <td>0.786037</td>\n",
       "      <td>0.6700</td>\n",
       "    </tr>\n",
       "    <tr>\n",
       "      <th>38</th>\n",
       "      <td>0.28</td>\n",
       "      <td>0.2809</td>\n",
       "      <td>0.058</td>\n",
       "      <td>1470.0</td>\n",
       "      <td>38</td>\n",
       "      <td>0.6415</td>\n",
       "      <td>298.0</td>\n",
       "      <td>4.401633</td>\n",
       "      <td>0.442913</td>\n",
       "      <td>0.6304</td>\n",
       "    </tr>\n",
       "    <tr>\n",
       "      <th>39</th>\n",
       "      <td>0.28</td>\n",
       "      <td>0.2809</td>\n",
       "      <td>0.058</td>\n",
       "      <td>1470.0</td>\n",
       "      <td>39</td>\n",
       "      <td>0.6415</td>\n",
       "      <td>308.0</td>\n",
       "      <td>3.513874</td>\n",
       "      <td>0.469464</td>\n",
       "      <td>0.6304</td>\n",
       "    </tr>\n",
       "    <tr>\n",
       "      <th>...</th>\n",
       "      <td>...</td>\n",
       "      <td>...</td>\n",
       "      <td>...</td>\n",
       "      <td>...</td>\n",
       "      <td>...</td>\n",
       "      <td>...</td>\n",
       "      <td>...</td>\n",
       "      <td>...</td>\n",
       "      <td>...</td>\n",
       "      <td>...</td>\n",
       "    </tr>\n",
       "    <tr>\n",
       "      <th>105</th>\n",
       "      <td>0.49</td>\n",
       "      <td>0.2849</td>\n",
       "      <td>0.040</td>\n",
       "      <td>888.9</td>\n",
       "      <td>2301</td>\n",
       "      <td>0.4400</td>\n",
       "      <td>323.0</td>\n",
       "      <td>1.314853</td>\n",
       "      <td>0.641322</td>\n",
       "      <td>0.4000</td>\n",
       "    </tr>\n",
       "    <tr>\n",
       "      <th>106</th>\n",
       "      <td>0.49</td>\n",
       "      <td>0.2849</td>\n",
       "      <td>0.040</td>\n",
       "      <td>888.9</td>\n",
       "      <td>2302</td>\n",
       "      <td>0.4400</td>\n",
       "      <td>343.0</td>\n",
       "      <td>0.869026</td>\n",
       "      <td>0.688773</td>\n",
       "      <td>0.4000</td>\n",
       "    </tr>\n",
       "    <tr>\n",
       "      <th>107</th>\n",
       "      <td>0.49</td>\n",
       "      <td>0.2849</td>\n",
       "      <td>0.040</td>\n",
       "      <td>743.1</td>\n",
       "      <td>2303</td>\n",
       "      <td>0.3700</td>\n",
       "      <td>303.0</td>\n",
       "      <td>1.795771</td>\n",
       "      <td>0.548770</td>\n",
       "      <td>0.3300</td>\n",
       "    </tr>\n",
       "    <tr>\n",
       "      <th>108</th>\n",
       "      <td>0.49</td>\n",
       "      <td>0.2849</td>\n",
       "      <td>0.040</td>\n",
       "      <td>743.1</td>\n",
       "      <td>2304</td>\n",
       "      <td>0.3700</td>\n",
       "      <td>323.0</td>\n",
       "      <td>1.085768</td>\n",
       "      <td>0.641423</td>\n",
       "      <td>0.3300</td>\n",
       "    </tr>\n",
       "    <tr>\n",
       "      <th>109</th>\n",
       "      <td>0.49</td>\n",
       "      <td>0.2849</td>\n",
       "      <td>0.040</td>\n",
       "      <td>743.1</td>\n",
       "      <td>2305</td>\n",
       "      <td>0.3700</td>\n",
       "      <td>343.0</td>\n",
       "      <td>0.731576</td>\n",
       "      <td>0.684797</td>\n",
       "      <td>0.3300</td>\n",
       "    </tr>\n",
       "  </tbody>\n",
       "</table>\n",
       "<p>2520 rows × 10 columns</p>\n",
       "</div>"
      ],
      "text/plain": [
       "        S       V      L     BET  Index      Vt  Temp(K)         K         n  \\\n",
       "31   0.28  0.2809  0.058  1479.0     31  0.7100    298.0  3.474703  0.687310   \n",
       "32   0.28  0.2809  0.058  2264.0     32  1.0200    298.0  3.179363  0.763878   \n",
       "33   0.28  0.2809  0.058  1778.0     33  1.0200    298.0  1.959096  0.786037   \n",
       "38   0.28  0.2809  0.058  1470.0     38  0.6415    298.0  4.401633  0.442913   \n",
       "39   0.28  0.2809  0.058  1470.0     39  0.6415    308.0  3.513874  0.469464   \n",
       "..    ...     ...    ...     ...    ...     ...      ...       ...       ...   \n",
       "105  0.49  0.2849  0.040   888.9   2301  0.4400    323.0  1.314853  0.641322   \n",
       "106  0.49  0.2849  0.040   888.9   2302  0.4400    343.0  0.869026  0.688773   \n",
       "107  0.49  0.2849  0.040   743.1   2303  0.3700    303.0  1.795771  0.548770   \n",
       "108  0.49  0.2849  0.040   743.1   2304  0.3700    323.0  1.085768  0.641423   \n",
       "109  0.49  0.2849  0.040   743.1   2305  0.3700    343.0  0.731576  0.684797   \n",
       "\n",
       "       Vmic  \n",
       "31   0.6300  \n",
       "32   0.9200  \n",
       "33   0.6700  \n",
       "38   0.6304  \n",
       "39   0.6304  \n",
       "..      ...  \n",
       "105  0.4000  \n",
       "106  0.4000  \n",
       "107  0.3300  \n",
       "108  0.3300  \n",
       "109  0.3300  \n",
       "\n",
       "[2520 rows x 10 columns]"
      ]
     },
     "execution_count": 81,
     "metadata": {},
     "output_type": "execute_result"
    }
   ],
   "source": [
    "train_data = data_set.dropna(axis=0,how = 'any',subset = [\"Vmic\"])\n",
    "train_data"
   ]
  },
  {
   "cell_type": "code",
   "execution_count": 80,
   "metadata": {},
   "outputs": [],
   "source": [
    "target = data_set[~data_set['Index'].isin(list(train_data[\"Index\"].values))]\n",
    "target.drop(columns = \"Index\").to_csv('./Vmic_target.csv')"
   ]
  },
  {
   "cell_type": "code",
   "execution_count": 56,
   "metadata": {},
   "outputs": [],
   "source": [
    "from sklearn.utils import shuffle\n",
    "train_df,test_df = pred_dataset(['CO2','Methane','Ethane&Ethylene','CFCs'])\n",
    "train_df = shuffle(train_df)\n",
    "test_df = shuffle(test_df)"
   ]
  },
  {
   "cell_type": "code",
   "execution_count": 82,
   "metadata": {},
   "outputs": [],
   "source": [
    "train_data = shuffle(train_data)\n",
    "train_df,test_df = train_test_split(train_data,test_size=0.1)"
   ]
  },
  {
   "cell_type": "code",
   "execution_count": 83,
   "metadata": {},
   "outputs": [],
   "source": [
    "# with pressure\n",
    "train_x= train_df.iloc[:,:-1]\n",
    "test_x = test_df.iloc[:,:-1] \n",
    "train_y = train_df.iloc[:,-1].values\n",
    "test_y = test_df.iloc[:,-1].values"
   ]
  },
  {
   "cell_type": "code",
   "execution_count": 132,
   "metadata": {},
   "outputs": [],
   "source": [
    "test_df.to_csv('./test_df_vmic_pred.csv')"
   ]
  },
  {
   "cell_type": "markdown",
   "metadata": {},
   "source": [
    "# cross validation + grid search\n",
    "\n"
   ]
  },
  {
   "cell_type": "code",
   "execution_count": 84,
   "metadata": {},
   "outputs": [],
   "source": [
    "from sklearn.tree import DecisionTreeRegressor\n",
    "from sklearn.ensemble import AdaBoostRegressor,GradientBoostingRegressor,\\\n",
    "    BaggingRegressor,ExtraTreesRegressor,RandomForestRegressor\n",
    "from lightgbm import LGBMRegressor  \n",
    "  \n",
    "n_estimators = [50,100,120,150,180,200,300,400]\n",
    "\n",
    "# define different models#('SVR',SVR(max_iter=10000)),\n",
    "models = [\n",
    "    ('DT',DecisionTreeRegressor(random_state=42)),\\\n",
    "     #('ADBR',AdaBoostRegressor(random_state=42)), \n",
    "    (\"GBR\",GradientBoostingRegressor(random_state=42)),\\\n",
    "    ('BG',BaggingRegressor(random_state=42,n_jobs=-1)),\n",
    "    ('ETR',ExtraTreesRegressor(random_state=42,n_jobs=-1)),\\\n",
    "    ('RF',RandomForestRegressor(n_jobs=-1,random_state=42)),\n",
    "    ('LGBM',LGBMRegressor(n_jobs = -1,random_state = 42)),\\\n",
    "    ('BGLGBM',BaggingRegressor(LGBMRegressor(n_estimators = 200, n_jobs = -1,random_state = 42), random_state=42,n_jobs=-1))\n",
    "    ]\n",
    "\n",
    "# set search parameters grid for different models\n",
    "para_grids = { #'SVR':{'kernel':['linear','poly','rbf','sigmoid','precomputed']},\\\n",
    "    'DT':{'criterion':['squared_error', 'friedman_mse', 'absolute_error', 'poisson']},\\\n",
    "    'ADBR':{'n_estimators':n_estimators,'learning_rate':[0.1,0.5,1,2],'loss':['linear','square','exponential']},\\\n",
    "    'GBR':{'n_estimators':n_estimators,'learning_rate':[0.1,0.5,1,2]},\\\n",
    "    'BG':{'n_estimators':[10,50,100]},\\\n",
    "    'ETR':{'n_estimators':n_estimators},\\\n",
    "    'RF':{'n_estimators':n_estimators},\\\n",
    "    'LGBM':{'num_leaves':[10,20,30,50],'learning_rate': [0.05,0.1,0.5,1],\n",
    "    'n_estimators':n_estimators},\\\n",
    "    'BGLGBM':{'n_estimators':[10,30,50]}\n",
    "    }"
   ]
  },
  {
   "cell_type": "code",
   "execution_count": 86,
   "metadata": {},
   "outputs": [
    {
     "name": "stdout",
     "output_type": "stream",
     "text": [
      "Algorithm DT, Train_r2_cv 0.7375815957235161, Train_mse_cv 0.024349626710782998, Test_r2 0.8065975236252066, Test_error 0.02113674089746428, best_params {'criterion': 'friedman_mse'}\n",
      "Algorithm GBR, Train_r2_cv 0.876452280762581, Train_mse_cv 0.011385113564087817, Test_r2 0.9299176929141719, Test_error 0.006889948191853902, best_params {'learning_rate': 0.5, 'n_estimators': 400}\n",
      "Algorithm BG, Train_r2_cv 0.845404581126713, Train_mse_cv 0.014199264361303796, Test_r2 0.8490476829408965, Test_error 0.012052745356194, best_params {'n_estimators': 100}\n",
      "Algorithm ETR, Train_r2_cv 0.8655722747910669, Train_mse_cv 0.012474101363170296, Test_r2 0.8769613319223581, Test_error 0.010275991252728787, best_params {'n_estimators': 200}\n",
      "Algorithm RF, Train_r2_cv 0.846496116283762, Train_mse_cv 0.014094879399369462, Test_r2 0.8597856097919659, Test_error 0.011301339675782344, best_params {'n_estimators': 300}\n",
      "Algorithm LGBM, Train_r2_cv 0.879402770742644, Train_mse_cv 0.010865575724396673, Test_r2 0.8949946143028821, Test_error 0.009086343079299437, best_params {'learning_rate': 0.1, 'n_estimators': 400, 'num_leaves': 20}\n",
      "Algorithm BGLGBM, Train_r2_cv 0.8584271259999896, Train_mse_cv 0.012863261297020803, Test_r2 0.8561006008845867, Test_error 0.011599414564211721, best_params {'n_estimators': 50}\n"
     ]
    }
   ],
   "source": [
    "from sklearn.model_selection import GridSearchCV,cross_validate\n",
    "\n",
    "\n",
    "for model_name,model in models:\n",
    "    result = GridSearchCV(model,para_grids[model_name],cv= 10,return_train_score=True,n_jobs=-1)\n",
    "    result.fit(train_x,train_y)\n",
    "    model_refit =model.set_params(**result.best_params_)\n",
    "    train_cv = cross_validate(model_refit,train_x,train_y,cv = 10,scoring = ('r2', 'neg_mean_squared_error'))\n",
    "    train_mse_cv = -train_cv['test_neg_mean_squared_error'].mean()\n",
    "    model_refit.fit(train_x,train_y)\n",
    "    train_r2_cv = train_cv['test_r2'].mean()\n",
    "    test_pre = model_refit.predict(test_x)\n",
    "    test_r2 = r2_score(test_pre,test_y) \n",
    "    test_mse = mean_squared_error(test_y,test_pre)\n",
    "    print('Algorithm {}, Train_r2_cv {}, Train_mse_cv {}, Test_r2 {}, Test_error {}, best_params {}'.format(model_name,train_r2_cv,train_mse_cv,test_r2,test_mse,result.best_params_))"
   ]
  },
  {
   "cell_type": "code",
   "execution_count": 11,
   "metadata": {},
   "outputs": [
    {
     "data": {
      "text/plain": [
       "{'n_estimators': 500}"
      ]
     },
     "execution_count": 11,
     "metadata": {},
     "output_type": "execute_result"
    }
   ],
   "source": [
    "result.best_params_ "
   ]
  },
  {
   "cell_type": "code",
   "execution_count": 92,
   "metadata": {},
   "outputs": [
    {
     "name": "stdout",
     "output_type": "stream",
     "text": [
      "Algorithm ETR, Train_error 0.00015293859449554272, Test_error 0.006889948191853902\n"
     ]
    },
    {
     "data": {
      "text/plain": [
       "<matplotlib.collections.PathCollection at 0x2b19f8ecc70>"
      ]
     },
     "execution_count": 92,
     "metadata": {},
     "output_type": "execute_result"
    },
    {
     "data": {
      "image/png": "[encoded data removed]",
      "text/plain": [
       "<Figure size 432x288 with 1 Axes>"
      ]
     },
     "metadata": {
      "needs_background": "light"
     },
     "output_type": "display_data"
    }
   ],
   "source": [
    "model = GradientBoostingRegressor(n_estimators = 400,random_state=42,learning_rate=0.5)\n",
    "#model = LGBMRegressor(n_estimators =400, learning_rate = 0.1, num_leaves =20,random_state=42)\n",
    "cross_validate(model,train_x,train_y,cv =10)\n",
    "model.fit(train_x,train_y)\n",
    "test_pre = model.predict(test_x)\n",
    "train_error = mean_squared_error(train_y,model.predict(train_x))\n",
    "test_error = mean_squared_error(test_y,test_pre)\n",
    "print('Algorithm {}, Train_error {}, Test_error {}'.format('ETR',train_error,test_error))\n",
    "cross_validate(model,train_x,train_y,cv =10,scoring = 'neg_mean_squared_error')\n",
    "plt.scatter(test_y,test_pre)"
   ]
  },
  {
   "cell_type": "code",
   "execution_count": 93,
   "metadata": {},
   "outputs": [],
   "source": [
    "Vmic_pred = model.predict(target.iloc[:,:-1])"
   ]
  },
  {
   "cell_type": "code",
   "execution_count": 95,
   "metadata": {},
   "outputs": [
    {
     "name": "stderr",
     "output_type": "stream",
     "text": [
      "C:\\Users\\kxz231\\AppData\\Local\\Temp/ipykernel_20640/3497566090.py:1: SettingWithCopyWarning: \n",
      "A value is trying to be set on a copy of a slice from a DataFrame.\n",
      "Try using .loc[row_indexer,col_indexer] = value instead\n",
      "\n",
      "See the caveats in the documentation: https://pandas.pydata.org/pandas-docs/stable/user_guide/indexing.html#returning-a-view-versus-a-copy\n",
      "  target[\"Vmic_pred\"] = Vmic_pred\n"
     ]
    }
   ],
   "source": [
    "target[\"Vmic_pred\"] = Vmic_pred"
   ]
  },
  {
   "cell_type": "code",
   "execution_count": 97,
   "metadata": {},
   "outputs": [],
   "source": [
    "target.to_csv('./Vmic_target.csv')"
   ]
  },
  {
   "cell_type": "code",
   "execution_count": 137,
   "metadata": {},
   "outputs": [
    {
     "data": {
      "text/plain": [
       "Int64Index([414, 415], dtype='int64')"
      ]
     },
     "execution_count": 137,
     "metadata": {},
     "output_type": "execute_result"
    }
   ],
   "source": [
    "import numpy as np\n",
    "#train_df\n",
    "train_df['Vmeso'].index[train_df['Vmeso'].apply(np.isnan)]"
   ]
  },
  {
   "cell_type": "markdown",
   "metadata": {},
   "source": [
    "# Back-filling the predicted Vmic to the original dataset"
   ]
  },
  {
   "cell_type": "code",
   "execution_count": 133,
   "metadata": {},
   "outputs": [],
   "source": [
    "import pandas as pd\n",
    "Vmic_pred = pd.read_excel('./Vmiv_target_revised.xlsx')"
   ]
  },
  {
   "cell_type": "code",
   "execution_count": 134,
   "metadata": {},
   "outputs": [
    {
     "data": {
      "text/html": [
       "<div>\n",
       "<style scoped>\n",
       "    .dataframe tbody tr th:only-of-type {\n",
       "        vertical-align: middle;\n",
       "    }\n",
       "\n",
       "    .dataframe tbody tr th {\n",
       "        vertical-align: top;\n",
       "    }\n",
       "\n",
       "    .dataframe thead th {\n",
       "        text-align: right;\n",
       "    }\n",
       "</style>\n",
       "<table border=\"1\" class=\"dataframe\">\n",
       "  <thead>\n",
       "    <tr style=\"text-align: right;\">\n",
       "      <th></th>\n",
       "      <th>Unnamed: 0</th>\n",
       "      <th>S</th>\n",
       "      <th>V</th>\n",
       "      <th>L</th>\n",
       "      <th>BET</th>\n",
       "      <th>Index</th>\n",
       "      <th>Vt</th>\n",
       "      <th>Temp(K)</th>\n",
       "      <th>K</th>\n",
       "      <th>n</th>\n",
       "      <th>Vmic</th>\n",
       "      <th>Vmic_pred</th>\n",
       "      <th>Unnamed: 12</th>\n",
       "    </tr>\n",
       "  </thead>\n",
       "  <tbody>\n",
       "    <tr>\n",
       "      <th>0</th>\n",
       "      <td>222</td>\n",
       "      <td>0.00</td>\n",
       "      <td>0.2495</td>\n",
       "      <td>-0.323</td>\n",
       "      <td>76.0</td>\n",
       "      <td>2973</td>\n",
       "      <td>0.049</td>\n",
       "      <td>293.13</td>\n",
       "      <td>0.103669</td>\n",
       "      <td>0.471983</td>\n",
       "      <td>NaN</td>\n",
       "      <td>0.02</td>\n",
       "      <td>1</td>\n",
       "    </tr>\n",
       "    <tr>\n",
       "      <th>1</th>\n",
       "      <td>1027</td>\n",
       "      <td>0.28</td>\n",
       "      <td>0.2809</td>\n",
       "      <td>0.058</td>\n",
       "      <td>157.0</td>\n",
       "      <td>1034</td>\n",
       "      <td>0.107</td>\n",
       "      <td>298.00</td>\n",
       "      <td>1.804947</td>\n",
       "      <td>0.509157</td>\n",
       "      <td>NaN</td>\n",
       "      <td>0.09</td>\n",
       "      <td>1</td>\n",
       "    </tr>\n",
       "    <tr>\n",
       "      <th>2</th>\n",
       "      <td>199</td>\n",
       "      <td>0.00</td>\n",
       "      <td>0.2495</td>\n",
       "      <td>-0.323</td>\n",
       "      <td>158.0</td>\n",
       "      <td>2950</td>\n",
       "      <td>0.525</td>\n",
       "      <td>313.00</td>\n",
       "      <td>0.563022</td>\n",
       "      <td>0.475013</td>\n",
       "      <td>NaN</td>\n",
       "      <td>0.14</td>\n",
       "      <td>1</td>\n",
       "    </tr>\n",
       "    <tr>\n",
       "      <th>3</th>\n",
       "      <td>200</td>\n",
       "      <td>0.00</td>\n",
       "      <td>0.2495</td>\n",
       "      <td>-0.323</td>\n",
       "      <td>158.0</td>\n",
       "      <td>2951</td>\n",
       "      <td>0.525</td>\n",
       "      <td>293.00</td>\n",
       "      <td>0.681795</td>\n",
       "      <td>0.469438</td>\n",
       "      <td>NaN</td>\n",
       "      <td>0.14</td>\n",
       "      <td>1</td>\n",
       "    </tr>\n",
       "    <tr>\n",
       "      <th>4</th>\n",
       "      <td>201</td>\n",
       "      <td>0.00</td>\n",
       "      <td>0.2495</td>\n",
       "      <td>-0.323</td>\n",
       "      <td>158.0</td>\n",
       "      <td>2952</td>\n",
       "      <td>0.525</td>\n",
       "      <td>333.00</td>\n",
       "      <td>0.431359</td>\n",
       "      <td>0.530034</td>\n",
       "      <td>NaN</td>\n",
       "      <td>0.14</td>\n",
       "      <td>1</td>\n",
       "    </tr>\n",
       "    <tr>\n",
       "      <th>...</th>\n",
       "      <td>...</td>\n",
       "      <td>...</td>\n",
       "      <td>...</td>\n",
       "      <td>...</td>\n",
       "      <td>...</td>\n",
       "      <td>...</td>\n",
       "      <td>...</td>\n",
       "      <td>...</td>\n",
       "      <td>...</td>\n",
       "      <td>...</td>\n",
       "      <td>...</td>\n",
       "      <td>...</td>\n",
       "      <td>...</td>\n",
       "    </tr>\n",
       "    <tr>\n",
       "      <th>808</th>\n",
       "      <td>1690</td>\n",
       "      <td>0.28</td>\n",
       "      <td>0.2809</td>\n",
       "      <td>0.058</td>\n",
       "      <td>3759.0</td>\n",
       "      <td>1698</td>\n",
       "      <td>0.830</td>\n",
       "      <td>298.00</td>\n",
       "      <td>4.236725</td>\n",
       "      <td>0.755719</td>\n",
       "      <td>NaN</td>\n",
       "      <td>0.31</td>\n",
       "      <td>1</td>\n",
       "    </tr>\n",
       "    <tr>\n",
       "      <th>809</th>\n",
       "      <td>1697</td>\n",
       "      <td>0.28</td>\n",
       "      <td>0.2809</td>\n",
       "      <td>0.058</td>\n",
       "      <td>3759.0</td>\n",
       "      <td>1705</td>\n",
       "      <td>0.830</td>\n",
       "      <td>318.00</td>\n",
       "      <td>2.747000</td>\n",
       "      <td>0.822839</td>\n",
       "      <td>NaN</td>\n",
       "      <td>0.31</td>\n",
       "      <td>1</td>\n",
       "    </tr>\n",
       "    <tr>\n",
       "      <th>810</th>\n",
       "      <td>1684</td>\n",
       "      <td>0.28</td>\n",
       "      <td>0.2809</td>\n",
       "      <td>0.058</td>\n",
       "      <td>3931.0</td>\n",
       "      <td>1692</td>\n",
       "      <td>0.990</td>\n",
       "      <td>273.00</td>\n",
       "      <td>7.186708</td>\n",
       "      <td>0.726596</td>\n",
       "      <td>NaN</td>\n",
       "      <td>0.58</td>\n",
       "      <td>1</td>\n",
       "    </tr>\n",
       "    <tr>\n",
       "      <th>811</th>\n",
       "      <td>1691</td>\n",
       "      <td>0.28</td>\n",
       "      <td>0.2809</td>\n",
       "      <td>0.058</td>\n",
       "      <td>3931.0</td>\n",
       "      <td>1699</td>\n",
       "      <td>0.990</td>\n",
       "      <td>298.00</td>\n",
       "      <td>4.170437</td>\n",
       "      <td>0.775864</td>\n",
       "      <td>NaN</td>\n",
       "      <td>0.58</td>\n",
       "      <td>1</td>\n",
       "    </tr>\n",
       "    <tr>\n",
       "      <th>812</th>\n",
       "      <td>1698</td>\n",
       "      <td>0.28</td>\n",
       "      <td>0.2809</td>\n",
       "      <td>0.058</td>\n",
       "      <td>3931.0</td>\n",
       "      <td>1706</td>\n",
       "      <td>0.990</td>\n",
       "      <td>318.00</td>\n",
       "      <td>2.736037</td>\n",
       "      <td>0.836930</td>\n",
       "      <td>NaN</td>\n",
       "      <td>0.58</td>\n",
       "      <td>1</td>\n",
       "    </tr>\n",
       "  </tbody>\n",
       "</table>\n",
       "<p>813 rows × 13 columns</p>\n",
       "</div>"
      ],
      "text/plain": [
       "     Unnamed: 0     S       V      L     BET  Index     Vt  Temp(K)         K  \\\n",
       "0           222  0.00  0.2495 -0.323    76.0   2973  0.049   293.13  0.103669   \n",
       "1          1027  0.28  0.2809  0.058   157.0   1034  0.107   298.00  1.804947   \n",
       "2           199  0.00  0.2495 -0.323   158.0   2950  0.525   313.00  0.563022   \n",
       "3           200  0.00  0.2495 -0.323   158.0   2951  0.525   293.00  0.681795   \n",
       "4           201  0.00  0.2495 -0.323   158.0   2952  0.525   333.00  0.431359   \n",
       "..          ...   ...     ...    ...     ...    ...    ...      ...       ...   \n",
       "808        1690  0.28  0.2809  0.058  3759.0   1698  0.830   298.00  4.236725   \n",
       "809        1697  0.28  0.2809  0.058  3759.0   1705  0.830   318.00  2.747000   \n",
       "810        1684  0.28  0.2809  0.058  3931.0   1692  0.990   273.00  7.186708   \n",
       "811        1691  0.28  0.2809  0.058  3931.0   1699  0.990   298.00  4.170437   \n",
       "812        1698  0.28  0.2809  0.058  3931.0   1706  0.990   318.00  2.736037   \n",
       "\n",
       "            n  Vmic  Vmic_pred  Unnamed: 12  \n",
       "0    0.471983   NaN       0.02            1  \n",
       "1    0.509157   NaN       0.09            1  \n",
       "2    0.475013   NaN       0.14            1  \n",
       "3    0.469438   NaN       0.14            1  \n",
       "4    0.530034   NaN       0.14            1  \n",
       "..        ...   ...        ...          ...  \n",
       "808  0.755719   NaN       0.31            1  \n",
       "809  0.822839   NaN       0.31            1  \n",
       "810  0.726596   NaN       0.58            1  \n",
       "811  0.775864   NaN       0.58            1  \n",
       "812  0.836930   NaN       0.58            1  \n",
       "\n",
       "[813 rows x 13 columns]"
      ]
     },
     "execution_count": 134,
     "metadata": {},
     "output_type": "execute_result"
    }
   ],
   "source": [
    "Vmic_pred"
   ]
  },
  {
   "cell_type": "code",
   "execution_count": 144,
   "metadata": {},
   "outputs": [],
   "source": [
    "file_name = 'CFCs'\n",
    "source_path = 'C:/Kai_Zhang/MachineLearning/Unified gas Adsorption/CO2_adsorption/new_data'\n",
    "temp_data = pd.read_excel(os.path.join(source_path,file_name+'-02-01-2022.xlsx'),skiprows= 1 )"
   ]
  },
  {
   "cell_type": "code",
   "execution_count": 145,
   "metadata": {},
   "outputs": [
    {
     "name": "stderr",
     "output_type": "stream",
     "text": [
      "C:\\Users\\kxz231\\AppData\\Local\\Temp/ipykernel_20640/126379220.py:9: SettingWithCopyWarning: \n",
      "A value is trying to be set on a copy of a slice from a DataFrame.\n",
      "Try using .loc[row_indexer,col_indexer] = value instead\n",
      "\n",
      "See the caveats in the documentation: https://pandas.pydata.org/pandas-docs/stable/user_guide/indexing.html#returning-a-view-versus-a-copy\n",
      "  temp[\"Vmic\"] = [Vmic]*ls\n",
      "C:\\Users\\kxz231\\AppData\\Local\\Temp/ipykernel_20640/126379220.py:10: SettingWithCopyWarning: \n",
      "A value is trying to be set on a copy of a slice from a DataFrame.\n",
      "Try using .loc[row_indexer,col_indexer] = value instead\n",
      "\n",
      "See the caveats in the documentation: https://pandas.pydata.org/pandas-docs/stable/user_guide/indexing.html#returning-a-view-versus-a-copy\n",
      "  temp['Vmeso'] = [Vt-Vmic]*ls\n",
      "C:\\Users\\kxz231\\AppData\\Local\\Temp/ipykernel_20640/126379220.py:11: SettingWithCopyWarning: \n",
      "A value is trying to be set on a copy of a slice from a DataFrame.\n",
      "Try using .loc[row_indexer,col_indexer] = value instead\n",
      "\n",
      "See the caveats in the documentation: https://pandas.pydata.org/pandas-docs/stable/user_guide/indexing.html#returning-a-view-versus-a-copy\n",
      "  temp['Vmic_index'] = [1]*ls\n"
     ]
    }
   ],
   "source": [
    "revised_data = pd.DataFrame()\n",
    "temp_data['Vmic_index'] =[0]*len(temp_data)\n",
    "for index in list(set(temp_data[\"Index\"].values)):\n",
    "    temp = temp_data[temp_data[\"Index\"]==index]\n",
    "    if index in list(Vmic_pred['Index'].values):\n",
    "        ls = len(temp)\n",
    "        Vmic = Vmic_pred[Vmic_pred['Index']==index][\"Vmic_pred\"].values\n",
    "        Vt = Vmic_pred[Vmic_pred['Index']==index][\"Vt\"].values\n",
    "        temp[\"Vmic\"] = [Vmic]*ls\n",
    "        temp['Vmeso'] = [Vt-Vmic]*ls\n",
    "        temp['Vmic_index'] = [1]*ls\n",
    "        \n",
    "     \n",
    "    revised_data = pd.concat([revised_data,temp],axis=0)"
   ]
  },
  {
   "cell_type": "code",
   "execution_count": 143,
   "metadata": {},
   "outputs": [],
   "source": [
    "revised_data.to_excel(os.path.join(source_path,'CFCs-02-02-2022.xlsx'))"
   ]
  },
  {
   "cell_type": "markdown",
   "metadata": {},
   "source": [
    "# Predicting Kf and n for the freundlich models"
   ]
  },
  {
   "cell_type": "code",
   "execution_count": 168,
   "metadata": {},
   "outputs": [],
   "source": [
    "from sklearn.ensemble import RandomForestRegressor,AdaBoostRegressor,\\\n",
    "    GradientBoostingRegressor,ExtraTreesRegressor, BaggingRegressor,\\\n",
    "    StackingRegressor,VotingRegressor,HistGradientBoostingRegressor  \n",
    "from sklearn.multioutput import MultiOutputRegressor  \n",
    "from sklearn.metrics import mean_squared_error,r2_score\n",
    "from sklearn.multioutput import RegressorChain\n",
    "from sklearn.neural_network import MLPRegressor\n",
    "from lightgbm import LGBMRegressor\n",
    "\n",
    "\n",
    "model_list = [('RF',RandomForestRegressor(n_estimators=50)),\n",
    "('ADB',AdaBoostRegressor(n_estimators=50)),\n",
    "('GBR',GradientBoostingRegressor(n_estimators=50)),\n",
    "('ETR',ExtraTreesRegressor(n_estimators=50)),\n",
    "('BGLGBM',BaggingRegressor(base_estimator=LGBMRegressor(objective = 'regression',num_leaves = 20,learning_rate =0.1))),\n",
    "('BGETR',BaggingRegressor(base_estimator=ExtraTreesRegressor(n_estimators=50))),\n",
    "('LGBM',LGBMRegressor(objective = 'regression',num_leaves = 40,learning_rate =0.1)),\n",
    "(\"NNR\",MLPRegressor((50,50,25)))\n",
    "]\n",
    "\n",
    "    \n",
    "ensemble_list = [('SR',StackingRegressor(model_list)),('VR',VotingRegressor(model_list)),\n",
    "('HGBT',HistGradientBoostingRegressor(model_list))]\n",
    "  \n",
    "#train_x = scaler.fit_transform(train_df.iloc[:,:-1])\n",
    "#test_x = scaler.transform(test_df.iloc[:,:-1])\n",
    "\n",
    "train_x= train_df.iloc[:,:-2]\n",
    "test_x = test_df.iloc[:,:-2] \n",
    "train_y = train_df.iloc[:,-2:].values\n",
    "test_y = test_df.iloc[:,-2:].values"
   ]
  },
  {
   "cell_type": "code",
   "execution_count": 160,
   "metadata": {},
   "outputs": [
    {
     "data": {
      "text/plain": [
       "(1863, 2)"
      ]
     },
     "execution_count": 160,
     "metadata": {},
     "output_type": "execute_result"
    }
   ],
   "source": [
    "train_y.shape"
   ]
  },
  {
   "cell_type": "code",
   "execution_count": 169,
   "metadata": {},
   "outputs": [
    {
     "name": "stdout",
     "output_type": "stream",
     "text": [
      "Algorithm RF, Train_error_kf 0.113, Test_error_kf 0.724, Test_error_n 0.014    Test_r2_kf 0.836,Test_r2_n 0.452\n",
      "Algorithm ADB, Train_error_kf 1.268, Test_error_kf 1.380, Test_error_n 0.018    Test_r2_kf 0.688,Test_r2_n 0.291\n",
      "Algorithm GBR, Train_error_kf 0.645, Test_error_kf 0.709, Test_error_n 0.014    Test_r2_kf 0.840,Test_r2_n 0.419\n",
      "Algorithm ETR, Train_error_kf 0.001, Test_error_kf 0.758, Test_error_n 0.013    Test_r2_kf 0.829,Test_r2_n 0.462\n",
      "Algorithm BGLGBM, Train_error_kf 0.392, Test_error_kf 0.608, Test_error_n 0.012    Test_r2_kf 0.863,Test_r2_n 0.519\n",
      "Algorithm BGETR, Train_error_kf 0.118, Test_error_kf 0.725, Test_error_n 0.013    Test_r2_kf 0.836,Test_r2_n 0.476\n",
      "Algorithm LGBM, Train_error_kf 0.243, Test_error_kf 0.578, Test_error_n 0.012    Test_r2_kf 0.869,Test_r2_n 0.528\n",
      "Algorithm NNR, Train_error_kf 3.756, Test_error_kf 3.532, Test_error_n 0.037    Test_r2_kf 0.202,Test_r2_n -0.505\n"
     ]
    }
   ],
   "source": [
    "# Simple multi-output\n",
    "\n",
    "for name,model in model_list:\n",
    "    chain = MultiOutputRegressor(estimator=model).fit(train_x, train_y)\n",
    "    test_pred = chain.predict(test_x)\n",
    "    train_pred = chain.predict(train_x)\n",
    "    train_error_kf = mean_squared_error(train_y[:,0],train_pred[:,0])\n",
    "    train_error_n = mean_squared_error(train_y[:,1],train_pred[:,1])\n",
    "    test_error_kf = mean_squared_error(test_y[:,0],test_pred[:,0])\n",
    "    test_error_n = mean_squared_error(test_y[:,1],test_pred[:,1])\n",
    "    test_r2_kf = r2_score(test_y[:,0],test_pred[:,0])\n",
    "    test_r2_n = r2_score(test_y[:,1],test_pred[:,1])\n",
    "    print('Algorithm {}, Train_error_kf {:.3f}, Test_error_kf {:.3f}, Test_error_n {:.3f}\\\n",
    "    Test_r2_kf {:.3f},Test_r2_n {:.3f}'.format(name,train_error_kf,test_error_kf,test_error_n,test_r2_kf,\\\n",
    "        test_r2_n))"
   ]
  },
  {
   "cell_type": "code",
   "execution_count": 146,
   "metadata": {},
   "outputs": [
    {
     "data": {
      "text/plain": [
       "array([3.64785434, 2.86939244, 2.62891434, ..., 1.69307229, 1.37475133,\n",
       "       0.25780631])"
      ]
     },
     "execution_count": 146,
     "metadata": {},
     "output_type": "execute_result"
    }
   ],
   "source": [
    "train_pred[:,0]"
   ]
  },
  {
   "cell_type": "code",
   "execution_count": 162,
   "metadata": {},
   "outputs": [
    {
     "name": "stdout",
     "output_type": "stream",
     "text": [
      "Algorithm RF, Train_error_kf 0.109, Test_error_kf 0.693, Test_error_n 0.013    Test_r2_kf 0.843,Test_r2_n 0.486\n",
      "Algorithm ADB, Train_error_kf 1.333, Test_error_kf 1.279, Test_error_n 0.018    Test_r2_kf 0.710,Test_r2_n 0.289\n",
      "Algorithm GBR, Train_error_kf 0.644, Test_error_kf 0.648, Test_error_n 0.014    Test_r2_kf 0.853,Test_r2_n 0.430\n",
      "Algorithm ETR, Train_error_kf 0.000, Test_error_kf 0.729, Test_error_n 0.013    Test_r2_kf 0.835,Test_r2_n 0.485\n",
      "Algorithm BGLGBM, Train_error_kf 0.372, Test_error_kf 0.576, Test_error_n 0.012    Test_r2_kf 0.869,Test_r2_n 0.514\n",
      "Algorithm BGETR, Train_error_kf 0.123, Test_error_kf 0.698, Test_error_n 0.013    Test_r2_kf 0.842,Test_r2_n 0.500\n",
      "Algorithm LGBM, Train_error_kf 0.220, Test_error_kf 0.555, Test_error_n 0.012    Test_r2_kf 0.874,Test_r2_n 0.511\n"
     ]
    }
   ],
   "source": [
    "# chained multi-output\n",
    "\n",
    "for name,model in model_list:\n",
    "    chain = RegressorChain(base_estimator=model).fit(train_x, train_y)\n",
    "    test_pred = chain.predict(test_x)\n",
    "    train_pred = chain.predict(train_x)\n",
    "    train_error_kf = mean_squared_error(train_y[:,0],train_pred[:,0])\n",
    "    train_error_n = mean_squared_error(train_y[:,1],train_pred[:,1])\n",
    "    test_error_kf = mean_squared_error(test_y[:,0],test_pred[:,0])\n",
    "    test_error_n = mean_squared_error(test_y[:,1],test_pred[:,1])\n",
    "    test_r2_kf = r2_score(test_y[:,0],test_pred[:,0])\n",
    "    test_r2_n = r2_score(test_y[:,1],test_pred[:,1])\n",
    "    print('Algorithm {}, Train_error_kf {:.3f}, Test_error_kf {:.3f}, Test_error_n {:.3f}\\\n",
    "    Test_r2_kf {:.3f},Test_r2_n {:.3f}'.format(name,train_error_kf,test_error_kf,test_error_n,test_r2_kf,\\\n",
    "        test_r2_n))"
   ]
  },
  {
   "cell_type": "code",
   "execution_count": null,
   "metadata": {},
   "outputs": [],
   "source": [
    "import matplotlib.pyplot as plt\n",
    "model = RandomForestRegressor(n_estimators=350)\n",
    "model.fit(train_x,train_y)\n",
    "print(r2_score(test_y,model.predict(test_x)))\n",
    "plt.scatter(test_y,model.predict(test_x))"
   ]
  },
  {
   "cell_type": "code",
   "execution_count": null,
   "metadata": {},
   "outputs": [],
   "source": [
    "ensemble_list = [StackingRegressor(model_list),VotingRegressor(model_list),\n",
    "HistGradientBoostingRegressor(model_list)]\n",
    "for model in ensemble_list:\n",
    "\n",
    "    model.fit(train_x,train_y)\n",
    "    test_pre = model.predict(test_x)\n",
    "    train_error = mean_squared_error(train_y,model.predict(train_x))\n",
    "    test_error = mean_squared_error(test_y,test_pre)\n",
    "    print('Algorithm {}, Train_error {}, Test_error {}'.format('ensemble',train_error,test_error))\n",
    "    #plt.scatter(test_y,test_pre)"
   ]
  },
  {
   "cell_type": "code",
   "execution_count": null,
   "metadata": {},
   "outputs": [],
   "source": []
  },
  {
   "cell_type": "markdown",
   "metadata": {},
   "source": [
    "# NN by torch"
   ]
  },
  {
   "cell_type": "code",
   "execution_count": 33,
   "metadata": {},
   "outputs": [],
   "source": [
    "from torch.utils.data import DataLoader\n",
    "import torch\n",
    "from sklearn.preprocessing import MinMaxScaler\n",
    "scaler = MinMaxScaler()\n",
    "\n",
    "train_x = scaler.fit_transform(train_df.iloc[:,:-1])\n",
    "test_x = scaler.transform(test_df.iloc[:,:-1])\n",
    "train_y = train_df.iloc[:,-1].values.reshape(-1,1)\n",
    "test_y = test_df.iloc[:,-1].values.reshape(-1,1)\n",
    "train_x = torch.Tensor(train_x).float()\n",
    "train_y = torch.Tensor(train_y).float()\n",
    "test_x = torch.Tensor(test_x).float()\n",
    "test_x = torch.Tensor(test_x).float()\n"
   ]
  },
  {
   "cell_type": "code",
   "execution_count": 34,
   "metadata": {},
   "outputs": [],
   "source": [
    "from torch.utils.data import Dataset\n",
    "class CustomImageDataset(Dataset):\n",
    "    def __init__(self, inputs, outputs):\n",
    "        self.inputs = inputs\n",
    "        self.outputs = outputs\n",
    "        \n",
    "    def __len__(self):\n",
    "        return len(self.inputs)\n",
    "\n",
    "    def __getitem__(self,idx):   \n",
    "        return self.inputs[idx], self.outputs[idx]"
   ]
  },
  {
   "cell_type": "code",
   "execution_count": 35,
   "metadata": {},
   "outputs": [],
   "source": [
    "train_dataset = CustomImageDataset(train_x,train_y.reshape(-1,1))\n",
    "train_loader = DataLoader(train_dataset,batch_size=100)\n",
    "val_dataset = CustomImageDataset(test_x,test_y.reshape(-1,1))\n",
    "val_loader = DataLoader(val_dataset,batch_size=100)"
   ]
  },
  {
   "cell_type": "code",
   "execution_count": 37,
   "metadata": {},
   "outputs": [],
   "source": [
    "import torch.nn as nn\n",
    "class Net(nn.Module):\n",
    "    def __init__(self,input_length):\n",
    "        super().__init__()\n",
    "        self.input_length = input_length\n",
    "        self.fc1 = torch.nn.Linear(self.input_length,158)\n",
    "        self.ac1 = torch.nn.ReLU()\n",
    "        self.fc2 = torch.nn.Linear(158,158)\n",
    "        self.drop1 = torch.nn.Dropout(0.14)\n",
    "        self.ac2 = torch.nn.ReLU()\n",
    "        self.fc3 = torch.nn.Linear(158,158)\n",
    "        self.ac3 = torch.nn.ReLU()\n",
    "        self.out = torch.nn.Linear(158,1)\n",
    "    def forward(self,x):\n",
    "        out = self.drop1(self.ac1(self.fc1(x)))\n",
    "        out = self.ac2(self.fc2(out))\n",
    "        out = self.ac3(self.fc3(out))\n",
    "        return self.out(out)"
   ]
  },
  {
   "cell_type": "code",
   "execution_count": 38,
   "metadata": {},
   "outputs": [
    {
     "name": "stdout",
     "output_type": "stream",
     "text": [
      "Epcoh: 10, Train_loss 0.0411, Val_loss 0.0384\n",
      "Epcoh: 20, Train_loss 0.0396, Val_loss 0.0387\n",
      "Epcoh: 30, Train_loss 0.0296, Val_loss 0.0353\n",
      "Epcoh: 40, Train_loss 0.0303, Val_loss 0.0354\n",
      "Epcoh: 50, Train_loss 0.0234, Val_loss 0.0354\n",
      "Epcoh: 60, Train_loss 0.0206, Val_loss 0.0339\n",
      "Epcoh: 70, Train_loss 0.0136, Val_loss 0.0312\n",
      "Epcoh: 80, Train_loss 0.0201, Val_loss 0.0339\n",
      "Epcoh: 90, Train_loss 0.0131, Val_loss 0.0340\n",
      "Epcoh: 100, Train_loss 0.0080, Val_loss 0.0352\n",
      "Epcoh: 110, Train_loss 0.0087, Val_loss 0.0324\n",
      "Epcoh: 120, Train_loss 0.0100, Val_loss 0.0313\n",
      "Epcoh: 130, Train_loss 0.0114, Val_loss 0.0332\n",
      "Epcoh: 140, Train_loss 0.0106, Val_loss 0.0291\n",
      "Epcoh: 150, Train_loss 0.0068, Val_loss 0.0343\n",
      "Epcoh: 160, Train_loss 0.0076, Val_loss 0.0300\n",
      "Epcoh: 170, Train_loss 0.0081, Val_loss 0.0337\n",
      "Epcoh: 180, Train_loss 0.0064, Val_loss 0.0318\n",
      "Epcoh: 190, Train_loss 0.0098, Val_loss 0.0303\n",
      "Epcoh: 200, Train_loss 0.0049, Val_loss 0.0314\n",
      "Epcoh: 210, Train_loss 0.0035, Val_loss 0.0310\n",
      "Epcoh: 220, Train_loss 0.0040, Val_loss 0.0315\n",
      "Epcoh: 230, Train_loss 0.0040, Val_loss 0.0308\n",
      "Epcoh: 240, Train_loss 0.0033, Val_loss 0.0303\n",
      "Epcoh: 250, Train_loss 0.0084, Val_loss 0.0318\n",
      "Epcoh: 260, Train_loss 0.0067, Val_loss 0.0313\n",
      "Epcoh: 270, Train_loss 0.0078, Val_loss 0.0278\n",
      "Epcoh: 280, Train_loss 0.0045, Val_loss 0.0321\n",
      "Epcoh: 290, Train_loss 0.0074, Val_loss 0.0311\n",
      "Epcoh: 300, Train_loss 0.0037, Val_loss 0.0317\n",
      "Epcoh: 310, Train_loss 0.0050, Val_loss 0.0328\n",
      "Epcoh: 320, Train_loss 0.0041, Val_loss 0.0313\n",
      "Epcoh: 330, Train_loss 0.0034, Val_loss 0.0285\n",
      "Epcoh: 340, Train_loss 0.0041, Val_loss 0.0285\n",
      "Epcoh: 350, Train_loss 0.0066, Val_loss 0.0287\n",
      "Epcoh: 360, Train_loss 0.0044, Val_loss 0.0281\n",
      "Epcoh: 370, Train_loss 0.0017, Val_loss 0.0339\n",
      "Epcoh: 380, Train_loss 0.0021, Val_loss 0.0334\n",
      "Epcoh: 390, Train_loss 0.0074, Val_loss 0.0330\n",
      "Epcoh: 400, Train_loss 0.0040, Val_loss 0.0289\n",
      "Epcoh: 410, Train_loss 0.0024, Val_loss 0.0292\n",
      "Epcoh: 420, Train_loss 0.0024, Val_loss 0.0301\n",
      "Epcoh: 430, Train_loss 0.0048, Val_loss 0.0293\n",
      "Epcoh: 440, Train_loss 0.0029, Val_loss 0.0273\n",
      "Epcoh: 450, Train_loss 0.0045, Val_loss 0.0288\n",
      "Epcoh: 460, Train_loss 0.0023, Val_loss 0.0303\n",
      "Epcoh: 470, Train_loss 0.0016, Val_loss 0.0314\n",
      "Epcoh: 480, Train_loss 0.0057, Val_loss 0.0285\n",
      "Epcoh: 490, Train_loss 0.0041, Val_loss 0.0312\n",
      "Epcoh: 500, Train_loss 0.0032, Val_loss 0.0308\n",
      "Epcoh: 510, Train_loss 0.0059, Val_loss 0.0288\n",
      "Epcoh: 520, Train_loss 0.0038, Val_loss 0.0291\n",
      "Epcoh: 530, Train_loss 0.0021, Val_loss 0.0310\n",
      "Epcoh: 540, Train_loss 0.0025, Val_loss 0.0290\n",
      "Epcoh: 550, Train_loss 0.0018, Val_loss 0.0262\n",
      "Epcoh: 560, Train_loss 0.0023, Val_loss 0.0274\n",
      "Epcoh: 570, Train_loss 0.0022, Val_loss 0.0302\n",
      "Epcoh: 580, Train_loss 0.0019, Val_loss 0.0299\n",
      "Epcoh: 590, Train_loss 0.0029, Val_loss 0.0275\n",
      "Epcoh: 600, Train_loss 0.0023, Val_loss 0.0324\n",
      "Epcoh: 610, Train_loss 0.0019, Val_loss 0.0293\n",
      "Epcoh: 620, Train_loss 0.0014, Val_loss 0.0319\n",
      "Epcoh: 630, Train_loss 0.0015, Val_loss 0.0283\n",
      "Epcoh: 640, Train_loss 0.0017, Val_loss 0.0297\n",
      "Epcoh: 650, Train_loss 0.0007, Val_loss 0.0323\n",
      "Epcoh: 660, Train_loss 0.0032, Val_loss 0.0306\n",
      "Epcoh: 670, Train_loss 0.0027, Val_loss 0.0308\n",
      "Epcoh: 680, Train_loss 0.0028, Val_loss 0.0312\n",
      "Epcoh: 690, Train_loss 0.0022, Val_loss 0.0334\n",
      "Epcoh: 700, Train_loss 0.0030, Val_loss 0.0300\n",
      "Epcoh: 710, Train_loss 0.0013, Val_loss 0.0282\n",
      "Epcoh: 720, Train_loss 0.0063, Val_loss 0.0321\n",
      "Epcoh: 730, Train_loss 0.0036, Val_loss 0.0304\n",
      "Epcoh: 740, Train_loss 0.0083, Val_loss 0.0313\n",
      "Epcoh: 750, Train_loss 0.0017, Val_loss 0.0277\n",
      "Epcoh: 760, Train_loss 0.0063, Val_loss 0.0306\n",
      "Epcoh: 770, Train_loss 0.0021, Val_loss 0.0267\n",
      "Epcoh: 780, Train_loss 0.0046, Val_loss 0.0278\n",
      "Epcoh: 790, Train_loss 0.0023, Val_loss 0.0324\n",
      "Epcoh: 800, Train_loss 0.0011, Val_loss 0.0311\n",
      "Epcoh: 810, Train_loss 0.0016, Val_loss 0.0318\n",
      "Epcoh: 820, Train_loss 0.0009, Val_loss 0.0319\n",
      "Epcoh: 830, Train_loss 0.0016, Val_loss 0.0301\n",
      "Epcoh: 840, Train_loss 0.0015, Val_loss 0.0259\n",
      "Epcoh: 850, Train_loss 0.0014, Val_loss 0.0297\n",
      "Epcoh: 860, Train_loss 0.0010, Val_loss 0.0293\n",
      "Epcoh: 870, Train_loss 0.0026, Val_loss 0.0274\n",
      "Epcoh: 880, Train_loss 0.0018, Val_loss 0.0338\n",
      "Epcoh: 890, Train_loss 0.0020, Val_loss 0.0285\n",
      "Epcoh: 900, Train_loss 0.0012, Val_loss 0.0305\n",
      "Epcoh: 910, Train_loss 0.0053, Val_loss 0.0289\n",
      "Epcoh: 920, Train_loss 0.0006, Val_loss 0.0318\n",
      "Epcoh: 930, Train_loss 0.0025, Val_loss 0.0273\n",
      "Epcoh: 940, Train_loss 0.0008, Val_loss 0.0318\n",
      "Epcoh: 950, Train_loss 0.0008, Val_loss 0.0272\n",
      "Epcoh: 960, Train_loss 0.0015, Val_loss 0.0269\n",
      "Epcoh: 970, Train_loss 0.0040, Val_loss 0.0265\n",
      "Epcoh: 980, Train_loss 0.0007, Val_loss 0.0316\n",
      "Epcoh: 990, Train_loss 0.0016, Val_loss 0.0287\n",
      "Epcoh: 1000, Train_loss 0.0016, Val_loss 0.0279\n"
     ]
    }
   ],
   "source": [
    "import torch.optim as opt\n",
    "input_length = len(index_total)-1\n",
    "model = Net(input_length)\n",
    "loss_fn = torch.nn.MSELoss()\n",
    "optimizer = opt.Adam(model.parameters(),lr=0.001)\n",
    "hist_loss = []\n",
    "epoches = 1000    \n",
    "for epoch in range(1,epoches+1):\n",
    "    for x,y in train_loader:\n",
    "        y_pred = model(x)\n",
    "        loss = loss_fn(y,y_pred)\n",
    "        hist_loss.append(loss.item())\n",
    "        optimizer.zero_grad()\n",
    "        loss.backward()\n",
    "        optimizer.step()\n",
    "\n",
    "    if epoch%10 ==0:\n",
    "        \n",
    "        y_real= torch.Tensor(())\n",
    "        y_pred = torch.Tensor(())\n",
    "        with torch.no_grad():\n",
    "            for val_x,val_y in val_loader:\n",
    "                val_y_pre = model(val_x)\n",
    "\n",
    "                y_real=torch.cat((y_real,val_y),0)\n",
    "                y_pred = torch.cat((y_pred,val_y_pre),0)\n",
    "               \n",
    "        \n",
    "            val_loss = loss_fn(y_real,y_pred)\n",
    "        print('Epcoh: {}, Train_loss {:.4f}, Val_loss {:.4f}'.format(epoch,hist_loss[-1],val_loss))\n"
   ]
  },
  {
   "cell_type": "code",
   "execution_count": 39,
   "metadata": {},
   "outputs": [
    {
     "data": {
      "text/plain": [
       "<matplotlib.collections.PathCollection at 0x2b19e2bf490>"
      ]
     },
     "execution_count": 39,
     "metadata": {},
     "output_type": "execute_result"
    },
    {
     "data": {
      "image/png": "[encoded data removed]",
      "text/plain": [
       "<Figure size 432x288 with 1 Axes>"
      ]
     },
     "metadata": {
      "needs_background": "light"
     },
     "output_type": "display_data"
    }
   ],
   "source": [
    "import matplotlib.pyplot as plt\n",
    "plt.scatter(y_real.numpy(),y_pred.numpy())"
   ]
  },
  {
   "cell_type": "code",
   "execution_count": null,
   "metadata": {},
   "outputs": [],
   "source": []
  },
  {
   "cell_type": "code",
   "execution_count": null,
   "metadata": {},
   "outputs": [],
   "source": []
  },
  {
   "cell_type": "markdown",
   "metadata": {},
   "source": [
    "# More simple models"
   ]
  },
  {
   "cell_type": "code",
   "execution_count": 123,
   "metadata": {},
   "outputs": [],
   "source": []
  },
  {
   "cell_type": "code",
   "execution_count": 323,
   "metadata": {},
   "outputs": [],
   "source": [
    "#train_df.iloc[:,:-1]"
   ]
  },
  {
   "cell_type": "code",
   "execution_count": 124,
   "metadata": {},
   "outputs": [
    {
     "name": "stdout",
     "output_type": "stream",
     "text": [
      "Algorithm RF, Train_error 0.002343863416025343, Test_error 0.015287146195384878\n",
      "Algorithm ADB, Train_error 0.022402836206209285, Test_error 0.026940854279657384\n",
      "Algorithm GBR, Train_error 0.0067668944488893865, Test_error 0.016249261287813944\n",
      "Algorithm ETR, Train_error 1.365483638412439e-30, Test_error 0.014738808021953346\n"
     ]
    }
   ],
   "source": [
    "\n"
   ]
  },
  {
   "cell_type": "code",
   "execution_count": 127,
   "metadata": {},
   "outputs": [
    {
     "name": "stdout",
     "output_type": "stream",
     "text": [
      "0.8038830661461989\n"
     ]
    },
    {
     "data": {
      "text/plain": [
       "<matplotlib.collections.PathCollection at 0x17f1382e0>"
      ]
     },
     "execution_count": 127,
     "metadata": {},
     "output_type": "execute_result"
    },
    {
     "data": {
      "image/png": "[encoded data removed]",
      "text/plain": [
       "<Figure size 432x288 with 1 Axes>"
      ]
     },
     "metadata": {
      "needs_background": "light"
     },
     "output_type": "display_data"
    }
   ],
   "source": [
    "\n"
   ]
  },
  {
   "cell_type": "code",
   "execution_count": 15,
   "metadata": {},
   "outputs": [],
   "source": [
    "test_df['Vmic_pred'] = model.predict(test_x)\n",
    "test_df.to_csv(os.path.join(source_path,'test_pred.csv'))"
   ]
  },
  {
   "cell_type": "code",
   "execution_count": 28,
   "metadata": {},
   "outputs": [
    {
     "data": {
      "image/png": "[encoded data removed]",
      "text/plain": [
       "<Figure size 432x288 with 1 Axes>"
      ]
     },
     "metadata": {
      "needs_background": "light"
     },
     "output_type": "display_data"
    }
   ],
   "source": [
    "import matplotlib.pyplot as plt\n",
    "import numpy as np\n",
    "\n",
    "hl, = plt.plot([], [])\n",
    "def update_line(hl, new_data):\n",
    "    hl.set_xdata(np.append(hl.get_xdata(), new_data))\n",
    "    hl.set_ydata(np.append(hl.get_ydata(), new_data))\n",
    "    plt.draw()"
   ]
  },
  {
   "cell_type": "code",
   "execution_count": null,
   "metadata": {},
   "outputs": [],
   "source": []
  },
  {
   "cell_type": "markdown",
   "metadata": {},
   "source": [
    "# Leave-One-Out modeling for Vmic"
   ]
  },
  {
   "cell_type": "code",
   "execution_count": 87,
   "metadata": {},
   "outputs": [],
   "source": [
    "import pandas as pd \n",
    "import os\n",
    "source_path = '/Users/kai/Documents/Desktop/CO2_adsorption/new_data'\n",
    "file_name = 'Ethane&Ethylene'\n",
    "temp_data = pd.read_csv(os.path.join(source_path,file_name+'-fitting-01-10-2022.csv'))"
   ]
  },
  {
   "cell_type": "code",
   "execution_count": 94,
   "metadata": {},
   "outputs": [
    {
     "name": "stdout",
     "output_type": "stream",
     "text": [
      "[88, nan, 0.12428359902642427]\n",
      "[111, nan, 0.005602094289660763]\n",
      "[131, nan, 0.0007626136063834368]\n",
      "[154, nan, 0.017448781572767514]\n",
      "[175, nan, 0.010046996376417254]\n",
      "[196, nan, 2.9050054371961175e-05]\n",
      "[241, nan, 0.08143344934747204]\n",
      "[272, nan, 0.31163465489892045]\n",
      "[293, nan, 0.008629246022953133]\n",
      "[330, nan, 0.19876432044831835]\n",
      "[369, nan, 0.00794969597225505]\n",
      "[390, nan, 0.22214902997392633]\n",
      "[418, nan, 0.002925542196592018]\n"
     ]
    }
   ],
   "source": [
    "from sklearn.ensemble import RandomForestRegressor\n",
    "from sklearn.metrics import mean_squared_error\n",
    "\n",
    "test_mse = []\n",
    "temp_data = temp_data.dropna(axis=0,how = 'any',subset = [\"BET\",\"Vt\",'Vmic'])\n",
    "for i in list(set(temp_data['Index'].values)):\n",
    "    \n",
    "    if i not in ex_list:\n",
    "    \n",
    "        test_data = temp_data[temp_data['Index']==i]\n",
    "        train_data = temp_data[temp_data['Index']!=i]\n",
    "        \n",
    "        input_feature = ['E','V','L','BET','Vt','Vmic','Temp(K)','Pressure']\n",
    "        output = ['Adsorp(mmol/g)']\n",
    "        train_x = train_data[input_feature]\n",
    "        train_y = train_data[output].values.reshape(-1)\n",
    "        test_x = test_data[input_feature]\n",
    "        test_y = test_data[output].values.reshape(-1)\n",
    "        model = RandomForestRegressor(n_estimators=200,n_jobs=-1)\n",
    "        model.fit(train_x,train_y)\n",
    "        test_mse.append([i,r2_score(test_y,model.predict(test_x)),mean_squared_error(test_y,model.predict(test_x))])\n",
    "        if len(test_mse)%20==0:\n",
    "            print(test_mse[-1])"
   ]
  },
  {
   "cell_type": "code",
   "execution_count": 95,
   "metadata": {},
   "outputs": [],
   "source": [
    "pd.DataFrame(test_mse,columns=['group','r2','mse']).to_csv(os.path.join(source_path,'Ethane&Ethylene_Vmic_LOO_0110_ex_ex.csv'))"
   ]
  },
  {
   "cell_type": "code",
   "execution_count": 93,
   "metadata": {},
   "outputs": [],
   "source": [
    "# CO2 ex_list  = [173,485,489,685,814,815,867,1506,1600,1663,1855,1994,2126,431,823,824,1915] \n",
    "# Methane ex_list  = [102,144,145,150,173,188 ,228,264,346,375,398,457,458,487,555,606,614,774,785] \n",
    "# Hydrogen ex_list  = [0,1,2,9,10,11,12,47,58,68,74,80,87,89,100,190,250,263,283,297,299,300,310,344,370,376,407,442,445,453,476] \n",
    "ex_list = [51,74,90,99,105,170,270,240,179,134,274,302,361,382]"
   ]
  }
 ],
 "metadata": {
  "interpreter": {
   "hash": "26df051d01d2616f6647e27bd4efd6a94574ac1fcd9ed1884653373dfca90d07"
  },
  "kernelspec": {
   "display_name": "Python 3.9.9 64-bit ('torch_env': conda)",
   "language": "python",
   "name": "python3"
  },
  "language_info": {
   "codemirror_mode": {
    "name": "ipython",
    "version": 3
   },
   "file_extension": ".py",
   "mimetype": "text/x-python",
   "name": "python",
   "nbconvert_exporter": "python",
   "pygments_lexer": "ipython3",
   "version": "3.9.7"
  },
  "orig_nbformat": 4
 },
 "nbformat": 4,
 "nbformat_minor": 2
}
